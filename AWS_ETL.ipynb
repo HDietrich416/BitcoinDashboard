{
  "nbformat": 4,
  "nbformat_minor": 0,
  "metadata": {
    "colab": {
      "name": "AWS ETL.ipynb",
      "provenance": []
    },
    "kernelspec": {
      "name": "python3",
      "display_name": "Python 3"
    }
  },
  "cells": [
    {
      "cell_type": "code",
      "metadata": {
        "id": "cimHW5N_yg8p"
      },
      "source": [
        "!apt-get install openjdk-8-jdk-headless -qq > /dev/null\r\n",
        "!wget -q https://www-us.apache.org/dist/spark/spark-3.0.2/spark-3.0.2-bin-hadoop2.7.tgz\r\n",
        "!tar xf spark-3.0.2-bin-hadoop2.7.tgz\r\n",
        "!pip install -q findspark\r\n",
        "\r\n",
        "import os\r\n",
        "os.environ[\"JAVA_HOME\"] = \"/usr/lib/jvm/java-8-openjdk-amd64\"\r\n",
        "os.environ[\"SPARK_HOME\"] = \"/content/spark-3.0.2-bin-hadoop2.7\"\r\n",
        "\r\n",
        "import findspark\r\n",
        "findspark.init()\r\n",
        "\r\n",
        "from pyspark.sql import SparkSession \r\n",
        "spark = SparkSession.builder.appName(\"Basics\").config(\"spark.driver.extraClassPath\",\"/content/postgresql-42.2.9.jar\").getOrCreate()"
      ],
      "execution_count": null,
      "outputs": []
    },
    {
      "cell_type": "code",
      "metadata": {
        "id": "NEpRutKNyp16"
      },
      "source": [
        "url ='https://hdietrichawsbucket.s3.ca-central-1.amazonaws.com/employee.csv'"
      ],
      "execution_count": null,
      "outputs": []
    },
    {
      "cell_type": "code",
      "metadata": {
        "id": "AW5DPeLKyqEA"
      },
      "source": [
        "from pyspark import SparkFiles\r\n",
        "\r\n",
        "spark.sparkContext.addFile(url)\r\n",
        "df = spark.read.csv(SparkFiles.get(\"employee.csv\"), sep=\",\", header=True)\r\n"
      ],
      "execution_count": null,
      "outputs": []
    },
    {
      "cell_type": "code",
      "metadata": {
        "colab": {
          "base_uri": "https://localhost:8080/"
        },
        "id": "XeTvDaHKzZmt",
        "outputId": "0090d72b-a378-48ef-bd16-19b9174be654"
      },
      "source": [
        "df.show()"
      ],
      "execution_count": null,
      "outputs": [
        {
          "output_type": "stream",
          "text": [
            "+---+-----------+--------+--------------------+--------+--------------+------+---------+--------+--------------+----------------+--------------------+------------+\n",
            "|_c0|Employee ID|   Email|            Position|     DOB|Marital Status|Gender|Hire Date|Salaried|Vacation Hours|Sick Leave Hours|  Encrypted Password|    Modified|\n",
            "+---+-----------+--------+--------------------+--------+--------------+------+---------+--------+--------------+----------------+--------------------+------------+\n",
            "|  1|  295847284|    ken0|Chief Executive O...| 1/29/69|             S|     M|  1/14/09|       1|            99|              69|F01251E5-96A3-448...|6/30/14 0:00|\n",
            "|  2|  245797967|  terri0|Vice President of...|  8/1/71|             S|     F|  1/31/08|       1|             1|              20|45E8F437-670D-440...|6/30/14 0:00|\n",
            "|  3|  509647174|roberto0| Engineering Manager|11/12/74|             M|     M| 11/11/07|       1|             2|              21|9BBBFB2C-EFBB-421...|6/30/14 0:00|\n",
            "|  4|  112457891|    rob0|Senior Tool Designer|12/23/74|             S|     M|  12/5/07|       0|            48|              80|59747955-87B8-443...|6/30/14 0:00|\n",
            "|  5|  695256908|   gail0|     Design Engineer| 9/27/52|             M|     F|   1/6/08|       1|             5|              22|EC84AE09-F9B8-4A1...|6/30/14 0:00|\n",
            "|  6|  998320692| jossef0|     Design Engineer| 3/11/59|             M|     M|  1/24/08|       1|             6|              23|E39056F1-9CD5-478...|6/30/14 0:00|\n",
            "|  7|  134969118|  dylan0|Research and Deve...| 2/24/87|             M|     M|   2/8/09|       1|            61|              50|4F46DECA-EF01-41F...|6/30/14 0:00|\n",
            "|  8|  811994146|  diane1|Research and Deve...|  6/5/86|             S|     F| 12/29/08|       1|            62|              51|31112635-663B-401...|6/30/14 0:00|\n",
            "|  9|  658797903|   gigi0|Research and Deve...| 1/21/79|             M|     F|  1/16/09|       1|            63|              51|50B6CDC6-7570-47E...|6/30/14 0:00|\n",
            "| 10|  879342154|michael6|Research and Deve...|11/30/84|             M|     M|   5/3/09|       1|            16|              64|EAA43680-5571-40C...|6/30/14 0:00|\n",
            "| 11|  974026903| ovidiu0|Senior Tool Designer| 1/17/78|             S|     M|  12/5/10|       0|             7|              23|F68C7C19-FAC1-438...|6/30/14 0:00|\n",
            "| 12|  480168528|thierry0|       Tool Designer| 7/29/59|             M|     M| 12/11/07|       0|             9|              24|1D955171-E773-4FA...|6/30/14 0:00|\n",
            "| 13|  486228782| janice0|       Tool Designer| 5/28/89|             M|     F| 12/23/10|       0|             8|              24|954B91B6-5AA7-48C...|6/30/14 0:00|\n",
            "| 14|   42487730|michael8|Senior Design Eng...| 6/16/79|             S|     M| 12/30/10|       1|             3|              21|46286CA4-46DD-4DD...|6/30/14 0:00|\n",
            "| 15|   56920285| sharon0|     Design Engineer|  5/2/61|             M|     F|  1/18/11|       1|             4|              22|54F2FDC0-87C4-406...|6/30/14 0:00|\n",
            "| 16|   24756624|  david0|   Marketing Manager| 3/19/75|             S|     M| 12/20/07|       1|            40|              40|E87029AA-2CBA-4C0...|6/30/14 0:00|\n",
            "| 17|  253022876|  kevin0| Marketing Assistant|  5/3/87|             S|     M|  1/26/07|       0|            42|              41|1B480240-95C0-410...|6/30/14 0:00|\n",
            "| 18|  222969461|   john5|Marketing Specialist|  3/6/78|             S|     M|   2/7/11|       0|            48|              44|64730415-1F58-4E5...|6/30/14 0:00|\n",
            "| 19|   52541318|   mary2| Marketing Assistant| 1/29/78|             S|     F|  2/14/11|       0|            43|              41|1F6DA901-C7F7-48A...|6/30/14 0:00|\n",
            "| 20|  323403273| wanida0| Marketing Assistant| 3/17/75|             M|     F|   1/7/11|       0|            41|              40|43CCA446-DA1C-454...|6/30/14 0:00|\n",
            "+---+-----------+--------+--------------------+--------+--------------+------+---------+--------+--------------+----------------+--------------------+------------+\n",
            "only showing top 20 rows\n",
            "\n"
          ],
          "name": "stdout"
        }
      ]
    },
    {
      "cell_type": "code",
      "metadata": {
        "id": "hKBUeOY-1jFG"
      },
      "source": [
        "server= \"bootcampdb.cmwhqarpyd9v.ca-central-1.rds.amazonaws.com\"\r\n",
        "database = \"postgres\"\r\n",
        "port =\"5432\"\r\n",
        "username = \"root\"\r\n",
        "password = \"xy92Hdie\""
      ],
      "execution_count": null,
      "outputs": []
    },
    {
      "cell_type": "code",
      "metadata": {
        "id": "AO8pIr4s1y7x"
      },
      "source": [
        "conn = f\"postgres://{username}:{password}@{server}:{port}/{database}\""
      ],
      "execution_count": null,
      "outputs": []
    },
    {
      "cell_type": "code",
      "metadata": {
        "colab": {
          "base_uri": "https://localhost:8080/"
        },
        "id": "C8TkgYxw1_uZ",
        "outputId": "d65324d2-bd84-480d-e690-bd36cff3dde3"
      },
      "source": [
        "from sqlalchemy import create_engine\r\n",
        "\r\n",
        "engine = create_engine(conn, echo=False)"
      ],
      "execution_count": null,
      "outputs": [
        {
          "output_type": "stream",
          "text": [
            "/usr/local/lib/python3.7/dist-packages/psycopg2/__init__.py:144: UserWarning: The psycopg2 wheel package will be renamed from release 2.8; in order to keep installing from binary please use \"pip install psycopg2-binary\" instead. For details see: <http://initd.org/psycopg/docs/install.html#binary-install-from-pypi>.\n",
            "  \"\"\")\n"
          ],
          "name": "stderr"
        }
      ]
    },
    {
      "cell_type": "code",
      "metadata": {
        "id": "Nhz-k81e1_2H"
      },
      "source": [
        "pandas_df = df.toPandas()"
      ],
      "execution_count": null,
      "outputs": []
    },
    {
      "cell_type": "code",
      "metadata": {
        "colab": {
          "base_uri": "https://localhost:8080/",
          "height": 323
        },
        "id": "BKVSaiJr1_96",
        "outputId": "cfcc071c-6d53-4863-dd3b-43c169b5c387"
      },
      "source": [
        "pandas_df.head()"
      ],
      "execution_count": null,
      "outputs": [
        {
          "output_type": "execute_result",
          "data": {
            "text/html": [
              "<div>\n",
              "<style scoped>\n",
              "    .dataframe tbody tr th:only-of-type {\n",
              "        vertical-align: middle;\n",
              "    }\n",
              "\n",
              "    .dataframe tbody tr th {\n",
              "        vertical-align: top;\n",
              "    }\n",
              "\n",
              "    .dataframe thead th {\n",
              "        text-align: right;\n",
              "    }\n",
              "</style>\n",
              "<table border=\"1\" class=\"dataframe\">\n",
              "  <thead>\n",
              "    <tr style=\"text-align: right;\">\n",
              "      <th></th>\n",
              "      <th>_c0</th>\n",
              "      <th>Employee ID</th>\n",
              "      <th>Email</th>\n",
              "      <th>Position</th>\n",
              "      <th>DOB</th>\n",
              "      <th>Marital Status</th>\n",
              "      <th>Gender</th>\n",
              "      <th>Hire Date</th>\n",
              "      <th>Salaried</th>\n",
              "      <th>Vacation Hours</th>\n",
              "      <th>Sick Leave Hours</th>\n",
              "      <th>Encrypted Password</th>\n",
              "      <th>Modified</th>\n",
              "    </tr>\n",
              "  </thead>\n",
              "  <tbody>\n",
              "    <tr>\n",
              "      <th>0</th>\n",
              "      <td>1</td>\n",
              "      <td>295847284</td>\n",
              "      <td>ken0</td>\n",
              "      <td>Chief Executive Officer</td>\n",
              "      <td>1/29/69</td>\n",
              "      <td>S</td>\n",
              "      <td>M</td>\n",
              "      <td>1/14/09</td>\n",
              "      <td>1</td>\n",
              "      <td>99</td>\n",
              "      <td>69</td>\n",
              "      <td>F01251E5-96A3-448D-981E-0F99D789110D</td>\n",
              "      <td>6/30/14 0:00</td>\n",
              "    </tr>\n",
              "    <tr>\n",
              "      <th>1</th>\n",
              "      <td>2</td>\n",
              "      <td>245797967</td>\n",
              "      <td>terri0</td>\n",
              "      <td>Vice President of Engineering</td>\n",
              "      <td>8/1/71</td>\n",
              "      <td>S</td>\n",
              "      <td>F</td>\n",
              "      <td>1/31/08</td>\n",
              "      <td>1</td>\n",
              "      <td>1</td>\n",
              "      <td>20</td>\n",
              "      <td>45E8F437-670D-4409-93CB-F9424A40D6EE</td>\n",
              "      <td>6/30/14 0:00</td>\n",
              "    </tr>\n",
              "    <tr>\n",
              "      <th>2</th>\n",
              "      <td>3</td>\n",
              "      <td>509647174</td>\n",
              "      <td>roberto0</td>\n",
              "      <td>Engineering Manager</td>\n",
              "      <td>11/12/74</td>\n",
              "      <td>M</td>\n",
              "      <td>M</td>\n",
              "      <td>11/11/07</td>\n",
              "      <td>1</td>\n",
              "      <td>2</td>\n",
              "      <td>21</td>\n",
              "      <td>9BBBFB2C-EFBB-4217-9AB7-F97689328841</td>\n",
              "      <td>6/30/14 0:00</td>\n",
              "    </tr>\n",
              "    <tr>\n",
              "      <th>3</th>\n",
              "      <td>4</td>\n",
              "      <td>112457891</td>\n",
              "      <td>rob0</td>\n",
              "      <td>Senior Tool Designer</td>\n",
              "      <td>12/23/74</td>\n",
              "      <td>S</td>\n",
              "      <td>M</td>\n",
              "      <td>12/5/07</td>\n",
              "      <td>0</td>\n",
              "      <td>48</td>\n",
              "      <td>80</td>\n",
              "      <td>59747955-87B8-443F-8ED4-F8AD3AFDF3A9</td>\n",
              "      <td>6/30/14 0:00</td>\n",
              "    </tr>\n",
              "    <tr>\n",
              "      <th>4</th>\n",
              "      <td>5</td>\n",
              "      <td>695256908</td>\n",
              "      <td>gail0</td>\n",
              "      <td>Design Engineer</td>\n",
              "      <td>9/27/52</td>\n",
              "      <td>M</td>\n",
              "      <td>F</td>\n",
              "      <td>1/6/08</td>\n",
              "      <td>1</td>\n",
              "      <td>5</td>\n",
              "      <td>22</td>\n",
              "      <td>EC84AE09-F9B8-4A15-B4A9-6CCBAB919B08</td>\n",
              "      <td>6/30/14 0:00</td>\n",
              "    </tr>\n",
              "  </tbody>\n",
              "</table>\n",
              "</div>"
            ],
            "text/plain": [
              "  _c0 Employee ID  ...                    Encrypted Password      Modified\n",
              "0   1   295847284  ...  F01251E5-96A3-448D-981E-0F99D789110D  6/30/14 0:00\n",
              "1   2   245797967  ...  45E8F437-670D-4409-93CB-F9424A40D6EE  6/30/14 0:00\n",
              "2   3   509647174  ...  9BBBFB2C-EFBB-4217-9AB7-F97689328841  6/30/14 0:00\n",
              "3   4   112457891  ...  59747955-87B8-443F-8ED4-F8AD3AFDF3A9  6/30/14 0:00\n",
              "4   5   695256908  ...  EC84AE09-F9B8-4A15-B4A9-6CCBAB919B08  6/30/14 0:00\n",
              "\n",
              "[5 rows x 13 columns]"
            ]
          },
          "metadata": {
            "tags": []
          },
          "execution_count": 9
        }
      ]
    },
    {
      "cell_type": "code",
      "metadata": {
        "id": "iMAoG8ro4gqh"
      },
      "source": [
        "pandas_df.to_sql(\"employee\", con=engine, if_exists = 'replace')"
      ],
      "execution_count": null,
      "outputs": []
    },
    {
      "cell_type": "code",
      "metadata": {
        "colab": {
          "base_uri": "https://localhost:8080/",
          "height": 323
        },
        "id": "ujf2BUHc4mD8",
        "outputId": "fb80727b-10b1-4d34-858f-002afcf22ced"
      },
      "source": [
        "import pandas as pd\r\n",
        "final_df = pd.read_sql_table(\"employee\", conn)\r\n",
        "final_df.head()"
      ],
      "execution_count": null,
      "outputs": [
        {
          "output_type": "execute_result",
          "data": {
            "text/html": [
              "<div>\n",
              "<style scoped>\n",
              "    .dataframe tbody tr th:only-of-type {\n",
              "        vertical-align: middle;\n",
              "    }\n",
              "\n",
              "    .dataframe tbody tr th {\n",
              "        vertical-align: top;\n",
              "    }\n",
              "\n",
              "    .dataframe thead th {\n",
              "        text-align: right;\n",
              "    }\n",
              "</style>\n",
              "<table border=\"1\" class=\"dataframe\">\n",
              "  <thead>\n",
              "    <tr style=\"text-align: right;\">\n",
              "      <th></th>\n",
              "      <th>index</th>\n",
              "      <th>_c0</th>\n",
              "      <th>Employee ID</th>\n",
              "      <th>Email</th>\n",
              "      <th>Position</th>\n",
              "      <th>DOB</th>\n",
              "      <th>Marital Status</th>\n",
              "      <th>Gender</th>\n",
              "      <th>Hire Date</th>\n",
              "      <th>Salaried</th>\n",
              "      <th>Vacation Hours</th>\n",
              "      <th>Sick Leave Hours</th>\n",
              "      <th>Encrypted Password</th>\n",
              "      <th>Modified</th>\n",
              "    </tr>\n",
              "  </thead>\n",
              "  <tbody>\n",
              "    <tr>\n",
              "      <th>0</th>\n",
              "      <td>0</td>\n",
              "      <td>1</td>\n",
              "      <td>295847284</td>\n",
              "      <td>ken0</td>\n",
              "      <td>Chief Executive Officer</td>\n",
              "      <td>1/29/69</td>\n",
              "      <td>S</td>\n",
              "      <td>M</td>\n",
              "      <td>1/14/09</td>\n",
              "      <td>1</td>\n",
              "      <td>99</td>\n",
              "      <td>69</td>\n",
              "      <td>F01251E5-96A3-448D-981E-0F99D789110D</td>\n",
              "      <td>6/30/14 0:00</td>\n",
              "    </tr>\n",
              "    <tr>\n",
              "      <th>1</th>\n",
              "      <td>1</td>\n",
              "      <td>2</td>\n",
              "      <td>245797967</td>\n",
              "      <td>terri0</td>\n",
              "      <td>Vice President of Engineering</td>\n",
              "      <td>8/1/71</td>\n",
              "      <td>S</td>\n",
              "      <td>F</td>\n",
              "      <td>1/31/08</td>\n",
              "      <td>1</td>\n",
              "      <td>1</td>\n",
              "      <td>20</td>\n",
              "      <td>45E8F437-670D-4409-93CB-F9424A40D6EE</td>\n",
              "      <td>6/30/14 0:00</td>\n",
              "    </tr>\n",
              "    <tr>\n",
              "      <th>2</th>\n",
              "      <td>2</td>\n",
              "      <td>3</td>\n",
              "      <td>509647174</td>\n",
              "      <td>roberto0</td>\n",
              "      <td>Engineering Manager</td>\n",
              "      <td>11/12/74</td>\n",
              "      <td>M</td>\n",
              "      <td>M</td>\n",
              "      <td>11/11/07</td>\n",
              "      <td>1</td>\n",
              "      <td>2</td>\n",
              "      <td>21</td>\n",
              "      <td>9BBBFB2C-EFBB-4217-9AB7-F97689328841</td>\n",
              "      <td>6/30/14 0:00</td>\n",
              "    </tr>\n",
              "    <tr>\n",
              "      <th>3</th>\n",
              "      <td>3</td>\n",
              "      <td>4</td>\n",
              "      <td>112457891</td>\n",
              "      <td>rob0</td>\n",
              "      <td>Senior Tool Designer</td>\n",
              "      <td>12/23/74</td>\n",
              "      <td>S</td>\n",
              "      <td>M</td>\n",
              "      <td>12/5/07</td>\n",
              "      <td>0</td>\n",
              "      <td>48</td>\n",
              "      <td>80</td>\n",
              "      <td>59747955-87B8-443F-8ED4-F8AD3AFDF3A9</td>\n",
              "      <td>6/30/14 0:00</td>\n",
              "    </tr>\n",
              "    <tr>\n",
              "      <th>4</th>\n",
              "      <td>4</td>\n",
              "      <td>5</td>\n",
              "      <td>695256908</td>\n",
              "      <td>gail0</td>\n",
              "      <td>Design Engineer</td>\n",
              "      <td>9/27/52</td>\n",
              "      <td>M</td>\n",
              "      <td>F</td>\n",
              "      <td>1/6/08</td>\n",
              "      <td>1</td>\n",
              "      <td>5</td>\n",
              "      <td>22</td>\n",
              "      <td>EC84AE09-F9B8-4A15-B4A9-6CCBAB919B08</td>\n",
              "      <td>6/30/14 0:00</td>\n",
              "    </tr>\n",
              "  </tbody>\n",
              "</table>\n",
              "</div>"
            ],
            "text/plain": [
              "   index _c0  ...                    Encrypted Password      Modified\n",
              "0      0   1  ...  F01251E5-96A3-448D-981E-0F99D789110D  6/30/14 0:00\n",
              "1      1   2  ...  45E8F437-670D-4409-93CB-F9424A40D6EE  6/30/14 0:00\n",
              "2      2   3  ...  9BBBFB2C-EFBB-4217-9AB7-F97689328841  6/30/14 0:00\n",
              "3      3   4  ...  59747955-87B8-443F-8ED4-F8AD3AFDF3A9  6/30/14 0:00\n",
              "4      4   5  ...  EC84AE09-F9B8-4A15-B4A9-6CCBAB919B08  6/30/14 0:00\n",
              "\n",
              "[5 rows x 14 columns]"
            ]
          },
          "metadata": {
            "tags": []
          },
          "execution_count": 11
        }
      ]
    },
    {
      "cell_type": "code",
      "metadata": {
        "colab": {
          "base_uri": "https://localhost:8080/"
        },
        "id": "VQLLtxcY9BGu",
        "outputId": "d46aa5ec-62af-455e-929d-e7c72372a909"
      },
      "source": [
        "!wget https://jdbc.postgresql.org/download/postgresql-42.2.9.jar"
      ],
      "execution_count": null,
      "outputs": [
        {
          "output_type": "stream",
          "text": [
            "--2021-03-12 01:43:24--  https://jdbc.postgresql.org/download/postgresql-42.2.9.jar\n",
            "Resolving jdbc.postgresql.org (jdbc.postgresql.org)... 72.32.157.228, 2001:4800:3e1:1::228\n",
            "Connecting to jdbc.postgresql.org (jdbc.postgresql.org)|72.32.157.228|:443... connected.\n",
            "HTTP request sent, awaiting response... 200 OK\n",
            "Length: 914037 (893K) [application/java-archive]\n",
            "Saving to: ‘postgresql-42.2.9.jar.5’\n",
            "\n",
            "postgresql-42.2.9.j 100%[===================>] 892.61K  --.-KB/s    in 0.1s    \n",
            "\n",
            "2021-03-12 01:43:24 (5.99 MB/s) - ‘postgresql-42.2.9.jar.5’ saved [914037/914037]\n",
            "\n"
          ],
          "name": "stdout"
        }
      ]
    },
    {
      "cell_type": "code",
      "metadata": {
        "id": "wsd16kii4mOc"
      },
      "source": [
        "mode = 'append'\r\n",
        "jdbc_conn = f\"jdbc:postgresql://{server}:{port}/{database}\"\r\n",
        "config = {\"user\":\"root\", \"password\":\"xy92Hdie\",\"driver\":\"org.postgresql.Driver\"}"
      ],
      "execution_count": null,
      "outputs": []
    },
    {
      "cell_type": "code",
      "metadata": {
        "id": "wM4wOgJi9AeI"
      },
      "source": [
        "df.write.jdbc(url=jdbc_conn, table=\"employee1\", mode=mode, properties=config)"
      ],
      "execution_count": null,
      "outputs": []
    }
  ]
}