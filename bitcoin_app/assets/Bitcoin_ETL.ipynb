{
  "nbformat": 4,
  "nbformat_minor": 0,
  "metadata": {
    "kernelspec": {
      "display_name": "Python 3",
      "language": "python",
      "name": "python3"
    },
    "language_info": {
      "codemirror_mode": {
        "name": "ipython",
        "version": 3
      },
      "file_extension": ".py",
      "mimetype": "text/x-python",
      "name": "python",
      "nbconvert_exporter": "python",
      "pygments_lexer": "ipython3",
      "version": "3.8.3"
    },
    "colab": {
      "name": "Bitcoin_ETL.ipynb",
      "provenance": []
    }
  },
  "cells": [
    {
      "cell_type": "code",
      "metadata": {
        "id": "BqLWy2DsUssm"
      },
      "source": [
        "# Import Dependencies\n",
        "\n",
        "import pandas as pd\n",
        "from fbprophet import Prophet\n",
        "import requests\n",
        "from pprint import pprint\n",
        "from datetime import datetime, timedelta\n",
        "from bs4 import BeautifulSoup as bs\n"
      ],
      "execution_count": 42,
      "outputs": []
    },
    {
      "cell_type": "code",
      "metadata": {
        "id": "Jn-4SfnYUssr"
      },
      "source": [
        "# Read Bitcoin daily data from Alpha Vantage API\n",
        "\n",
        "av_api_key = 'IYOYBP274BRSLPM0'\n",
        "\n",
        "url = \"https://www.alphavantage.co/query?function=DIGITAL_CURRENCY_DAILY&symbol=BTC&market=CAD&apikey={av_api_key}\"\n",
        "\n",
        "data = requests.get(url).json()\n",
        "bc_data = data[\"Time Series (Digital Currency Daily)\"]"
      ],
      "execution_count": 2,
      "outputs": []
    },
    {
      "cell_type": "code",
      "metadata": {
        "id": "llADr3fmXpNw"
      },
      "source": [
        "# Loop through json response API data and transform into lists in python to create pandas dataframe\r\n",
        "\r\n",
        "date = []\r\n",
        "open_CAD = []\r\n",
        "open_USD = []\r\n",
        "high_CAD = []\r\n",
        "high_USD = []\r\n",
        "low_CAD = []\r\n",
        "low_USD = []\r\n",
        "close_CAD = []\r\n",
        "close_USD = []\r\n",
        "volume = []\r\n",
        "\r\n",
        "date = list(bc_data.keys())\r\n",
        "\r\n",
        "for d in date:\r\n",
        "  value = bc_data[d]\r\n",
        "  close_CAD.append(value['4a. close (CAD)'])\r\n",
        "  close_USD.append(value['4b. close (USD)'])\r\n",
        "  volume.append(value['5. volume'])\r\n",
        "  open_CAD.append(value['1a. open (CAD)'])\r\n",
        "  open_USD.append(value['1b. open (USD)'])\r\n",
        "  high_CAD.append(value['2a. high (CAD)'])\r\n",
        "  high_USD.append(value['2b. high (USD)'])\r\n",
        "  low_CAD.append(value['3a. low (CAD)'])\r\n",
        "  low_USD.append(value['3b. low (USD)'])"
      ],
      "execution_count": 3,
      "outputs": []
    },
    {
      "cell_type": "code",
      "metadata": {
        "colab": {
          "base_uri": "https://localhost:8080/",
          "height": 289
        },
        "id": "Lz5A9T4OUsst",
        "outputId": "71b5b788-e936-4353-f43d-a0ecbd41b0fd"
      },
      "source": [
        "# Create Pandas dataframe\r\n",
        "\r\n",
        "df = pd.DataFrame({\"Date\": date, \"Open_CAD\": open_CAD, \"Open_USD\": open_USD, \"High_CAD\": high_CAD, \"High_USD\": high_USD, \"Low_CAD\": low_CAD, \"Low_USD\": low_USD, \"Close_CAD\": close_CAD, \"Close_USD\":close_USD, \"Volume\":volume})\r\n",
        "df.head()"
      ],
      "execution_count": 4,
      "outputs": [
        {
          "output_type": "execute_result",
          "data": {
            "text/html": [
              "<div>\n",
              "<style scoped>\n",
              "    .dataframe tbody tr th:only-of-type {\n",
              "        vertical-align: middle;\n",
              "    }\n",
              "\n",
              "    .dataframe tbody tr th {\n",
              "        vertical-align: top;\n",
              "    }\n",
              "\n",
              "    .dataframe thead th {\n",
              "        text-align: right;\n",
              "    }\n",
              "</style>\n",
              "<table border=\"1\" class=\"dataframe\">\n",
              "  <thead>\n",
              "    <tr style=\"text-align: right;\">\n",
              "      <th></th>\n",
              "      <th>Date</th>\n",
              "      <th>Open_CAD</th>\n",
              "      <th>Open_USD</th>\n",
              "      <th>High_CAD</th>\n",
              "      <th>High_USD</th>\n",
              "      <th>Low_CAD</th>\n",
              "      <th>Low_USD</th>\n",
              "      <th>Close_CAD</th>\n",
              "      <th>Close_USD</th>\n",
              "      <th>Volume</th>\n",
              "    </tr>\n",
              "  </thead>\n",
              "  <tbody>\n",
              "    <tr>\n",
              "      <th>0</th>\n",
              "      <td>2021-03-13</td>\n",
              "      <td>71355.48484000</td>\n",
              "      <td>57221.72000000</td>\n",
              "      <td>71462.07840000</td>\n",
              "      <td>57307.20000000</td>\n",
              "      <td>70222.19877000</td>\n",
              "      <td>56312.91000000</td>\n",
              "      <td>70737.49658000</td>\n",
              "      <td>56726.14000000</td>\n",
              "      <td>2339.10214500</td>\n",
              "    </tr>\n",
              "    <tr>\n",
              "      <th>1</th>\n",
              "      <td>2021-03-12</td>\n",
              "      <td>72043.11805000</td>\n",
              "      <td>57773.15000000</td>\n",
              "      <td>72427.64297000</td>\n",
              "      <td>58081.51000000</td>\n",
              "      <td>68538.66148000</td>\n",
              "      <td>54962.84000000</td>\n",
              "      <td>71355.48484000</td>\n",
              "      <td>57221.72000000</td>\n",
              "      <td>73405.40604700</td>\n",
              "    </tr>\n",
              "    <tr>\n",
              "      <th>2</th>\n",
              "      <td>2021-03-11</td>\n",
              "      <td>69646.93273000</td>\n",
              "      <td>55851.59000000</td>\n",
              "      <td>72513.05000000</td>\n",
              "      <td>58150.00000000</td>\n",
              "      <td>67678.20654000</td>\n",
              "      <td>54272.82000000</td>\n",
              "      <td>72043.13052000</td>\n",
              "      <td>57773.16000000</td>\n",
              "      <td>81914.81285900</td>\n",
              "    </tr>\n",
              "    <tr>\n",
              "      <th>3</th>\n",
              "      <td>2021-03-10</td>\n",
              "      <td>68428.71349000</td>\n",
              "      <td>54874.67000000</td>\n",
              "      <td>71562.44943000</td>\n",
              "      <td>57387.69000000</td>\n",
              "      <td>66097.23500000</td>\n",
              "      <td>53005.00000000</td>\n",
              "      <td>69646.93273000</td>\n",
              "      <td>55851.59000000</td>\n",
              "      <td>84749.23894300</td>\n",
              "    </tr>\n",
              "    <tr>\n",
              "      <th>4</th>\n",
              "      <td>2021-03-09</td>\n",
              "      <td>65311.84946000</td>\n",
              "      <td>52375.18000000</td>\n",
              "      <td>68454.06500000</td>\n",
              "      <td>54895.00000000</td>\n",
              "      <td>64581.39427000</td>\n",
              "      <td>51789.41000000</td>\n",
              "      <td>68440.97150000</td>\n",
              "      <td>54884.50000000</td>\n",
              "      <td>71656.73707600</td>\n",
              "    </tr>\n",
              "  </tbody>\n",
              "</table>\n",
              "</div>"
            ],
            "text/plain": [
              "         Date        Open_CAD  ...       Close_USD          Volume\n",
              "0  2021-03-13  71355.48484000  ...  56726.14000000   2339.10214500\n",
              "1  2021-03-12  72043.11805000  ...  57221.72000000  73405.40604700\n",
              "2  2021-03-11  69646.93273000  ...  57773.16000000  81914.81285900\n",
              "3  2021-03-10  68428.71349000  ...  55851.59000000  84749.23894300\n",
              "4  2021-03-09  65311.84946000  ...  54884.50000000  71656.73707600\n",
              "\n",
              "[5 rows x 10 columns]"
            ]
          },
          "metadata": {
            "tags": []
          },
          "execution_count": 4
        }
      ]
    },
    {
      "cell_type": "code",
      "metadata": {
        "id": "ldK0itaJfg6F"
      },
      "source": [
        "# Read Bitcoin crypto rating data from Alpha Vantage API\r\n",
        "\r\n",
        "\r\n",
        "crypto_rating_url = 'https://www.alphavantage.co/query?function=CRYPTO_RATING&symbol=BTC&apikey={av_api_key}'\r\n",
        "\r\n",
        "rating_data = requests.get(crypto_rating_url).json()\r\n",
        "\r\n",
        "rating = rating_data['Crypto Rating (FCAS)']['3. fcas rating']\r\n",
        "score = rating_data['Crypto Rating (FCAS)']['4. fcas score']\r\n",
        "refresh_date = rating_data['Crypto Rating (FCAS)']['8. last refreshed']\r\n"
      ],
      "execution_count": 5,
      "outputs": []
    },
    {
      "cell_type": "code",
      "metadata": {
        "colab": {
          "base_uri": "https://localhost:8080/",
          "height": 79
        },
        "id": "UTMm0jmTfgzI",
        "outputId": "bfb80598-030a-4371-b5d8-13e34e8c45ad"
      },
      "source": [
        "# Create a pandas df\r\n",
        "\r\n",
        "rating_df = pd.DataFrame({\"Date\": refresh_date, \"Rank\": rating, \"Score\": score}, index=[0])\r\n",
        "rating_df "
      ],
      "execution_count": 7,
      "outputs": [
        {
          "output_type": "execute_result",
          "data": {
            "text/html": [
              "<div>\n",
              "<style scoped>\n",
              "    .dataframe tbody tr th:only-of-type {\n",
              "        vertical-align: middle;\n",
              "    }\n",
              "\n",
              "    .dataframe tbody tr th {\n",
              "        vertical-align: top;\n",
              "    }\n",
              "\n",
              "    .dataframe thead th {\n",
              "        text-align: right;\n",
              "    }\n",
              "</style>\n",
              "<table border=\"1\" class=\"dataframe\">\n",
              "  <thead>\n",
              "    <tr style=\"text-align: right;\">\n",
              "      <th></th>\n",
              "      <th>Date</th>\n",
              "      <th>Rank</th>\n",
              "      <th>Score</th>\n",
              "    </tr>\n",
              "  </thead>\n",
              "  <tbody>\n",
              "    <tr>\n",
              "      <th>0</th>\n",
              "      <td>2021-03-13 00:00:00</td>\n",
              "      <td>Superb</td>\n",
              "      <td>907</td>\n",
              "    </tr>\n",
              "  </tbody>\n",
              "</table>\n",
              "</div>"
            ],
            "text/plain": [
              "                  Date    Rank Score\n",
              "0  2021-03-13 00:00:00  Superb   907"
            ]
          },
          "metadata": {
            "tags": []
          },
          "execution_count": 7
        }
      ]
    },
    {
      "cell_type": "code",
      "metadata": {
        "id": "0sY4vbLl5lIP"
      },
      "source": [
        "# Coin Market Cap URL of page to be scraped for Market Cap data\r\n",
        "\r\n",
        "cmc_url = 'https://coinmarketcap.com/'\r\n",
        "\r\n",
        "# Retrieve page with the requests module\r\n",
        "\r\n",
        "response = requests.get(cmc_url)\r\n",
        "\r\n",
        "# Create BeautifulSoup object; parse with 'html.parser'\r\n",
        "\r\n",
        "soup = bs(response.text, 'html.parser')"
      ],
      "execution_count": 43,
      "outputs": []
    },
    {
      "cell_type": "code",
      "metadata": {
        "colab": {
          "base_uri": "https://localhost:8080/"
        },
        "id": "K_COcT8X5lAo",
        "outputId": "1c725c2d-30a7-44bd-bcb7-32ceda884c17"
      },
      "source": [
        "#Scrape url for the data\r\n",
        "\r\n",
        "results = soup.find_all('div', class_='sc-33i2yg-0 dOnegn')\r\n",
        "\r\n",
        "for r in results:\r\n",
        "  header = r.find_all('span', class_=\"sc-12ja2s9-0 eALoKW\")\r\n",
        " \r\n",
        "header"
      ],
      "execution_count": 84,
      "outputs": [
        {
          "output_type": "execute_result",
          "data": {
            "text/plain": [
              "[<span class=\"sc-12ja2s9-0 eALoKW\">Cryptocurrencies<!-- -->:  <a class=\"cmc-link\" href=\"/all/views/all/\">8,795</a></span>,\n",
              " <span class=\"sc-12ja2s9-0 eALoKW\">Markets<!-- -->:  <a class=\"cmc-link\" href=\"/currencies/volume/24-hour/\">36,346</a></span>,\n",
              " <span class=\"sc-12ja2s9-0 eALoKW\">Market Cap<!-- -->:  <a class=\"cmc-link\" href=\"/charts/\">$1,819,120,269,001</a></span>,\n",
              " <span class=\"sc-12ja2s9-0 eALoKW\">24h Vol<!-- -->:  <a class=\"cmc-link\" href=\"/charts/\">$149,124,257,424</a></span>,\n",
              " <span class=\"sc-12ja2s9-0 eALoKW\">Dominance<!-- -->:  <a class=\"cmc-link\" href=\"/charts/#dominance-percentage\">BTC<!-- -->: <!-- -->61.7%<!-- --> <!-- -->ETH<!-- -->: <!-- -->12.1%</a></span>,\n",
              " <span class=\"sc-12ja2s9-0 eALoKW\"><span class=\"icon-Gas-Filled\" style=\"margin-right:4px;vertical-align:middle\"></span>ETH Gas<!-- -->:  <a>193<!-- --> <!-- -->Gwei<span class=\"icon-Chevron-down gasDownIcon___T2cjc\"></span></a></span>]"
            ]
          },
          "metadata": {
            "tags": []
          },
          "execution_count": 84
        }
      ]
    },
    {
      "cell_type": "code",
      "metadata": {
        "id": "jvqOdtc8GHN4"
      },
      "source": [
        "#Use the NY Times API to pull recent Bitcoin news\r\n",
        "\r\n",
        "nyt_api_key = 'AHD58yFBu6t1DV7UGF2hdMCyfo2PvaHq'\r\n",
        "url = \"https://api.nytimes.com/svc/search/v2/articlesearch.json?\"\r\n",
        "\r\n",
        "# Store a search term\r\n",
        "query = \"Bitcoin\"\r\n",
        "\r\n",
        "# Search for articles published between a begin date (90 days ago) and end date (current date)\r\n",
        "\r\n",
        "end_date = datetime.today()\r\n",
        "begin_date = end_date - timedelta(90)\r\n",
        "\r\n",
        "end_date = end_date.strftime('%Y%m%d')\r\n",
        "begin_date = begin_date.strftime('%Y%m%d')\r\n",
        "\r\n",
        "\r\n",
        "query_url = f\"{url}api-key={nyt_api_key}&q={query}&begin_date={begin_date}&end_date={end_date}\"\r\n",
        "\r\n",
        "# Retrieve articles\r\n",
        "articles = requests.get(query_url).json()"
      ],
      "execution_count": null,
      "outputs": []
    },
    {
      "cell_type": "code",
      "metadata": {
        "id": "hSUMqmQSGHFC"
      },
      "source": [
        "# Transform API response into pandas df\r\n",
        "\r\n",
        "headline = []\r\n",
        "date = []\r\n",
        "paragraph = []\r\n",
        "\r\n",
        "articles_list = articles[\"response\"][\"docs\"]\r\n",
        "\r\n",
        "for article in articles_list:\r\n",
        "  headline.append(article[\"headline\"][\"main\"])\r\n",
        "  date.append(article[\"pub_date\"])\r\n",
        "  paragraph.append(article[\"lead_paragraph\"])\r\n",
        "\r\n",
        "news_df = pd.DataFrame({\"Date\": date, \"Headline\": headline, \"Paragraph\": paragraph})\r\n",
        "news_df['Date'] = pd.to_datetime(news_df['Date'], infer_datetime_format=True)\r\n",
        "news_df.head(10)"
      ],
      "execution_count": null,
      "outputs": []
    },
    {
      "cell_type": "markdown",
      "metadata": {
        "id": "mlFplWxPFyFA"
      },
      "source": [
        "**Facebook Prophet** Machine Learning"
      ]
    },
    {
      "cell_type": "code",
      "metadata": {
        "id": "8_8MNMSLUsst"
      },
      "source": [
        "# Facebook Prophet Model Setup\r\n",
        "\r\n",
        "fb_df = df[[\"Date\", \"Close_USD\"]]\r\n",
        "fb_df = fb_df.rename(columns={\"Date\": \"ds\", \"Close_USD\": \"y\"})\r\n",
        "fb_df.head()"
      ],
      "execution_count": null,
      "outputs": []
    },
    {
      "cell_type": "code",
      "metadata": {
        "id": "3eu8t889-_g-"
      },
      "source": [
        "# Create fbProphet model and fit model \r\n",
        "model = Prophet()\r\n",
        "model.fit(fb_df)"
      ],
      "execution_count": null,
      "outputs": []
    },
    {
      "cell_type": "code",
      "metadata": {
        "id": "xjZkbTLL-_ot"
      },
      "source": [
        "# Model 90 days in the future\r\n",
        "\r\n",
        "future_df = model.make_future_dataframe(periods=90)"
      ],
      "execution_count": null,
      "outputs": []
    },
    {
      "cell_type": "code",
      "metadata": {
        "id": "jpHqmlRb-_rp"
      },
      "source": [
        "#Make predictions\r\n",
        "\r\n",
        "predictions = model.predict(future_df)\r\n",
        "predictions.tail()"
      ],
      "execution_count": null,
      "outputs": []
    },
    {
      "cell_type": "code",
      "metadata": {
        "id": "DbJg4ywW_4wV"
      },
      "source": [
        "# Plot Predictions\r\n",
        "model.plot(predictions)"
      ],
      "execution_count": null,
      "outputs": []
    },
    {
      "cell_type": "code",
      "metadata": {
        "id": "xsk9a0Hd_43m"
      },
      "source": [
        "# Plot model components\r\n",
        "\r\n",
        "model.plot_components(predictions)"
      ],
      "execution_count": null,
      "outputs": []
    }
  ]
}