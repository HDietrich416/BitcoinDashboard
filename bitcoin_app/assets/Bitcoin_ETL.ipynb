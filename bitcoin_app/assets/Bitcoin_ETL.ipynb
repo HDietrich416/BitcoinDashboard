{
 "cells": [
  {
   "cell_type": "code",
   "execution_count": 1,
   "metadata": {
    "colab": {
     "base_uri": "https://localhost:8080/"
    },
    "id": "BqLWy2DsUssm",
    "outputId": "0b384724-724b-4311-eba4-d45e9643ce1e"
   },
   "outputs": [],
   "source": [
    "# Import Dependencies\n",
    "\n",
    "import pandas as pd\n",
    "import fbprophet\n",
    "from fbprophet import Prophet\n",
    "import requests\n",
    "from pprint import pprint\n",
    "from datetime import datetime, timedelta\n",
    "from bs4 import BeautifulSoup as bs\n",
    "from sqlalchemy import create_engine\n",
    "import psycopg2\n"
   ]
  },
  {
   "cell_type": "code",
   "execution_count": 2,
   "metadata": {
    "id": "VuqJP9-zsSm_"
   },
   "outputs": [],
   "source": [
    "# AWS Server Details\n",
    "\n",
    "server= \"bootcampdb.cmwhqarpyd9v.ca-central-1.rds.amazonaws.com\"\n",
    "database = \"postgres\"\n",
    "port =\"5432\"\n",
    "username = \"root\"\n",
    "password = \"xy92Hdie\"\n",
    "\n",
    "conn = f\"postgres://{username}:{password}@{server}:{port}/{database}\""
   ]
  },
  {
   "cell_type": "code",
   "execution_count": 3,
   "metadata": {
    "id": "Jn-4SfnYUssr"
   },
   "outputs": [],
   "source": [
    "# Read Bitcoin daily data from Alpha Vantage API\n",
    "\n",
    "av_api_key = 'IYOYBP274BRSLPM0'\n",
    "\n",
    "url = \"https://www.alphavantage.co/query?function=DIGITAL_CURRENCY_DAILY&symbol=BTC&market=CAD&apikey={av_api_key}\"\n",
    "\n",
    "data = requests.get(url).json()\n",
    "bc_data = data[\"Time Series (Digital Currency Daily)\"]"
   ]
  },
  {
   "cell_type": "code",
   "execution_count": 4,
   "metadata": {
    "id": "llADr3fmXpNw"
   },
   "outputs": [],
   "source": [
    "# Loop through json response API data and transform into lists in python to create pandas dataframe\n",
    "\n",
    "date = []\n",
    "open_CAD = []\n",
    "open_USD = []\n",
    "high_CAD = []\n",
    "high_USD = []\n",
    "low_CAD = []\n",
    "low_USD = []\n",
    "close_CAD = []\n",
    "close_USD = []\n",
    "volume = []\n",
    "\n",
    "date = list(bc_data.keys())\n",
    "\n",
    "for d in date:\n",
    "  value = bc_data[d]\n",
    "  close_CAD.append(value['4a. close (CAD)'])\n",
    "  close_USD.append(value['4b. close (USD)'])\n",
    "  volume.append(value['5. volume'])\n",
    "  open_CAD.append(value['1a. open (CAD)'])\n",
    "  open_USD.append(value['1b. open (USD)'])\n",
    "  high_CAD.append(value['2a. high (CAD)'])\n",
    "  high_USD.append(value['2b. high (USD)'])\n",
    "  low_CAD.append(value['3a. low (CAD)'])\n",
    "  low_USD.append(value['3b. low (USD)'])"
   ]
  },
  {
   "cell_type": "code",
   "execution_count": 5,
   "metadata": {
    "colab": {
     "base_uri": "https://localhost:8080/",
     "height": 195
    },
    "id": "Lz5A9T4OUsst",
    "outputId": "b192a2bf-860f-4268-d0cf-068f93f8b76d"
   },
   "outputs": [
    {
     "data": {
      "text/html": [
       "<div>\n",
       "<style scoped>\n",
       "    .dataframe tbody tr th:only-of-type {\n",
       "        vertical-align: middle;\n",
       "    }\n",
       "\n",
       "    .dataframe tbody tr th {\n",
       "        vertical-align: top;\n",
       "    }\n",
       "\n",
       "    .dataframe thead th {\n",
       "        text-align: right;\n",
       "    }\n",
       "</style>\n",
       "<table border=\"1\" class=\"dataframe\">\n",
       "  <thead>\n",
       "    <tr style=\"text-align: right;\">\n",
       "      <th></th>\n",
       "      <th>Date</th>\n",
       "      <th>Open_USD</th>\n",
       "      <th>High_USD</th>\n",
       "      <th>Low_USD</th>\n",
       "      <th>Close_USD</th>\n",
       "    </tr>\n",
       "  </thead>\n",
       "  <tbody>\n",
       "    <tr>\n",
       "      <th>0</th>\n",
       "      <td>2021-03-20</td>\n",
       "      <td>58030.01000000</td>\n",
       "      <td>58428.58000000</td>\n",
       "      <td>57820.17000000</td>\n",
       "      <td>58394.17000000</td>\n",
       "    </tr>\n",
       "    <tr>\n",
       "      <th>1</th>\n",
       "      <td>2021-03-19</td>\n",
       "      <td>57641.00000000</td>\n",
       "      <td>59468.00000000</td>\n",
       "      <td>56270.74000000</td>\n",
       "      <td>58030.01000000</td>\n",
       "    </tr>\n",
       "    <tr>\n",
       "      <th>2</th>\n",
       "      <td>2021-03-18</td>\n",
       "      <td>58912.97000000</td>\n",
       "      <td>60129.97000000</td>\n",
       "      <td>57023.00000000</td>\n",
       "      <td>57648.16000000</td>\n",
       "    </tr>\n",
       "    <tr>\n",
       "      <th>3</th>\n",
       "      <td>2021-03-17</td>\n",
       "      <td>56900.74000000</td>\n",
       "      <td>58974.73000000</td>\n",
       "      <td>54123.69000000</td>\n",
       "      <td>58912.97000000</td>\n",
       "    </tr>\n",
       "    <tr>\n",
       "      <th>4</th>\n",
       "      <td>2021-03-16</td>\n",
       "      <td>55605.20000000</td>\n",
       "      <td>56938.29000000</td>\n",
       "      <td>53271.34000000</td>\n",
       "      <td>56900.75000000</td>\n",
       "    </tr>\n",
       "  </tbody>\n",
       "</table>\n",
       "</div>"
      ],
      "text/plain": [
       "         Date        Open_USD        High_USD         Low_USD       Close_USD\n",
       "0  2021-03-20  58030.01000000  58428.58000000  57820.17000000  58394.17000000\n",
       "1  2021-03-19  57641.00000000  59468.00000000  56270.74000000  58030.01000000\n",
       "2  2021-03-18  58912.97000000  60129.97000000  57023.00000000  57648.16000000\n",
       "3  2021-03-17  56900.74000000  58974.73000000  54123.69000000  58912.97000000\n",
       "4  2021-03-16  55605.20000000  56938.29000000  53271.34000000  56900.75000000"
      ]
     },
     "execution_count": 5,
     "metadata": {},
     "output_type": "execute_result"
    }
   ],
   "source": [
    "# Create Pandas dataframe\n",
    "\n",
    "df = pd.DataFrame({\"Date\": date, \"Open_USD\": open_USD, \"High_USD\": high_USD,  \"Low_USD\": low_USD,  \"Close_USD\":close_USD})\n",
    "df.head()\n",
    "\n",
    "\n"
   ]
  },
  {
   "cell_type": "code",
   "execution_count": 6,
   "metadata": {
    "colab": {
     "base_uri": "https://localhost:8080/"
    },
    "id": "quyPcwJssduF",
    "outputId": "928a0400-d2fe-4c50-f3a1-87ae85e435d7"
   },
   "outputs": [],
   "source": [
    "engine = create_engine(conn, echo=False)"
   ]
  },
  {
   "cell_type": "code",
   "execution_count": null,
   "metadata": {
    "id": "mfgXWfO2sh-c"
   },
   "outputs": [],
   "source": [
    "df.to_sql(\"coin_price\", con=engine, if_exists = 'replace', index=False)\n",
    "\n",
    "with engine.connect() as con:\n",
    "    con.execute('ALTER TABLE \"coin_price\" ADD PRIMARY KEY (\"Date\");')"
   ]
  },
  {
   "cell_type": "code",
   "execution_count": null,
   "metadata": {
    "id": "ldK0itaJfg6F"
   },
   "outputs": [],
   "source": [
    "# Read Bitcoin crypto rating data from Alpha Vantage API\n",
    "\n",
    "\n",
    "crypto_rating_url = 'https://www.alphavantage.co/query?function=CRYPTO_RATING&symbol=BTC&apikey={av_api_key}'\n",
    "\n",
    "rating_data = requests.get(crypto_rating_url).json()\n",
    "\n",
    "rating = rating_data['Crypto Rating (FCAS)']['3. fcas rating']\n",
    "score = rating_data['Crypto Rating (FCAS)']['4. fcas score']\n",
    "refresh_date = rating_data['Crypto Rating (FCAS)']['8. last refreshed']\n"
   ]
  },
  {
   "cell_type": "code",
   "execution_count": null,
   "metadata": {
    "id": "UTMm0jmTfgzI"
   },
   "outputs": [],
   "source": [
    "# Create a pandas df\n",
    "\n",
    "rating_df = pd.DataFrame({\"Date\": refresh_date, \"Rank\": rating, \"Score\": score}, index=[0])\n",
    "rating_df['Date'] = pd.to_datetime(rating_df['Date'], infer_datetime_format=True)\n",
    "rating_df['Date'] = rating_df['Date'].dt.strftime('%Y-%m-%d')\n",
    "\n",
    "rating_df "
   ]
  },
  {
   "cell_type": "code",
   "execution_count": null,
   "metadata": {
    "id": "HeOmcdUAtZG6"
   },
   "outputs": [],
   "source": [
    "engine = create_engine(conn, echo=False)"
   ]
  },
  {
   "cell_type": "code",
   "execution_count": null,
   "metadata": {
    "id": "2NLkWG4_tbA4"
   },
   "outputs": [],
   "source": [
    "rating_df.to_sql(\"rating\", con=engine, if_exists = 'replace', index=False)\n",
    "\n",
    "with engine.connect() as con:\n",
    "    con.execute('ALTER TABLE \"rating\" ADD PRIMARY KEY (\"Date\");')"
   ]
  },
  {
   "cell_type": "code",
   "execution_count": null,
   "metadata": {
    "id": "0sY4vbLl5lIP"
   },
   "outputs": [],
   "source": [
    "# Coin Market Cap URL of page to be scraped for Market Cap data\n",
    "\n",
    "cmc_url = 'https://coinmarketcap.com/'\n",
    "\n",
    "# Retrieve page with the requests module\n",
    "\n",
    "response = requests.get(cmc_url)\n",
    "\n",
    "# Create BeautifulSoup object; parse with 'html.parser'\n",
    "\n",
    "soup = bs(response.text, 'html.parser')"
   ]
  },
  {
   "cell_type": "code",
   "execution_count": null,
   "metadata": {
    "id": "K_COcT8X5lAo"
   },
   "outputs": [],
   "source": [
    "#Scrape url for the data\n",
    "\n",
    "results = soup.find_all('div', class_='sc-33i2yg-0 dOnegn')\n",
    "\n",
    "for r in results:\n",
    "  header = r.find_all('span', class_=\"sc-12ja2s9-0 eALoKW\")\n",
    "   \n",
    "  title =[]\n",
    "  value =[]\n",
    "  for values in header:\n",
    "    data = (values.text.split(\":\"))\n",
    "    title.append(data[0])\n",
    "\n",
    "    if data[0] == \"Dominance\":\n",
    "      value.append(data[2][1:5])\n",
    "    else:\n",
    "      value.append(data[1][2:])\n",
    "\n"
   ]
  },
  {
   "cell_type": "code",
   "execution_count": null,
   "metadata": {
    "id": "AqznELTeZm4n"
   },
   "outputs": [],
   "source": [
    "# create data table in pandas and clean up data\n",
    "\n",
    "market_cap_df = pd.DataFrame({\"Title\": title, \"Value\": value})\n",
    "market_cap_df = market_cap_df.drop(index=5)\n",
    "market_cap_df = market_cap_df.transpose()\n",
    "columns = market_cap_df.iloc[0].values\n",
    "market_cap_df.columns = columns\n",
    "market_cap_df.drop('Title', axis=0, inplace = True)\n",
    "market_cap_df.reset_index(inplace=True)\n",
    "market_cap_df = market_cap_df.drop(columns='index')\n",
    "market_cap_df = market_cap_df.rename(columns={\"Dominance\": \"BTC_Dominance\", \"Market Cap\": \"Market_Cap\", \"24h Vol\": \"24h_Volume\"})\n",
    "market_cap_df['Market_Cap'] = market_cap_df['Market_Cap'].str.replace(\"$\",\"\")\n",
    "market_cap_df['24h_Volume'] = market_cap_df['24h_Volume'].str.replace(\"$\",\"\")\n",
    "market_cap_df = market_cap_df.replace(',','', regex=True)\n",
    "market_cap_df"
   ]
  },
  {
   "cell_type": "code",
   "execution_count": null,
   "metadata": {
    "id": "1yJ9ZPjgtmoa"
   },
   "outputs": [],
   "source": [
    "engine = create_engine(conn, echo=False)"
   ]
  },
  {
   "cell_type": "code",
   "execution_count": null,
   "metadata": {
    "id": "7k4nDwkNtmeQ"
   },
   "outputs": [],
   "source": [
    "market_cap_df.to_sql(\"market_cap\", con=engine, if_exists = 'replace', index=False)\n",
    "\n",
    "with engine.connect() as con:\n",
    "    con.execute('ALTER TABLE \"market_cap\" ADD PRIMARY KEY (\"Cryptocurrencies\");')"
   ]
  },
  {
   "cell_type": "code",
   "execution_count": null,
   "metadata": {
    "id": "jvqOdtc8GHN4"
   },
   "outputs": [],
   "source": [
    "#Use the NY Times API to pull recent Bitcoin news\n",
    "\n",
    "nyt_api_key = 'AHD58yFBu6t1DV7UGF2hdMCyfo2PvaHq'\n",
    "url = \"https://api.nytimes.com/svc/search/v2/articlesearch.json?\"\n",
    "\n",
    "# Store a search term\n",
    "query = \"Bitcoin\"\n",
    "\n",
    "# Search for articles published between a begin date (90 days ago) and end date (current date)\n",
    "\n",
    "end_date = datetime.today()\n",
    "begin_date = end_date - timedelta(90)\n",
    "\n",
    "end_date = end_date.strftime('%Y%m%d')\n",
    "begin_date = begin_date.strftime('%Y%m%d')\n",
    "\n",
    "\n",
    "query_url = f\"{url}api-key={nyt_api_key}&q={query}&begin_date={begin_date}&end_date={end_date}\"\n",
    "\n",
    "# Retrieve articles\n",
    "articles = requests.get(query_url).json()"
   ]
  },
  {
   "cell_type": "code",
   "execution_count": null,
   "metadata": {
    "id": "hSUMqmQSGHFC"
   },
   "outputs": [],
   "source": [
    "# Transform API response into pandas df\n",
    "\n",
    "headline = []\n",
    "date = []\n",
    "paragraph = []\n",
    "\n",
    "articles_list = articles[\"response\"][\"docs\"]\n",
    "\n",
    "for article in articles_list:\n",
    "  headline.append(article[\"headline\"][\"main\"])\n",
    "  date.append(article[\"pub_date\"])\n",
    "  paragraph.append(article[\"lead_paragraph\"])\n",
    "\n",
    "news_df = pd.DataFrame({\"Date\": date, \"Headline\": headline, \"Paragraph\": paragraph})\n",
    "news_df['Date'] = pd.to_datetime(news_df['Date'], infer_datetime_format=True)\n",
    "news_df['Date'] = news_df['Date'].dt.strftime('%Y-%m-%d')\n",
    "news_df.head(10)\n",
    "\n"
   ]
  },
  {
   "cell_type": "code",
   "execution_count": null,
   "metadata": {
    "id": "oR8AChTEuLrD"
   },
   "outputs": [],
   "source": [
    "engine = create_engine(conn, echo=False)"
   ]
  },
  {
   "cell_type": "code",
   "execution_count": null,
   "metadata": {
    "id": "T7Yzo60ZuLfs"
   },
   "outputs": [],
   "source": [
    "news_df.to_sql(\"btc_news\", con=engine, if_exists = 'replace', index=False)\n",
    "\n",
    "with engine.connect() as con:\n",
    "    con.execute('ALTER TABLE \"btc_news\" ADD PRIMARY KEY (\"Headline\");')"
   ]
  },
  {
   "cell_type": "markdown",
   "metadata": {
    "id": "mlFplWxPFyFA"
   },
   "source": [
    "**Facebook Prophet** Machine Learning"
   ]
  },
  {
   "cell_type": "code",
   "execution_count": 6,
   "metadata": {
    "colab": {
     "base_uri": "https://localhost:8080/",
     "height": 195
    },
    "id": "8_8MNMSLUsst",
    "outputId": "dbc5acee-ca52-4428-e7de-95abef84f8ae"
   },
   "outputs": [
    {
     "data": {
      "text/html": [
       "<div>\n",
       "<style scoped>\n",
       "    .dataframe tbody tr th:only-of-type {\n",
       "        vertical-align: middle;\n",
       "    }\n",
       "\n",
       "    .dataframe tbody tr th {\n",
       "        vertical-align: top;\n",
       "    }\n",
       "\n",
       "    .dataframe thead th {\n",
       "        text-align: right;\n",
       "    }\n",
       "</style>\n",
       "<table border=\"1\" class=\"dataframe\">\n",
       "  <thead>\n",
       "    <tr style=\"text-align: right;\">\n",
       "      <th></th>\n",
       "      <th>ds</th>\n",
       "      <th>y</th>\n",
       "    </tr>\n",
       "  </thead>\n",
       "  <tbody>\n",
       "    <tr>\n",
       "      <th>0</th>\n",
       "      <td>2021-03-20</td>\n",
       "      <td>58394.17000000</td>\n",
       "    </tr>\n",
       "    <tr>\n",
       "      <th>1</th>\n",
       "      <td>2021-03-19</td>\n",
       "      <td>58030.01000000</td>\n",
       "    </tr>\n",
       "    <tr>\n",
       "      <th>2</th>\n",
       "      <td>2021-03-18</td>\n",
       "      <td>57648.16000000</td>\n",
       "    </tr>\n",
       "    <tr>\n",
       "      <th>3</th>\n",
       "      <td>2021-03-17</td>\n",
       "      <td>58912.97000000</td>\n",
       "    </tr>\n",
       "    <tr>\n",
       "      <th>4</th>\n",
       "      <td>2021-03-16</td>\n",
       "      <td>56900.75000000</td>\n",
       "    </tr>\n",
       "  </tbody>\n",
       "</table>\n",
       "</div>"
      ],
      "text/plain": [
       "           ds               y\n",
       "0  2021-03-20  58394.17000000\n",
       "1  2021-03-19  58030.01000000\n",
       "2  2021-03-18  57648.16000000\n",
       "3  2021-03-17  58912.97000000\n",
       "4  2021-03-16  56900.75000000"
      ]
     },
     "execution_count": 6,
     "metadata": {},
     "output_type": "execute_result"
    }
   ],
   "source": [
    "# Facebook Prophet Model Setup\n",
    "\n",
    "fb_df = df[[\"Date\", \"Close_USD\"]]\n",
    "fb_df = fb_df.rename(columns={\"Date\": \"ds\", \"Close_USD\": \"y\"})\n",
    "fb_df.head()"
   ]
  },
  {
   "cell_type": "code",
   "execution_count": null,
   "metadata": {
    "colab": {
     "base_uri": "https://localhost:8080/"
    },
    "id": "3eu8t889-_g-",
    "outputId": "252956da-89fe-4ae9-e8ac-27ca5ed5e2a2"
   },
   "outputs": [
    {
     "name": "stderr",
     "output_type": "stream",
     "text": [
      "INFO:numexpr.utils:NumExpr defaulting to 4 threads.\n"
     ]
    },
    {
     "ename": "KeyError",
     "evalue": "'metric_file'",
     "output_type": "error",
     "traceback": [
      "\u001b[1;31m---------------------------------------------------------------------------\u001b[0m",
      "\u001b[1;31mKeyError\u001b[0m                                  Traceback (most recent call last)",
      "\u001b[1;31mKeyError\u001b[0m: 'metric_file'"
     ]
    },
    {
     "name": "stderr",
     "output_type": "stream",
     "text": [
      "Exception ignored in: 'stanfit4anon_model_f5236004a3fd5b8429270d00efcc0cf9_9045703871880297330._set_stanargs_from_dict'\n",
      "Traceback (most recent call last):\n",
      "  File \"C:\\Users\\Heather\\anaconda3\\lib\\site-packages\\pystan\\model.py\", line 550, in optimizing\n",
      "    ret, sample = fit._call_sampler(stan_args)\n",
      "KeyError: 'metric_file'\n"
     ]
    }
   ],
   "source": [
    "# Create fbProphet model and fit model \n",
    "model = Prophet(daily_seasonality=True)\n",
    "model.fit(fb_df)"
   ]
  },
  {
   "cell_type": "code",
   "execution_count": null,
   "metadata": {
    "id": "xjZkbTLL-_ot"
   },
   "outputs": [],
   "source": [
    "# Model 90 days in the future\n",
    "\n",
    "future_df = model.make_future_dataframe(periods=90)"
   ]
  },
  {
   "cell_type": "code",
   "execution_count": null,
   "metadata": {
    "colab": {
     "base_uri": "https://localhost:8080/",
     "height": 299
    },
    "id": "jpHqmlRb-_rp",
    "outputId": "4b4d7fc9-4298-47de-ef50-4a39f01d3853"
   },
   "outputs": [],
   "source": [
    "#Make predictions\n",
    "\n",
    "predictions = model.predict(future_df)\n",
    "predictions.tail()"
   ]
  },
  {
   "cell_type": "code",
   "execution_count": null,
   "metadata": {
    "colab": {
     "base_uri": "https://localhost:8080/",
     "height": 441
    },
    "id": "DbJg4ywW_4wV",
    "outputId": "fa9678f6-d49f-4d5a-c8fe-01931bc39524"
   },
   "outputs": [],
   "source": [
    "# Plot Predictions\n",
    "model.plot(predictions).savefig('modelpredictions.png')\n",
    "\n"
   ]
  },
  {
   "cell_type": "code",
   "execution_count": null,
   "metadata": {
    "colab": {
     "base_uri": "https://localhost:8080/",
     "height": 657
    },
    "id": "xsk9a0Hd_43m",
    "outputId": "c4f57cb9-ec4a-4f89-965b-63d7130576c6"
   },
   "outputs": [],
   "source": [
    "# Plot model components\n",
    "\n",
    "model.plot_components(predictions).savefig('modelcomponents.png')"
   ]
  }
 ],
 "metadata": {
  "colab": {
   "name": "Bitcoin_ETL.ipynb",
   "provenance": []
  },
  "kernelspec": {
   "display_name": "Python 3",
   "language": "python",
   "name": "python3"
  },
  "language_info": {
   "codemirror_mode": {
    "name": "ipython",
    "version": 3
   },
   "file_extension": ".py",
   "mimetype": "text/x-python",
   "name": "python",
   "nbconvert_exporter": "python",
   "pygments_lexer": "ipython3",
   "version": "3.8.3"
  }
 },
 "nbformat": 4,
 "nbformat_minor": 1
}
