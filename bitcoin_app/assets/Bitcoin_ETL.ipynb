{
  "nbformat": 4,
  "nbformat_minor": 0,
  "metadata": {
    "colab": {
      "name": "Bitcoin_ETL.ipynb",
      "provenance": []
    },
    "kernelspec": {
      "display_name": "Python 3",
      "language": "python",
      "name": "python3"
    },
    "language_info": {
      "codemirror_mode": {
        "name": "ipython",
        "version": 3
      },
      "file_extension": ".py",
      "mimetype": "text/x-python",
      "name": "python",
      "nbconvert_exporter": "python",
      "pygments_lexer": "ipython3",
      "version": "3.8.3"
    }
  },
  "cells": [
    {
      "cell_type": "code",
      "metadata": {
        "colab": {
          "base_uri": "https://localhost:8080/"
        },
        "id": "BqLWy2DsUssm",
        "outputId": "dbf43083-c30b-46fc-a2bf-a25c0b771b71"
      },
      "source": [
        "# Import Dependencies\n",
        "\n",
        "import pandas as pd\n",
        "from fbprophet import Prophet\n",
        "import requests\n",
        "from pprint import pprint\n",
        "from datetime import datetime, timedelta\n",
        "from bs4 import BeautifulSoup as bs\n",
        "from sqlalchemy import create_engine\n",
        "import psycopg2\n"
      ],
      "execution_count": 1,
      "outputs": [
        {
          "output_type": "stream",
          "text": [
            "/usr/local/lib/python3.7/dist-packages/psycopg2/__init__.py:144: UserWarning:\n",
            "\n",
            "The psycopg2 wheel package will be renamed from release 2.8; in order to keep installing from binary please use \"pip install psycopg2-binary\" instead. For details see: <http://initd.org/psycopg/docs/install.html#binary-install-from-pypi>.\n",
            "\n"
          ],
          "name": "stderr"
        }
      ]
    },
    {
      "cell_type": "code",
      "metadata": {
        "id": "VuqJP9-zsSm_"
      },
      "source": [
        "# AWS Server Details\n",
        "\n",
        "server= \"bootcampdb.cmwhqarpyd9v.ca-central-1.rds.amazonaws.com\"\n",
        "database = \"postgres\"\n",
        "port =\"5432\"\n",
        "username = \"root\"\n",
        "password = \"xy92Hdie\"\n",
        "\n",
        "conn = f\"postgres://{username}:{password}@{server}:{port}/{database}\""
      ],
      "execution_count": 2,
      "outputs": []
    },
    {
      "cell_type": "code",
      "metadata": {
        "id": "Jn-4SfnYUssr"
      },
      "source": [
        "# Read Bitcoin daily data from Alpha Vantage API\n",
        "\n",
        "av_api_key = 'IYOYBP274BRSLPM0'\n",
        "\n",
        "url = \"https://www.alphavantage.co/query?function=DIGITAL_CURRENCY_DAILY&symbol=BTC&market=CAD&apikey={av_api_key}\"\n",
        "\n",
        "data = requests.get(url).json()\n",
        "bc_data = data[\"Time Series (Digital Currency Daily)\"]"
      ],
      "execution_count": 3,
      "outputs": []
    },
    {
      "cell_type": "code",
      "metadata": {
        "id": "llADr3fmXpNw"
      },
      "source": [
        "# Loop through json response API data and transform into lists in python to create pandas dataframe\n",
        "\n",
        "date = []\n",
        "open_CAD = []\n",
        "open_USD = []\n",
        "high_CAD = []\n",
        "high_USD = []\n",
        "low_CAD = []\n",
        "low_USD = []\n",
        "close_CAD = []\n",
        "close_USD = []\n",
        "volume = []\n",
        "\n",
        "date = list(bc_data.keys())\n",
        "\n",
        "for d in date:\n",
        "  value = bc_data[d]\n",
        "  close_CAD.append(value['4a. close (CAD)'])\n",
        "  close_USD.append(value['4b. close (USD)'])\n",
        "  volume.append(value['5. volume'])\n",
        "  open_CAD.append(value['1a. open (CAD)'])\n",
        "  open_USD.append(value['1b. open (USD)'])\n",
        "  high_CAD.append(value['2a. high (CAD)'])\n",
        "  high_USD.append(value['2b. high (USD)'])\n",
        "  low_CAD.append(value['3a. low (CAD)'])\n",
        "  low_USD.append(value['3b. low (USD)'])"
      ],
      "execution_count": 4,
      "outputs": []
    },
    {
      "cell_type": "code",
      "metadata": {
        "id": "Lz5A9T4OUsst"
      },
      "source": [
        "# Create Pandas dataframe\n",
        "\n",
        "df = pd.DataFrame({\"Date\": date, \"Open_USD\": open_USD, \"High_USD\": high_USD,  \"Low_USD\": low_USD,  \"Close_USD\":close_USD})\n",
        "#df.head()\n",
        "\n",
        "\n"
      ],
      "execution_count": 5,
      "outputs": []
    },
    {
      "cell_type": "code",
      "metadata": {
        "id": "quyPcwJssduF"
      },
      "source": [
        "engine = create_engine(conn, echo=False)"
      ],
      "execution_count": 6,
      "outputs": []
    },
    {
      "cell_type": "code",
      "metadata": {
        "id": "mfgXWfO2sh-c"
      },
      "source": [
        "df.to_sql(\"coin_price\", con=engine, if_exists = 'replace', index=False)\n",
        "\n",
        "with engine.connect() as con:\n",
        "    con.execute('ALTER TABLE \"coin_price\" ADD PRIMARY KEY (\"Date\");')"
      ],
      "execution_count": 7,
      "outputs": []
    },
    {
      "cell_type": "code",
      "metadata": {
        "id": "ldK0itaJfg6F"
      },
      "source": [
        "# Read Bitcoin crypto rating data from Alpha Vantage API\n",
        "\n",
        "\n",
        "# crypto_rating_url = 'https://www.alphavantage.co/query?function=CRYPTO_RATING&symbol=BTC&apikey={av_api_key}'\n",
        "\n",
        "# rating_data = requests.get(crypto_rating_url).json()\n",
        "\n",
        "# rating = rating_data['Crypto Rating (FCAS)']['3. fcas rating']\n",
        "# score = rating_data['Crypto Rating (FCAS)']['4. fcas score']\n",
        "# refresh_date = rating_data['Crypto Rating (FCAS)']['8. last refreshed']\n"
      ],
      "execution_count": 8,
      "outputs": []
    },
    {
      "cell_type": "code",
      "metadata": {
        "id": "UTMm0jmTfgzI"
      },
      "source": [
        "# Create a pandas df\n",
        "\n",
        "# rating_df = pd.DataFrame({\"Date\": refresh_date, \"Rank\": rating, \"Score\": score}, index=[0])\n",
        "# rating_df['Date'] = pd.to_datetime(rating_df['Date'], infer_datetime_format=True)\n",
        "# rating_df['Date'] = rating_df['Date'].dt.strftime('%Y-%m-%d')\n",
        "\n",
        "# rating_df "
      ],
      "execution_count": 9,
      "outputs": []
    },
    {
      "cell_type": "code",
      "metadata": {
        "id": "HeOmcdUAtZG6"
      },
      "source": [
        "# engine = create_engine(conn, echo=False)"
      ],
      "execution_count": 10,
      "outputs": []
    },
    {
      "cell_type": "code",
      "metadata": {
        "id": "2NLkWG4_tbA4"
      },
      "source": [
        "# rating_df.to_sql(\"rating\", con=engine, if_exists = 'replace', index=False)\n",
        "\n",
        "# with engine.connect() as con:\n",
        "#     con.execute('ALTER TABLE \"rating\" ADD PRIMARY KEY (\"Date\");')"
      ],
      "execution_count": 11,
      "outputs": []
    },
    {
      "cell_type": "code",
      "metadata": {
        "id": "0sY4vbLl5lIP"
      },
      "source": [
        "# Coin Market Cap URL of page to be scraped for Market Cap data\n",
        "\n",
        "cmc_url = 'https://coinmarketcap.com/'\n",
        "\n",
        "# Retrieve page with the requests module\n",
        "\n",
        "response = requests.get(cmc_url)\n",
        "\n",
        "# Create BeautifulSoup object; parse with 'html.parser'\n",
        "\n",
        "soup = bs(response.text, 'html.parser')"
      ],
      "execution_count": 12,
      "outputs": []
    },
    {
      "cell_type": "code",
      "metadata": {
        "id": "K_COcT8X5lAo"
      },
      "source": [
        "#Scrape url for the data\n",
        "\n",
        "results = soup.find_all('div', class_='sc-33i2yg-0 dOnegn')\n",
        "\n",
        "for r in results:\n",
        "  header = r.find_all('span', class_=\"sc-12ja2s9-0 eALoKW\")\n",
        "   \n",
        "  title =[]\n",
        "  value =[]\n",
        "  for values in header:\n",
        "    data = (values.text.split(\":\"))\n",
        "    title.append(data[0])\n",
        "\n",
        "    if data[0] == \"Dominance\":\n",
        "      value.append(data[2][1:5])\n",
        "    else:\n",
        "      value.append(data[1][2:])\n",
        "\n"
      ],
      "execution_count": 13,
      "outputs": []
    },
    {
      "cell_type": "code",
      "metadata": {
        "id": "AqznELTeZm4n",
        "colab": {
          "base_uri": "https://localhost:8080/",
          "height": 77
        },
        "outputId": "61953efb-6eb4-4d90-eae0-f09965dd5701"
      },
      "source": [
        "# create data table in pandas and clean up data\n",
        "\n",
        "market_cap_df = pd.DataFrame({\"Title\": title, \"Value\": value})\n",
        "market_cap_df = market_cap_df.drop(index=5)\n",
        "market_cap_df = market_cap_df.transpose()\n",
        "columns = market_cap_df.iloc[0].values\n",
        "market_cap_df.columns = columns\n",
        "market_cap_df.drop('Title', axis=0, inplace = True)\n",
        "market_cap_df.reset_index(inplace=True)\n",
        "market_cap_df = market_cap_df.drop(columns='index')\n",
        "market_cap_df = market_cap_df.rename(columns={\"Dominance\": \"BTC_Dominance\", \"Market Cap\": \"Market_Cap\", \"24h Vol\": \"24h_Volume\"})\n",
        "market_cap_df['Market_Cap'] = market_cap_df['Market_Cap'].str.replace(\"$\",\"\")\n",
        "market_cap_df['24h_Volume'] = market_cap_df['24h_Volume'].str.replace(\"$\",\"\")\n",
        "market_cap_df = market_cap_df.replace(',','', regex=True)\n",
        "#market_cap_df"
      ],
      "execution_count": 14,
      "outputs": [
        {
          "output_type": "execute_result",
          "data": {
            "text/html": [
              "<div>\n",
              "<style scoped>\n",
              "    .dataframe tbody tr th:only-of-type {\n",
              "        vertical-align: middle;\n",
              "    }\n",
              "\n",
              "    .dataframe tbody tr th {\n",
              "        vertical-align: top;\n",
              "    }\n",
              "\n",
              "    .dataframe thead th {\n",
              "        text-align: right;\n",
              "    }\n",
              "</style>\n",
              "<table border=\"1\" class=\"dataframe\">\n",
              "  <thead>\n",
              "    <tr style=\"text-align: right;\">\n",
              "      <th></th>\n",
              "      <th>Cryptocurrencies</th>\n",
              "      <th>Markets</th>\n",
              "      <th>Market_Cap</th>\n",
              "      <th>24h_Volume</th>\n",
              "      <th>BTC_Dominance</th>\n",
              "    </tr>\n",
              "  </thead>\n",
              "  <tbody>\n",
              "    <tr>\n",
              "      <th>0</th>\n",
              "      <td>8893</td>\n",
              "      <td>36561</td>\n",
              "      <td>1830477865851</td>\n",
              "      <td>117101148990</td>\n",
              "      <td>60.4</td>\n",
              "    </tr>\n",
              "  </tbody>\n",
              "</table>\n",
              "</div>"
            ],
            "text/plain": [
              "  Cryptocurrencies Markets     Market_Cap    24h_Volume BTC_Dominance\n",
              "0             8893   36561  1830477865851  117101148990          60.4"
            ]
          },
          "metadata": {
            "tags": []
          },
          "execution_count": 14
        }
      ]
    },
    {
      "cell_type": "code",
      "metadata": {
        "id": "1yJ9ZPjgtmoa"
      },
      "source": [
        "engine = create_engine(conn, echo=False)"
      ],
      "execution_count": 15,
      "outputs": []
    },
    {
      "cell_type": "code",
      "metadata": {
        "id": "7k4nDwkNtmeQ"
      },
      "source": [
        "market_cap_df.to_sql(\"market_cap\", con=engine, if_exists = 'replace', index=False)\n",
        "\n",
        "with engine.connect() as con:\n",
        "    con.execute('ALTER TABLE \"market_cap\" ADD PRIMARY KEY (\"Cryptocurrencies\");')"
      ],
      "execution_count": 16,
      "outputs": []
    },
    {
      "cell_type": "code",
      "metadata": {
        "id": "jvqOdtc8GHN4"
      },
      "source": [
        "#Use the NY Times API to pull recent Bitcoin news\n",
        "\n",
        "nyt_api_key = 'AHD58yFBu6t1DV7UGF2hdMCyfo2PvaHq'\n",
        "url = \"https://api.nytimes.com/svc/search/v2/articlesearch.json?\"\n",
        "\n",
        "# Store a search term\n",
        "query = \"Bitcoin\"\n",
        "\n",
        "# Search for articles published between a begin date (90 days ago) and end date (current date)\n",
        "\n",
        "end_date = datetime.today()\n",
        "begin_date = end_date - timedelta(90)\n",
        "\n",
        "end_date = end_date.strftime('%Y%m%d')\n",
        "begin_date = begin_date.strftime('%Y%m%d')\n",
        "\n",
        "\n",
        "query_url = f\"{url}api-key={nyt_api_key}&q={query}&begin_date={begin_date}&end_date={end_date}\"\n",
        "\n",
        "# Retrieve articles\n",
        "articles = requests.get(query_url).json()"
      ],
      "execution_count": 17,
      "outputs": []
    },
    {
      "cell_type": "code",
      "metadata": {
        "id": "hSUMqmQSGHFC",
        "colab": {
          "base_uri": "https://localhost:8080/",
          "height": 345
        },
        "outputId": "7ab00459-bfc6-4b76-fc1e-4fa07b14106b"
      },
      "source": [
        "# Transform API response into pandas df\n",
        "\n",
        "headline = []\n",
        "date = []\n",
        "paragraph = []\n",
        "\n",
        "articles_list = articles[\"response\"][\"docs\"]\n",
        "\n",
        "for article in articles_list:\n",
        "  headline.append(article[\"headline\"][\"main\"])\n",
        "  date.append(article[\"pub_date\"])\n",
        "  paragraph.append(article[\"lead_paragraph\"])\n",
        "\n",
        "news_df = pd.DataFrame({\"Date\": date, \"Headline\": headline, \"Paragraph\": paragraph})\n",
        "news_df['Date'] = pd.to_datetime(news_df['Date'], infer_datetime_format=True)\n",
        "news_df['Date'] = news_df['Date'].dt.strftime('%Y-%m-%d')\n",
        "#news_df.head(10)\n",
        "\n"
      ],
      "execution_count": 18,
      "outputs": [
        {
          "output_type": "execute_result",
          "data": {
            "text/html": [
              "<div>\n",
              "<style scoped>\n",
              "    .dataframe tbody tr th:only-of-type {\n",
              "        vertical-align: middle;\n",
              "    }\n",
              "\n",
              "    .dataframe tbody tr th {\n",
              "        vertical-align: top;\n",
              "    }\n",
              "\n",
              "    .dataframe thead th {\n",
              "        text-align: right;\n",
              "    }\n",
              "</style>\n",
              "<table border=\"1\" class=\"dataframe\">\n",
              "  <thead>\n",
              "    <tr style=\"text-align: right;\">\n",
              "      <th></th>\n",
              "      <th>Date</th>\n",
              "      <th>Headline</th>\n",
              "      <th>Paragraph</th>\n",
              "    </tr>\n",
              "  </thead>\n",
              "  <tbody>\n",
              "    <tr>\n",
              "      <th>0</th>\n",
              "      <td>2021-03-09</td>\n",
              "      <td>Bitcoin’s Climate Problem</td>\n",
              "      <td>“Bitcoin uses more electricity per transaction...</td>\n",
              "    </tr>\n",
              "    <tr>\n",
              "      <th>1</th>\n",
              "      <td>2021-03-09</td>\n",
              "      <td>Why Bill Gates Is Worried About Bitcoin</td>\n",
              "      <td>Bitcoin is continuing to climb — its price is ...</td>\n",
              "    </tr>\n",
              "    <tr>\n",
              "      <th>2</th>\n",
              "      <td>2021-03-16</td>\n",
              "      <td>Twitter Hacker Pleads Guilty in Florida Court</td>\n",
              "      <td>The young hacker accused of being the mastermi...</td>\n",
              "    </tr>\n",
              "    <tr>\n",
              "      <th>3</th>\n",
              "      <td>2021-03-13</td>\n",
              "      <td>From Crypto Art to Trading Cards, Investment M...</td>\n",
              "      <td>To hear more audio stories from publishers lik...</td>\n",
              "    </tr>\n",
              "    <tr>\n",
              "      <th>4</th>\n",
              "      <td>2021-02-09</td>\n",
              "      <td>Bitcoin’s Big Day</td>\n",
              "      <td>Cryptocurrency prices are soaring after Tesla ...</td>\n",
              "    </tr>\n",
              "    <tr>\n",
              "      <th>5</th>\n",
              "      <td>2021-03-01</td>\n",
              "      <td>China Charges Ahead With a National Digital Cu...</td>\n",
              "      <td>Annabelle Huang recently won a government lott...</td>\n",
              "    </tr>\n",
              "    <tr>\n",
              "      <th>6</th>\n",
              "      <td>2021-02-08</td>\n",
              "      <td>Tesla says it bought $1.5 billion of Bitcoin, ...</td>\n",
              "      <td>The electric-car maker Tesla is known for buck...</td>\n",
              "    </tr>\n",
              "    <tr>\n",
              "      <th>7</th>\n",
              "      <td>2021-02-22</td>\n",
              "      <td>Billion-Dollar Paydays in a Pandemic</td>\n",
              "      <td>Today, Institutional Investor unveiled the 20t...</td>\n",
              "    </tr>\n",
              "    <tr>\n",
              "      <th>8</th>\n",
              "      <td>2021-02-22</td>\n",
              "      <td>Why an Animated Flying Cat With a Pop-Tart Bod...</td>\n",
              "      <td>To hear more audio stories from publishers lik...</td>\n",
              "    </tr>\n",
              "    <tr>\n",
              "      <th>9</th>\n",
              "      <td>2021-02-03</td>\n",
              "      <td>What Can You Actually Buy With Bitcoin?</td>\n",
              "      <td>In the last twelve months, the value of a sing...</td>\n",
              "    </tr>\n",
              "  </tbody>\n",
              "</table>\n",
              "</div>"
            ],
            "text/plain": [
              "         Date  ...                                          Paragraph\n",
              "0  2021-03-09  ...  “Bitcoin uses more electricity per transaction...\n",
              "1  2021-03-09  ...  Bitcoin is continuing to climb — its price is ...\n",
              "2  2021-03-16  ...  The young hacker accused of being the mastermi...\n",
              "3  2021-03-13  ...  To hear more audio stories from publishers lik...\n",
              "4  2021-02-09  ...  Cryptocurrency prices are soaring after Tesla ...\n",
              "5  2021-03-01  ...  Annabelle Huang recently won a government lott...\n",
              "6  2021-02-08  ...  The electric-car maker Tesla is known for buck...\n",
              "7  2021-02-22  ...  Today, Institutional Investor unveiled the 20t...\n",
              "8  2021-02-22  ...  To hear more audio stories from publishers lik...\n",
              "9  2021-02-03  ...  In the last twelve months, the value of a sing...\n",
              "\n",
              "[10 rows x 3 columns]"
            ]
          },
          "metadata": {
            "tags": []
          },
          "execution_count": 18
        }
      ]
    },
    {
      "cell_type": "code",
      "metadata": {
        "id": "oR8AChTEuLrD"
      },
      "source": [
        "engine = create_engine(conn, echo=False)"
      ],
      "execution_count": 19,
      "outputs": []
    },
    {
      "cell_type": "code",
      "metadata": {
        "id": "T7Yzo60ZuLfs"
      },
      "source": [
        "news_df.to_sql(\"btc_news\", con=engine, if_exists = 'replace', index=False)\n",
        "\n",
        "with engine.connect() as con:\n",
        "    con.execute('ALTER TABLE \"btc_news\" ADD PRIMARY KEY (\"Headline\");')"
      ],
      "execution_count": 20,
      "outputs": []
    },
    {
      "cell_type": "markdown",
      "metadata": {
        "id": "mlFplWxPFyFA"
      },
      "source": [
        "**Facebook Prophet** Machine Learning"
      ]
    },
    {
      "cell_type": "code",
      "metadata": {
        "id": "8_8MNMSLUsst"
      },
      "source": [
        "# Facebook Prophet Model Setup\n",
        "\n",
        "fb_df = df[[\"Date\", \"Close_USD\"]]\n",
        "fb_df = fb_df.rename(columns={\"Date\": \"ds\", \"Close_USD\": \"y\"})\n",
        "#fb_df.head()"
      ],
      "execution_count": 6,
      "outputs": []
    },
    {
      "cell_type": "code",
      "metadata": {
        "colab": {
          "base_uri": "https://localhost:8080/"
        },
        "id": "3eu8t889-_g-",
        "outputId": "78f702a3-dfd4-4b78-abb5-fd31079daee8"
      },
      "source": [
        "# Create fbProphet model and fit model \n",
        "model = Prophet(daily_seasonality=True)\n",
        "model.fit(fb_df)"
      ],
      "execution_count": 7,
      "outputs": [
        {
          "output_type": "stream",
          "text": [
            "INFO:numexpr.utils:NumExpr defaulting to 2 threads.\n"
          ],
          "name": "stderr"
        },
        {
          "output_type": "execute_result",
          "data": {
            "text/plain": [
              "<fbprophet.forecaster.Prophet at 0x7fb43e8c3150>"
            ]
          },
          "metadata": {
            "tags": []
          },
          "execution_count": 7
        }
      ]
    },
    {
      "cell_type": "code",
      "metadata": {
        "id": "xjZkbTLL-_ot"
      },
      "source": [
        "# Model 30 days in the future\n",
        "\n",
        "future_df = model.make_future_dataframe(periods=30)"
      ],
      "execution_count": 8,
      "outputs": []
    },
    {
      "cell_type": "code",
      "metadata": {
        "colab": {
          "base_uri": "https://localhost:8080/",
          "height": 300
        },
        "id": "jpHqmlRb-_rp",
        "outputId": "49676b94-6ce5-4406-8e52-f69112227f0d"
      },
      "source": [
        "#Make predictions\n",
        "\n",
        "predictions = model.predict(future_df)\n",
        "predictions.tail()"
      ],
      "execution_count": 9,
      "outputs": [
        {
          "output_type": "execute_result",
          "data": {
            "text/html": [
              "<div>\n",
              "<style scoped>\n",
              "    .dataframe tbody tr th:only-of-type {\n",
              "        vertical-align: middle;\n",
              "    }\n",
              "\n",
              "    .dataframe tbody tr th {\n",
              "        vertical-align: top;\n",
              "    }\n",
              "\n",
              "    .dataframe thead th {\n",
              "        text-align: right;\n",
              "    }\n",
              "</style>\n",
              "<table border=\"1\" class=\"dataframe\">\n",
              "  <thead>\n",
              "    <tr style=\"text-align: right;\">\n",
              "      <th></th>\n",
              "      <th>ds</th>\n",
              "      <th>trend</th>\n",
              "      <th>yhat_lower</th>\n",
              "      <th>yhat_upper</th>\n",
              "      <th>trend_lower</th>\n",
              "      <th>trend_upper</th>\n",
              "      <th>additive_terms</th>\n",
              "      <th>additive_terms_lower</th>\n",
              "      <th>additive_terms_upper</th>\n",
              "      <th>daily</th>\n",
              "      <th>daily_lower</th>\n",
              "      <th>daily_upper</th>\n",
              "      <th>weekly</th>\n",
              "      <th>weekly_lower</th>\n",
              "      <th>weekly_upper</th>\n",
              "      <th>yearly</th>\n",
              "      <th>yearly_lower</th>\n",
              "      <th>yearly_upper</th>\n",
              "      <th>multiplicative_terms</th>\n",
              "      <th>multiplicative_terms_lower</th>\n",
              "      <th>multiplicative_terms_upper</th>\n",
              "      <th>yhat</th>\n",
              "    </tr>\n",
              "  </thead>\n",
              "  <tbody>\n",
              "    <tr>\n",
              "      <th>1025</th>\n",
              "      <td>2021-04-15</td>\n",
              "      <td>67184.717247</td>\n",
              "      <td>61705.251996</td>\n",
              "      <td>65666.610863</td>\n",
              "      <td>66621.677412</td>\n",
              "      <td>67792.057222</td>\n",
              "      <td>-3511.630642</td>\n",
              "      <td>-3511.630642</td>\n",
              "      <td>-3511.630642</td>\n",
              "      <td>-6827.163237</td>\n",
              "      <td>-6827.163237</td>\n",
              "      <td>-6827.163237</td>\n",
              "      <td>-20.506055</td>\n",
              "      <td>-20.506055</td>\n",
              "      <td>-20.506055</td>\n",
              "      <td>3336.038651</td>\n",
              "      <td>3336.038651</td>\n",
              "      <td>3336.038651</td>\n",
              "      <td>0.0</td>\n",
              "      <td>0.0</td>\n",
              "      <td>0.0</td>\n",
              "      <td>63673.086605</td>\n",
              "    </tr>\n",
              "    <tr>\n",
              "      <th>1026</th>\n",
              "      <td>2021-04-16</td>\n",
              "      <td>67417.231651</td>\n",
              "      <td>62218.809297</td>\n",
              "      <td>65804.813208</td>\n",
              "      <td>66822.284093</td>\n",
              "      <td>68084.570479</td>\n",
              "      <td>-3402.619838</td>\n",
              "      <td>-3402.619838</td>\n",
              "      <td>-3402.619838</td>\n",
              "      <td>-6827.163237</td>\n",
              "      <td>-6827.163237</td>\n",
              "      <td>-6827.163237</td>\n",
              "      <td>14.030982</td>\n",
              "      <td>14.030982</td>\n",
              "      <td>14.030982</td>\n",
              "      <td>3410.512418</td>\n",
              "      <td>3410.512418</td>\n",
              "      <td>3410.512418</td>\n",
              "      <td>0.0</td>\n",
              "      <td>0.0</td>\n",
              "      <td>0.0</td>\n",
              "      <td>64014.611813</td>\n",
              "    </tr>\n",
              "    <tr>\n",
              "      <th>1027</th>\n",
              "      <td>2021-04-17</td>\n",
              "      <td>67649.746056</td>\n",
              "      <td>62468.065192</td>\n",
              "      <td>66273.736740</td>\n",
              "      <td>67027.634383</td>\n",
              "      <td>68378.153170</td>\n",
              "      <td>-3298.540859</td>\n",
              "      <td>-3298.540859</td>\n",
              "      <td>-3298.540859</td>\n",
              "      <td>-6827.163237</td>\n",
              "      <td>-6827.163237</td>\n",
              "      <td>-6827.163237</td>\n",
              "      <td>32.971969</td>\n",
              "      <td>32.971969</td>\n",
              "      <td>32.971969</td>\n",
              "      <td>3495.650410</td>\n",
              "      <td>3495.650410</td>\n",
              "      <td>3495.650410</td>\n",
              "      <td>0.0</td>\n",
              "      <td>0.0</td>\n",
              "      <td>0.0</td>\n",
              "      <td>64351.205197</td>\n",
              "    </tr>\n",
              "    <tr>\n",
              "      <th>1028</th>\n",
              "      <td>2021-04-18</td>\n",
              "      <td>67882.260460</td>\n",
              "      <td>62621.425749</td>\n",
              "      <td>66543.314008</td>\n",
              "      <td>67221.010413</td>\n",
              "      <td>68674.443632</td>\n",
              "      <td>-3279.774056</td>\n",
              "      <td>-3279.774056</td>\n",
              "      <td>-3279.774056</td>\n",
              "      <td>-6827.163237</td>\n",
              "      <td>-6827.163237</td>\n",
              "      <td>-6827.163237</td>\n",
              "      <td>-44.142105</td>\n",
              "      <td>-44.142105</td>\n",
              "      <td>-44.142105</td>\n",
              "      <td>3591.531286</td>\n",
              "      <td>3591.531286</td>\n",
              "      <td>3591.531286</td>\n",
              "      <td>0.0</td>\n",
              "      <td>0.0</td>\n",
              "      <td>0.0</td>\n",
              "      <td>64602.486404</td>\n",
              "    </tr>\n",
              "    <tr>\n",
              "      <th>1029</th>\n",
              "      <td>2021-04-19</td>\n",
              "      <td>68114.774865</td>\n",
              "      <td>63012.523005</td>\n",
              "      <td>67050.394862</td>\n",
              "      <td>67413.490371</td>\n",
              "      <td>68946.310941</td>\n",
              "      <td>-3124.904734</td>\n",
              "      <td>-3124.904734</td>\n",
              "      <td>-3124.904734</td>\n",
              "      <td>-6827.163237</td>\n",
              "      <td>-6827.163237</td>\n",
              "      <td>-6827.163237</td>\n",
              "      <td>4.276163</td>\n",
              "      <td>4.276163</td>\n",
              "      <td>4.276163</td>\n",
              "      <td>3697.982341</td>\n",
              "      <td>3697.982341</td>\n",
              "      <td>3697.982341</td>\n",
              "      <td>0.0</td>\n",
              "      <td>0.0</td>\n",
              "      <td>0.0</td>\n",
              "      <td>64989.870131</td>\n",
              "    </tr>\n",
              "  </tbody>\n",
              "</table>\n",
              "</div>"
            ],
            "text/plain": [
              "             ds         trend  ...  multiplicative_terms_upper          yhat\n",
              "1025 2021-04-15  67184.717247  ...                         0.0  63673.086605\n",
              "1026 2021-04-16  67417.231651  ...                         0.0  64014.611813\n",
              "1027 2021-04-17  67649.746056  ...                         0.0  64351.205197\n",
              "1028 2021-04-18  67882.260460  ...                         0.0  64602.486404\n",
              "1029 2021-04-19  68114.774865  ...                         0.0  64989.870131\n",
              "\n",
              "[5 rows x 22 columns]"
            ]
          },
          "metadata": {
            "tags": []
          },
          "execution_count": 9
        }
      ]
    },
    {
      "cell_type": "code",
      "metadata": {
        "colab": {
          "base_uri": "https://localhost:8080/",
          "height": 441
        },
        "id": "DbJg4ywW_4wV",
        "outputId": "f5bff5ce-6fd3-4dec-a64b-07ddeeabbf07"
      },
      "source": [
        "# Plot Predictions\n",
        "model.plot(predictions).savefig('modelpredictions.png')\n"
      ],
      "execution_count": 10,
      "outputs": [
        {
          "output_type": "display_data",
          "data": {
            "image/png": "[encoded data removed]",
            "text/plain": [
              "<Figure size 720x432 with 1 Axes>"
            ]
          },
          "metadata": {
            "tags": []
          }
        }
      ]
    },
    {
      "cell_type": "code",
      "metadata": {
        "colab": {
          "base_uri": "https://localhost:8080/",
          "height": 196
        },
        "id": "Xx8JSJHiQ6QC",
        "outputId": "3729954c-ea92-4952-fcfa-ed26b25c7ec6"
      },
      "source": [
        "predictions_df = predictions.drop(columns=['yhat_lower', 'yhat_upper', 'trend_lower', 'trend_upper',\n",
        "       'additive_terms', 'additive_terms_lower', 'additive_terms_upper',\n",
        "       'daily', 'daily_lower', 'daily_upper', 'weekly', 'weekly_lower',\n",
        "       'weekly_upper', 'yearly', 'yearly_lower', 'yearly_upper',\n",
        "       'multiplicative_terms', 'multiplicative_terms_lower',\n",
        "       'multiplicative_terms_upper', 'yhat'])\n",
        "\n",
        "\n",
        "predictions_df['day'] = predictions_df['ds'].dt.day_name()\n",
        "predictions_df['ds'] = predictions_df['ds'].dt.strftime('%Y-%m-%d')\n",
        "predictions_df = predictions_df.rename(columns={\"ds\": \"date\", \"trend\": \"BTC_price_USD\"})\n",
        "predictions_df.tail()"
      ],
      "execution_count": 11,
      "outputs": [
        {
          "output_type": "execute_result",
          "data": {
            "text/html": [
              "<div>\n",
              "<style scoped>\n",
              "    .dataframe tbody tr th:only-of-type {\n",
              "        vertical-align: middle;\n",
              "    }\n",
              "\n",
              "    .dataframe tbody tr th {\n",
              "        vertical-align: top;\n",
              "    }\n",
              "\n",
              "    .dataframe thead th {\n",
              "        text-align: right;\n",
              "    }\n",
              "</style>\n",
              "<table border=\"1\" class=\"dataframe\">\n",
              "  <thead>\n",
              "    <tr style=\"text-align: right;\">\n",
              "      <th></th>\n",
              "      <th>date</th>\n",
              "      <th>BTC_price_USD</th>\n",
              "      <th>day</th>\n",
              "    </tr>\n",
              "  </thead>\n",
              "  <tbody>\n",
              "    <tr>\n",
              "      <th>1025</th>\n",
              "      <td>2021-04-15</td>\n",
              "      <td>67184.717247</td>\n",
              "      <td>Thursday</td>\n",
              "    </tr>\n",
              "    <tr>\n",
              "      <th>1026</th>\n",
              "      <td>2021-04-16</td>\n",
              "      <td>67417.231651</td>\n",
              "      <td>Friday</td>\n",
              "    </tr>\n",
              "    <tr>\n",
              "      <th>1027</th>\n",
              "      <td>2021-04-17</td>\n",
              "      <td>67649.746056</td>\n",
              "      <td>Saturday</td>\n",
              "    </tr>\n",
              "    <tr>\n",
              "      <th>1028</th>\n",
              "      <td>2021-04-18</td>\n",
              "      <td>67882.260460</td>\n",
              "      <td>Sunday</td>\n",
              "    </tr>\n",
              "    <tr>\n",
              "      <th>1029</th>\n",
              "      <td>2021-04-19</td>\n",
              "      <td>68114.774865</td>\n",
              "      <td>Monday</td>\n",
              "    </tr>\n",
              "  </tbody>\n",
              "</table>\n",
              "</div>"
            ],
            "text/plain": [
              "            date  BTC_price_USD       day\n",
              "1025  2021-04-15   67184.717247  Thursday\n",
              "1026  2021-04-16   67417.231651    Friday\n",
              "1027  2021-04-17   67649.746056  Saturday\n",
              "1028  2021-04-18   67882.260460    Sunday\n",
              "1029  2021-04-19   68114.774865    Monday"
            ]
          },
          "metadata": {
            "tags": []
          },
          "execution_count": 11
        }
      ]
    },
    {
      "cell_type": "code",
      "metadata": {
        "id": "vh8f-tE0Cc3U"
      },
      "source": [
        "engine = create_engine(conn, echo=False)"
      ],
      "execution_count": 12,
      "outputs": []
    },
    {
      "cell_type": "code",
      "metadata": {
        "id": "FOZXtU1qCeGA"
      },
      "source": [
        "predictions_df.to_sql(\"fb_predictions\", con=engine, if_exists = 'replace', index=False)\n",
        "\n",
        "with engine.connect() as con:\n",
        "    con.execute('ALTER TABLE \"fb_predictions\" ADD PRIMARY KEY (\"BTC_price_USD\");')"
      ],
      "execution_count": 14,
      "outputs": []
    },
    {
      "cell_type": "code",
      "metadata": {
        "colab": {
          "base_uri": "https://localhost:8080/",
          "height": 873
        },
        "id": "xsk9a0Hd_43m",
        "outputId": "5b683068-48e9-4c6f-8a5c-c4a5f74ef5c6"
      },
      "source": [
        "# Plot model components\n",
        "\n",
        "model.plot_components(predictions).savefig('modelcomponents.png')"
      ],
      "execution_count": 28,
      "outputs": [
        {
          "output_type": "display_data",
          "data": {
            "image/png": "[encoded data removed]",
            "text/plain": [
              "<Figure size 648x864 with 4 Axes>"
            ]
          },
          "metadata": {
            "tags": []
          }
        }
      ]
    }
  ]
}