{
  "nbformat": 4,
  "nbformat_minor": 0,
  "metadata": {
    "kernelspec": {
      "display_name": "Python 3",
      "language": "python",
      "name": "python3"
    },
    "language_info": {
      "codemirror_mode": {
        "name": "ipython",
        "version": 3
      },
      "file_extension": ".py",
      "mimetype": "text/x-python",
      "name": "python",
      "nbconvert_exporter": "python",
      "pygments_lexer": "ipython3",
      "version": "3.8.3"
    },
    "colab": {
      "name": "Bitcoin_ETL.ipynb",
      "provenance": []
    }
  },
  "cells": [
    {
      "cell_type": "code",
      "metadata": {
        "id": "BqLWy2DsUssm",
        "colab": {
          "base_uri": "https://localhost:8080/"
        },
        "outputId": "0b384724-724b-4311-eba4-d45e9643ce1e"
      },
      "source": [
        "# Import Dependencies\n",
        "\n",
        "import pandas as pd\n",
        "from fbprophet import Prophet\n",
        "import requests\n",
        "from pprint import pprint\n",
        "from datetime import datetime, timedelta\n",
        "from bs4 import BeautifulSoup as bs\n",
        "from sqlalchemy import create_engine\n",
        "import psycopg2\n"
      ],
      "execution_count": 1,
      "outputs": [
        {
          "output_type": "stream",
          "text": [
            "/usr/local/lib/python3.7/dist-packages/psycopg2/__init__.py:144: UserWarning:\n",
            "\n",
            "The psycopg2 wheel package will be renamed from release 2.8; in order to keep installing from binary please use \"pip install psycopg2-binary\" instead. For details see: <http://initd.org/psycopg/docs/install.html#binary-install-from-pypi>.\n",
            "\n"
          ],
          "name": "stderr"
        }
      ]
    },
    {
      "cell_type": "code",
      "metadata": {
        "id": "VuqJP9-zsSm_"
      },
      "source": [
        "# AWS Server Details\n",
        "\n",
        "server= \"bootcampdb.cmwhqarpyd9v.ca-central-1.rds.amazonaws.com\"\n",
        "database = \"postgres\"\n",
        "port =\"5432\"\n",
        "username = \"root\"\n",
        "password = \"xy92Hdie\"\n",
        "\n",
        "conn = f\"postgres://{username}:{password}@{server}:{port}/{database}\""
      ],
      "execution_count": 2,
      "outputs": []
    },
    {
      "cell_type": "code",
      "metadata": {
        "id": "Jn-4SfnYUssr"
      },
      "source": [
        "# Read Bitcoin daily data from Alpha Vantage API\n",
        "\n",
        "av_api_key = 'IYOYBP274BRSLPM0'\n",
        "\n",
        "url = \"https://www.alphavantage.co/query?function=DIGITAL_CURRENCY_DAILY&symbol=BTC&market=CAD&apikey={av_api_key}\"\n",
        "\n",
        "data = requests.get(url).json()\n",
        "bc_data = data[\"Time Series (Digital Currency Daily)\"]"
      ],
      "execution_count": 3,
      "outputs": []
    },
    {
      "cell_type": "code",
      "metadata": {
        "id": "llADr3fmXpNw"
      },
      "source": [
        "# Loop through json response API data and transform into lists in python to create pandas dataframe\n",
        "\n",
        "date = []\n",
        "open_CAD = []\n",
        "open_USD = []\n",
        "high_CAD = []\n",
        "high_USD = []\n",
        "low_CAD = []\n",
        "low_USD = []\n",
        "close_CAD = []\n",
        "close_USD = []\n",
        "volume = []\n",
        "\n",
        "date = list(bc_data.keys())\n",
        "\n",
        "for d in date:\n",
        "  value = bc_data[d]\n",
        "  close_CAD.append(value['4a. close (CAD)'])\n",
        "  close_USD.append(value['4b. close (USD)'])\n",
        "  volume.append(value['5. volume'])\n",
        "  open_CAD.append(value['1a. open (CAD)'])\n",
        "  open_USD.append(value['1b. open (USD)'])\n",
        "  high_CAD.append(value['2a. high (CAD)'])\n",
        "  high_USD.append(value['2b. high (USD)'])\n",
        "  low_CAD.append(value['3a. low (CAD)'])\n",
        "  low_USD.append(value['3b. low (USD)'])"
      ],
      "execution_count": 4,
      "outputs": []
    },
    {
      "cell_type": "code",
      "metadata": {
        "colab": {
          "base_uri": "https://localhost:8080/",
          "height": 195
        },
        "id": "Lz5A9T4OUsst",
        "outputId": "b192a2bf-860f-4268-d0cf-068f93f8b76d"
      },
      "source": [
        "# Create Pandas dataframe\n",
        "\n",
        "df = pd.DataFrame({\"Date\": date, \"Open_USD\": open_USD, \"High_USD\": high_USD,  \"Low_USD\": low_USD,  \"Close_USD\":close_USD})\n",
        "df.head()\n",
        "\n",
        "\n"
      ],
      "execution_count": 5,
      "outputs": [
        {
          "output_type": "execute_result",
          "data": {
            "text/html": [
              "<div>\n",
              "<style scoped>\n",
              "    .dataframe tbody tr th:only-of-type {\n",
              "        vertical-align: middle;\n",
              "    }\n",
              "\n",
              "    .dataframe tbody tr th {\n",
              "        vertical-align: top;\n",
              "    }\n",
              "\n",
              "    .dataframe thead th {\n",
              "        text-align: right;\n",
              "    }\n",
              "</style>\n",
              "<table border=\"1\" class=\"dataframe\">\n",
              "  <thead>\n",
              "    <tr style=\"text-align: right;\">\n",
              "      <th></th>\n",
              "      <th>Date</th>\n",
              "      <th>Open_USD</th>\n",
              "      <th>High_USD</th>\n",
              "      <th>Low_USD</th>\n",
              "      <th>Close_USD</th>\n",
              "    </tr>\n",
              "  </thead>\n",
              "  <tbody>\n",
              "    <tr>\n",
              "      <th>0</th>\n",
              "      <td>2021-03-19</td>\n",
              "      <td>57641.00000000</td>\n",
              "      <td>57689.65000000</td>\n",
              "      <td>56270.74000000</td>\n",
              "      <td>56644.87000000</td>\n",
              "    </tr>\n",
              "    <tr>\n",
              "      <th>1</th>\n",
              "      <td>2021-03-18</td>\n",
              "      <td>58912.97000000</td>\n",
              "      <td>60129.97000000</td>\n",
              "      <td>57023.00000000</td>\n",
              "      <td>57648.16000000</td>\n",
              "    </tr>\n",
              "    <tr>\n",
              "      <th>2</th>\n",
              "      <td>2021-03-17</td>\n",
              "      <td>56900.74000000</td>\n",
              "      <td>58974.73000000</td>\n",
              "      <td>54123.69000000</td>\n",
              "      <td>58912.97000000</td>\n",
              "    </tr>\n",
              "    <tr>\n",
              "      <th>3</th>\n",
              "      <td>2021-03-16</td>\n",
              "      <td>55605.20000000</td>\n",
              "      <td>56938.29000000</td>\n",
              "      <td>53271.34000000</td>\n",
              "      <td>56900.75000000</td>\n",
              "    </tr>\n",
              "    <tr>\n",
              "      <th>4</th>\n",
              "      <td>2021-03-15</td>\n",
              "      <td>58976.08000000</td>\n",
              "      <td>60633.43000000</td>\n",
              "      <td>54600.00000000</td>\n",
              "      <td>55605.20000000</td>\n",
              "    </tr>\n",
              "  </tbody>\n",
              "</table>\n",
              "</div>"
            ],
            "text/plain": [
              "         Date        Open_USD        High_USD         Low_USD       Close_USD\n",
              "0  2021-03-19  57641.00000000  57689.65000000  56270.74000000  56644.87000000\n",
              "1  2021-03-18  58912.97000000  60129.97000000  57023.00000000  57648.16000000\n",
              "2  2021-03-17  56900.74000000  58974.73000000  54123.69000000  58912.97000000\n",
              "3  2021-03-16  55605.20000000  56938.29000000  53271.34000000  56900.75000000\n",
              "4  2021-03-15  58976.08000000  60633.43000000  54600.00000000  55605.20000000"
            ]
          },
          "metadata": {
            "tags": []
          },
          "execution_count": 5
        }
      ]
    },
    {
      "cell_type": "code",
      "metadata": {
        "colab": {
          "base_uri": "https://localhost:8080/"
        },
        "id": "quyPcwJssduF",
        "outputId": "928a0400-d2fe-4c50-f3a1-87ae85e435d7"
      },
      "source": [
        "engine = create_engine(conn, echo=False)"
      ],
      "execution_count": 6,
      "outputs": [
        {
          "output_type": "stream",
          "text": [
            "/usr/local/lib/python3.7/dist-packages/psycopg2/__init__.py:144: UserWarning:\n",
            "\n",
            "The psycopg2 wheel package will be renamed from release 2.8; in order to keep installing from binary please use \"pip install psycopg2-binary\" instead. For details see: <http://initd.org/psycopg/docs/install.html#binary-install-from-pypi>.\n",
            "\n"
          ],
          "name": "stderr"
        }
      ]
    },
    {
      "cell_type": "code",
      "metadata": {
        "id": "mfgXWfO2sh-c"
      },
      "source": [
        "df.to_sql(\"coin_price\", con=engine, if_exists = 'replace', index=False)\n",
        "\n",
        "with engine.connect() as con:\n",
        "    con.execute('ALTER TABLE \"coin_price\" ADD PRIMARY KEY (\"Date\");')"
      ],
      "execution_count": null,
      "outputs": []
    },
    {
      "cell_type": "code",
      "metadata": {
        "id": "ldK0itaJfg6F"
      },
      "source": [
        "# Read Bitcoin crypto rating data from Alpha Vantage API\n",
        "\n",
        "\n",
        "crypto_rating_url = 'https://www.alphavantage.co/query?function=CRYPTO_RATING&symbol=BTC&apikey={av_api_key}'\n",
        "\n",
        "rating_data = requests.get(crypto_rating_url).json()\n",
        "\n",
        "rating = rating_data['Crypto Rating (FCAS)']['3. fcas rating']\n",
        "score = rating_data['Crypto Rating (FCAS)']['4. fcas score']\n",
        "refresh_date = rating_data['Crypto Rating (FCAS)']['8. last refreshed']\n"
      ],
      "execution_count": null,
      "outputs": []
    },
    {
      "cell_type": "code",
      "metadata": {
        "id": "UTMm0jmTfgzI"
      },
      "source": [
        "# Create a pandas df\n",
        "\n",
        "rating_df = pd.DataFrame({\"Date\": refresh_date, \"Rank\": rating, \"Score\": score}, index=[0])\n",
        "rating_df['Date'] = pd.to_datetime(rating_df['Date'], infer_datetime_format=True)\n",
        "rating_df['Date'] = rating_df['Date'].dt.strftime('%Y-%m-%d')\n",
        "\n",
        "rating_df "
      ],
      "execution_count": null,
      "outputs": []
    },
    {
      "cell_type": "code",
      "metadata": {
        "id": "HeOmcdUAtZG6"
      },
      "source": [
        "engine = create_engine(conn, echo=False)"
      ],
      "execution_count": null,
      "outputs": []
    },
    {
      "cell_type": "code",
      "metadata": {
        "id": "2NLkWG4_tbA4"
      },
      "source": [
        "rating_df.to_sql(\"rating\", con=engine, if_exists = 'replace', index=False)\n",
        "\n",
        "with engine.connect() as con:\n",
        "    con.execute('ALTER TABLE \"rating\" ADD PRIMARY KEY (\"Date\");')"
      ],
      "execution_count": null,
      "outputs": []
    },
    {
      "cell_type": "code",
      "metadata": {
        "id": "0sY4vbLl5lIP"
      },
      "source": [
        "# Coin Market Cap URL of page to be scraped for Market Cap data\n",
        "\n",
        "cmc_url = 'https://coinmarketcap.com/'\n",
        "\n",
        "# Retrieve page with the requests module\n",
        "\n",
        "response = requests.get(cmc_url)\n",
        "\n",
        "# Create BeautifulSoup object; parse with 'html.parser'\n",
        "\n",
        "soup = bs(response.text, 'html.parser')"
      ],
      "execution_count": null,
      "outputs": []
    },
    {
      "cell_type": "code",
      "metadata": {
        "id": "K_COcT8X5lAo"
      },
      "source": [
        "#Scrape url for the data\n",
        "\n",
        "results = soup.find_all('div', class_='sc-33i2yg-0 dOnegn')\n",
        "\n",
        "for r in results:\n",
        "  header = r.find_all('span', class_=\"sc-12ja2s9-0 eALoKW\")\n",
        "   \n",
        "  title =[]\n",
        "  value =[]\n",
        "  for values in header:\n",
        "    data = (values.text.split(\":\"))\n",
        "    title.append(data[0])\n",
        "\n",
        "    if data[0] == \"Dominance\":\n",
        "      value.append(data[2][1:5])\n",
        "    else:\n",
        "      value.append(data[1][2:])\n",
        "\n"
      ],
      "execution_count": null,
      "outputs": []
    },
    {
      "cell_type": "code",
      "metadata": {
        "id": "AqznELTeZm4n"
      },
      "source": [
        "# create data table in pandas and clean up data\n",
        "\n",
        "market_cap_df = pd.DataFrame({\"Title\": title, \"Value\": value})\n",
        "market_cap_df = market_cap_df.drop(index=5)\n",
        "market_cap_df = market_cap_df.transpose()\n",
        "columns = market_cap_df.iloc[0].values\n",
        "market_cap_df.columns = columns\n",
        "market_cap_df.drop('Title', axis=0, inplace = True)\n",
        "market_cap_df.reset_index(inplace=True)\n",
        "market_cap_df = market_cap_df.drop(columns='index')\n",
        "market_cap_df = market_cap_df.rename(columns={\"Dominance\": \"BTC_Dominance\", \"Market Cap\": \"Market_Cap\", \"24h Vol\": \"24h_Volume\"})\n",
        "market_cap_df['Market_Cap'] = market_cap_df['Market_Cap'].str.replace(\"$\",\"\")\n",
        "market_cap_df['24h_Volume'] = market_cap_df['24h_Volume'].str.replace(\"$\",\"\")\n",
        "market_cap_df = market_cap_df.replace(',','', regex=True)\n",
        "market_cap_df"
      ],
      "execution_count": null,
      "outputs": []
    },
    {
      "cell_type": "code",
      "metadata": {
        "id": "1yJ9ZPjgtmoa"
      },
      "source": [
        "engine = create_engine(conn, echo=False)"
      ],
      "execution_count": null,
      "outputs": []
    },
    {
      "cell_type": "code",
      "metadata": {
        "id": "7k4nDwkNtmeQ"
      },
      "source": [
        "market_cap_df.to_sql(\"market_cap\", con=engine, if_exists = 'replace', index=False)\n",
        "\n",
        "with engine.connect() as con:\n",
        "    con.execute('ALTER TABLE \"market_cap\" ADD PRIMARY KEY (\"Cryptocurrencies\");')"
      ],
      "execution_count": null,
      "outputs": []
    },
    {
      "cell_type": "code",
      "metadata": {
        "id": "jvqOdtc8GHN4"
      },
      "source": [
        "#Use the NY Times API to pull recent Bitcoin news\n",
        "\n",
        "nyt_api_key = 'AHD58yFBu6t1DV7UGF2hdMCyfo2PvaHq'\n",
        "url = \"https://api.nytimes.com/svc/search/v2/articlesearch.json?\"\n",
        "\n",
        "# Store a search term\n",
        "query = \"Bitcoin\"\n",
        "\n",
        "# Search for articles published between a begin date (90 days ago) and end date (current date)\n",
        "\n",
        "end_date = datetime.today()\n",
        "begin_date = end_date - timedelta(90)\n",
        "\n",
        "end_date = end_date.strftime('%Y%m%d')\n",
        "begin_date = begin_date.strftime('%Y%m%d')\n",
        "\n",
        "\n",
        "query_url = f\"{url}api-key={nyt_api_key}&q={query}&begin_date={begin_date}&end_date={end_date}\"\n",
        "\n",
        "# Retrieve articles\n",
        "articles = requests.get(query_url).json()"
      ],
      "execution_count": null,
      "outputs": []
    },
    {
      "cell_type": "code",
      "metadata": {
        "id": "hSUMqmQSGHFC"
      },
      "source": [
        "# Transform API response into pandas df\n",
        "\n",
        "headline = []\n",
        "date = []\n",
        "paragraph = []\n",
        "\n",
        "articles_list = articles[\"response\"][\"docs\"]\n",
        "\n",
        "for article in articles_list:\n",
        "  headline.append(article[\"headline\"][\"main\"])\n",
        "  date.append(article[\"pub_date\"])\n",
        "  paragraph.append(article[\"lead_paragraph\"])\n",
        "\n",
        "news_df = pd.DataFrame({\"Date\": date, \"Headline\": headline, \"Paragraph\": paragraph})\n",
        "news_df['Date'] = pd.to_datetime(news_df['Date'], infer_datetime_format=True)\n",
        "news_df['Date'] = news_df['Date'].dt.strftime('%Y-%m-%d')\n",
        "news_df.head(10)\n",
        "\n"
      ],
      "execution_count": null,
      "outputs": []
    },
    {
      "cell_type": "code",
      "metadata": {
        "id": "oR8AChTEuLrD"
      },
      "source": [
        "engine = create_engine(conn, echo=False)"
      ],
      "execution_count": null,
      "outputs": []
    },
    {
      "cell_type": "code",
      "metadata": {
        "id": "T7Yzo60ZuLfs"
      },
      "source": [
        "news_df.to_sql(\"btc_news\", con=engine, if_exists = 'replace', index=False)\n",
        "\n",
        "with engine.connect() as con:\n",
        "    con.execute('ALTER TABLE \"btc_news\" ADD PRIMARY KEY (\"Headline\");')"
      ],
      "execution_count": null,
      "outputs": []
    },
    {
      "cell_type": "markdown",
      "metadata": {
        "id": "mlFplWxPFyFA"
      },
      "source": [
        "**Facebook Prophet** Machine Learning"
      ]
    },
    {
      "cell_type": "code",
      "metadata": {
        "id": "8_8MNMSLUsst",
        "colab": {
          "base_uri": "https://localhost:8080/",
          "height": 195
        },
        "outputId": "dbc5acee-ca52-4428-e7de-95abef84f8ae"
      },
      "source": [
        "# Facebook Prophet Model Setup\n",
        "\n",
        "fb_df = df[[\"Date\", \"Close_USD\"]]\n",
        "fb_df = fb_df.rename(columns={\"Date\": \"ds\", \"Close_USD\": \"y\"})\n",
        "fb_df.head()"
      ],
      "execution_count": 6,
      "outputs": [
        {
          "output_type": "execute_result",
          "data": {
            "text/html": [
              "<div>\n",
              "<style scoped>\n",
              "    .dataframe tbody tr th:only-of-type {\n",
              "        vertical-align: middle;\n",
              "    }\n",
              "\n",
              "    .dataframe tbody tr th {\n",
              "        vertical-align: top;\n",
              "    }\n",
              "\n",
              "    .dataframe thead th {\n",
              "        text-align: right;\n",
              "    }\n",
              "</style>\n",
              "<table border=\"1\" class=\"dataframe\">\n",
              "  <thead>\n",
              "    <tr style=\"text-align: right;\">\n",
              "      <th></th>\n",
              "      <th>ds</th>\n",
              "      <th>y</th>\n",
              "    </tr>\n",
              "  </thead>\n",
              "  <tbody>\n",
              "    <tr>\n",
              "      <th>0</th>\n",
              "      <td>2021-03-19</td>\n",
              "      <td>56644.87000000</td>\n",
              "    </tr>\n",
              "    <tr>\n",
              "      <th>1</th>\n",
              "      <td>2021-03-18</td>\n",
              "      <td>57648.16000000</td>\n",
              "    </tr>\n",
              "    <tr>\n",
              "      <th>2</th>\n",
              "      <td>2021-03-17</td>\n",
              "      <td>58912.97000000</td>\n",
              "    </tr>\n",
              "    <tr>\n",
              "      <th>3</th>\n",
              "      <td>2021-03-16</td>\n",
              "      <td>56900.75000000</td>\n",
              "    </tr>\n",
              "    <tr>\n",
              "      <th>4</th>\n",
              "      <td>2021-03-15</td>\n",
              "      <td>55605.20000000</td>\n",
              "    </tr>\n",
              "  </tbody>\n",
              "</table>\n",
              "</div>"
            ],
            "text/plain": [
              "           ds               y\n",
              "0  2021-03-19  56644.87000000\n",
              "1  2021-03-18  57648.16000000\n",
              "2  2021-03-17  58912.97000000\n",
              "3  2021-03-16  56900.75000000\n",
              "4  2021-03-15  55605.20000000"
            ]
          },
          "metadata": {
            "tags": []
          },
          "execution_count": 6
        }
      ]
    },
    {
      "cell_type": "code",
      "metadata": {
        "id": "3eu8t889-_g-",
        "colab": {
          "base_uri": "https://localhost:8080/"
        },
        "outputId": "252956da-89fe-4ae9-e8ac-27ca5ed5e2a2"
      },
      "source": [
        "# Create fbProphet model and fit model \n",
        "model = Prophet()\n",
        "model.fit(fb_df)"
      ],
      "execution_count": 7,
      "outputs": [
        {
          "output_type": "stream",
          "text": [
            "INFO:numexpr.utils:NumExpr defaulting to 2 threads.\n",
            "INFO:fbprophet:Disabling daily seasonality. Run prophet with daily_seasonality=True to override this.\n"
          ],
          "name": "stderr"
        },
        {
          "output_type": "execute_result",
          "data": {
            "text/plain": [
              "<fbprophet.forecaster.Prophet at 0x7fbf55320350>"
            ]
          },
          "metadata": {
            "tags": []
          },
          "execution_count": 7
        }
      ]
    },
    {
      "cell_type": "code",
      "metadata": {
        "id": "xjZkbTLL-_ot"
      },
      "source": [
        "# Model 90 days in the future\n",
        "\n",
        "future_df = model.make_future_dataframe(periods=90)"
      ],
      "execution_count": 8,
      "outputs": []
    },
    {
      "cell_type": "code",
      "metadata": {
        "id": "jpHqmlRb-_rp",
        "colab": {
          "base_uri": "https://localhost:8080/",
          "height": 299
        },
        "outputId": "4b4d7fc9-4298-47de-ef50-4a39f01d3853"
      },
      "source": [
        "#Make predictions\n",
        "\n",
        "predictions = model.predict(future_df)\n",
        "predictions.tail()"
      ],
      "execution_count": 9,
      "outputs": [
        {
          "output_type": "execute_result",
          "data": {
            "text/html": [
              "<div>\n",
              "<style scoped>\n",
              "    .dataframe tbody tr th:only-of-type {\n",
              "        vertical-align: middle;\n",
              "    }\n",
              "\n",
              "    .dataframe tbody tr th {\n",
              "        vertical-align: top;\n",
              "    }\n",
              "\n",
              "    .dataframe thead th {\n",
              "        text-align: right;\n",
              "    }\n",
              "</style>\n",
              "<table border=\"1\" class=\"dataframe\">\n",
              "  <thead>\n",
              "    <tr style=\"text-align: right;\">\n",
              "      <th></th>\n",
              "      <th>ds</th>\n",
              "      <th>trend</th>\n",
              "      <th>yhat_lower</th>\n",
              "      <th>yhat_upper</th>\n",
              "      <th>trend_lower</th>\n",
              "      <th>trend_upper</th>\n",
              "      <th>additive_terms</th>\n",
              "      <th>additive_terms_lower</th>\n",
              "      <th>additive_terms_upper</th>\n",
              "      <th>weekly</th>\n",
              "      <th>weekly_lower</th>\n",
              "      <th>weekly_upper</th>\n",
              "      <th>yearly</th>\n",
              "      <th>yearly_lower</th>\n",
              "      <th>yearly_upper</th>\n",
              "      <th>multiplicative_terms</th>\n",
              "      <th>multiplicative_terms_lower</th>\n",
              "      <th>multiplicative_terms_upper</th>\n",
              "      <th>yhat</th>\n",
              "    </tr>\n",
              "  </thead>\n",
              "  <tbody>\n",
              "    <tr>\n",
              "      <th>1085</th>\n",
              "      <td>2021-06-13</td>\n",
              "      <td>73297.224055</td>\n",
              "      <td>76082.830546</td>\n",
              "      <td>85093.859013</td>\n",
              "      <td>69113.807880</td>\n",
              "      <td>77476.989984</td>\n",
              "      <td>7247.998151</td>\n",
              "      <td>7247.998151</td>\n",
              "      <td>7247.998151</td>\n",
              "      <td>-34.848525</td>\n",
              "      <td>-34.848525</td>\n",
              "      <td>-34.848525</td>\n",
              "      <td>7282.846676</td>\n",
              "      <td>7282.846676</td>\n",
              "      <td>7282.846676</td>\n",
              "      <td>0.0</td>\n",
              "      <td>0.0</td>\n",
              "      <td>0.0</td>\n",
              "      <td>80545.222206</td>\n",
              "    </tr>\n",
              "    <tr>\n",
              "      <th>1086</th>\n",
              "      <td>2021-06-14</td>\n",
              "      <td>73525.740404</td>\n",
              "      <td>76184.959932</td>\n",
              "      <td>85626.716159</td>\n",
              "      <td>69224.313411</td>\n",
              "      <td>77778.304393</td>\n",
              "      <td>7318.966853</td>\n",
              "      <td>7318.966853</td>\n",
              "      <td>7318.966853</td>\n",
              "      <td>7.338598</td>\n",
              "      <td>7.338598</td>\n",
              "      <td>7.338598</td>\n",
              "      <td>7311.628255</td>\n",
              "      <td>7311.628255</td>\n",
              "      <td>7311.628255</td>\n",
              "      <td>0.0</td>\n",
              "      <td>0.0</td>\n",
              "      <td>0.0</td>\n",
              "      <td>80844.707258</td>\n",
              "    </tr>\n",
              "    <tr>\n",
              "      <th>1087</th>\n",
              "      <td>2021-06-15</td>\n",
              "      <td>73754.256754</td>\n",
              "      <td>76475.658418</td>\n",
              "      <td>86228.595026</td>\n",
              "      <td>69306.874017</td>\n",
              "      <td>78124.951460</td>\n",
              "      <td>7305.964682</td>\n",
              "      <td>7305.964682</td>\n",
              "      <td>7305.964682</td>\n",
              "      <td>-35.555879</td>\n",
              "      <td>-35.555879</td>\n",
              "      <td>-35.555879</td>\n",
              "      <td>7341.520561</td>\n",
              "      <td>7341.520561</td>\n",
              "      <td>7341.520561</td>\n",
              "      <td>0.0</td>\n",
              "      <td>0.0</td>\n",
              "      <td>0.0</td>\n",
              "      <td>81060.221435</td>\n",
              "    </tr>\n",
              "    <tr>\n",
              "      <th>1088</th>\n",
              "      <td>2021-06-16</td>\n",
              "      <td>73982.773103</td>\n",
              "      <td>76673.985501</td>\n",
              "      <td>86294.671282</td>\n",
              "      <td>69423.624660</td>\n",
              "      <td>78411.410500</td>\n",
              "      <td>7426.365288</td>\n",
              "      <td>7426.365288</td>\n",
              "      <td>7426.365288</td>\n",
              "      <td>54.219895</td>\n",
              "      <td>54.219895</td>\n",
              "      <td>54.219895</td>\n",
              "      <td>7372.145393</td>\n",
              "      <td>7372.145393</td>\n",
              "      <td>7372.145393</td>\n",
              "      <td>0.0</td>\n",
              "      <td>0.0</td>\n",
              "      <td>0.0</td>\n",
              "      <td>81409.138391</td>\n",
              "    </tr>\n",
              "    <tr>\n",
              "      <th>1089</th>\n",
              "      <td>2021-06-17</td>\n",
              "      <td>74211.289453</td>\n",
              "      <td>76755.214402</td>\n",
              "      <td>86487.982640</td>\n",
              "      <td>69533.444269</td>\n",
              "      <td>78758.957626</td>\n",
              "      <td>7385.690242</td>\n",
              "      <td>7385.690242</td>\n",
              "      <td>7385.690242</td>\n",
              "      <td>-17.371527</td>\n",
              "      <td>-17.371527</td>\n",
              "      <td>-17.371527</td>\n",
              "      <td>7403.061768</td>\n",
              "      <td>7403.061768</td>\n",
              "      <td>7403.061768</td>\n",
              "      <td>0.0</td>\n",
              "      <td>0.0</td>\n",
              "      <td>0.0</td>\n",
              "      <td>81596.979694</td>\n",
              "    </tr>\n",
              "  </tbody>\n",
              "</table>\n",
              "</div>"
            ],
            "text/plain": [
              "             ds         trend  ...  multiplicative_terms_upper          yhat\n",
              "1085 2021-06-13  73297.224055  ...                         0.0  80545.222206\n",
              "1086 2021-06-14  73525.740404  ...                         0.0  80844.707258\n",
              "1087 2021-06-15  73754.256754  ...                         0.0  81060.221435\n",
              "1088 2021-06-16  73982.773103  ...                         0.0  81409.138391\n",
              "1089 2021-06-17  74211.289453  ...                         0.0  81596.979694\n",
              "\n",
              "[5 rows x 19 columns]"
            ]
          },
          "metadata": {
            "tags": []
          },
          "execution_count": 9
        }
      ]
    },
    {
      "cell_type": "code",
      "metadata": {
        "id": "DbJg4ywW_4wV",
        "colab": {
          "base_uri": "https://localhost:8080/",
          "height": 441
        },
        "outputId": "fa9678f6-d49f-4d5a-c8fe-01931bc39524"
      },
      "source": [
        "# Plot Predictions\n",
        "model.plot(predictions).savefig('modelpredictions.png')\n",
        "\n"
      ],
      "execution_count": 15,
      "outputs": [
        {
          "output_type": "display_data",
          "data": {
            "image/png": "[encoded data removed]",
            "text/plain": [
              "<Figure size 720x432 with 1 Axes>"
            ]
          },
          "metadata": {
            "tags": []
          }
        }
      ]
    },
    {
      "cell_type": "code",
      "metadata": {
        "id": "xsk9a0Hd_43m",
        "colab": {
          "base_uri": "https://localhost:8080/",
          "height": 657
        },
        "outputId": "c4f57cb9-ec4a-4f89-965b-63d7130576c6"
      },
      "source": [
        "# Plot model components\n",
        "\n",
        "model.plot_components(predictions).savefig('modelcomponents.png')"
      ],
      "execution_count": 16,
      "outputs": [
        {
          "output_type": "display_data",
          "data": {
            "image/png": "[encoded data removed]",
            "text/plain": [
              "<Figure size 648x648 with 3 Axes>"
            ]
          },
          "metadata": {
            "tags": []
          }
        }
      ]
    }
  ]
}