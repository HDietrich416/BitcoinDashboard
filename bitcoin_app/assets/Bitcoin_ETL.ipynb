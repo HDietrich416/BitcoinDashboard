{
  "nbformat": 4,
  "nbformat_minor": 0,
  "metadata": {
    "colab": {
      "name": "Bitcoin_ETL.ipynb",
      "provenance": []
    },
    "kernelspec": {
      "display_name": "Python 3",
      "language": "python",
      "name": "python3"
    },
    "language_info": {
      "codemirror_mode": {
        "name": "ipython",
        "version": 3
      },
      "file_extension": ".py",
      "mimetype": "text/x-python",
      "name": "python",
      "nbconvert_exporter": "python",
      "pygments_lexer": "ipython3",
      "version": "3.8.3"
    }
  },
  "cells": [
    {
      "cell_type": "code",
      "metadata": {
        "colab": {
          "base_uri": "https://localhost:8080/"
        },
        "id": "BqLWy2DsUssm",
        "outputId": "0bad7b84-9e08-48f4-f3b6-8fb9134e1282"
      },
      "source": [
        "# Import Dependencies\n",
        "\n",
        "import pandas as pd\n",
        "from fbprophet import Prophet\n",
        "import requests\n",
        "from pprint import pprint\n",
        "from datetime import datetime, timedelta\n",
        "from bs4 import BeautifulSoup as bs\n",
        "from sqlalchemy import create_engine\n",
        "import psycopg2\n"
      ],
      "execution_count": 1,
      "outputs": [
        {
          "output_type": "stream",
          "text": [
            "/usr/local/lib/python3.7/dist-packages/psycopg2/__init__.py:144: UserWarning:\n",
            "\n",
            "The psycopg2 wheel package will be renamed from release 2.8; in order to keep installing from binary please use \"pip install psycopg2-binary\" instead. For details see: <http://initd.org/psycopg/docs/install.html#binary-install-from-pypi>.\n",
            "\n"
          ],
          "name": "stderr"
        }
      ]
    },
    {
      "cell_type": "code",
      "metadata": {
        "id": "VuqJP9-zsSm_"
      },
      "source": [
        "# AWS Server Details\n",
        "\n",
        "server= \"bootcampdb.cmwhqarpyd9v.ca-central-1.rds.amazonaws.com\"\n",
        "database = \"postgres\"\n",
        "port =\"5432\"\n",
        "username = \"root\"\n",
        "password = \"xy92Hdie\"\n",
        "\n",
        "conn = f\"postgres://{username}:{password}@{server}:{port}/{database}\""
      ],
      "execution_count": 2,
      "outputs": []
    },
    {
      "cell_type": "code",
      "metadata": {
        "id": "Jn-4SfnYUssr"
      },
      "source": [
        "# Read Bitcoin daily data from Alpha Vantage API\n",
        "\n",
        "av_api_key = 'IYOYBP274BRSLPM0'\n",
        "\n",
        "url = \"https://www.alphavantage.co/query?function=DIGITAL_CURRENCY_DAILY&symbol=BTC&market=CAD&apikey={av_api_key}\"\n",
        "\n",
        "data = requests.get(url).json()\n",
        "bc_data = data[\"Time Series (Digital Currency Daily)\"]"
      ],
      "execution_count": 2,
      "outputs": []
    },
    {
      "cell_type": "code",
      "metadata": {
        "id": "llADr3fmXpNw"
      },
      "source": [
        "# Loop through json response API data and transform into lists in python to create pandas dataframe\n",
        "\n",
        "date = []\n",
        "open_CAD = []\n",
        "open_USD = []\n",
        "high_CAD = []\n",
        "high_USD = []\n",
        "low_CAD = []\n",
        "low_USD = []\n",
        "close_CAD = []\n",
        "close_USD = []\n",
        "volume = []\n",
        "\n",
        "date = list(bc_data.keys())\n",
        "\n",
        "for d in date:\n",
        "  value = bc_data[d]\n",
        "  close_CAD.append(value['4a. close (CAD)'])\n",
        "  close_USD.append(value['4b. close (USD)'])\n",
        "  volume.append(value['5. volume'])\n",
        "  open_CAD.append(value['1a. open (CAD)'])\n",
        "  open_USD.append(value['1b. open (USD)'])\n",
        "  high_CAD.append(value['2a. high (CAD)'])\n",
        "  high_USD.append(value['2b. high (USD)'])\n",
        "  low_CAD.append(value['3a. low (CAD)'])\n",
        "  low_USD.append(value['3b. low (USD)'])"
      ],
      "execution_count": 3,
      "outputs": []
    },
    {
      "cell_type": "code",
      "metadata": {
        "colab": {
          "base_uri": "https://localhost:8080/",
          "height": 195
        },
        "id": "Lz5A9T4OUsst",
        "outputId": "2bd51136-5243-4f8c-bb65-a7fc060b5b9f"
      },
      "source": [
        "# Create Pandas dataframe\n",
        "\n",
        "df = pd.DataFrame({\"Date\": date, \"Open_USD\": open_USD, \"High_USD\": high_USD,  \"Low_USD\": low_USD,  \"Close_USD\":close_USD})\n",
        "df.head()\n",
        "\n",
        "\n"
      ],
      "execution_count": 4,
      "outputs": [
        {
          "output_type": "execute_result",
          "data": {
            "text/html": [
              "<div>\n",
              "<style scoped>\n",
              "    .dataframe tbody tr th:only-of-type {\n",
              "        vertical-align: middle;\n",
              "    }\n",
              "\n",
              "    .dataframe tbody tr th {\n",
              "        vertical-align: top;\n",
              "    }\n",
              "\n",
              "    .dataframe thead th {\n",
              "        text-align: right;\n",
              "    }\n",
              "</style>\n",
              "<table border=\"1\" class=\"dataframe\">\n",
              "  <thead>\n",
              "    <tr style=\"text-align: right;\">\n",
              "      <th></th>\n",
              "      <th>Date</th>\n",
              "      <th>Open_USD</th>\n",
              "      <th>High_USD</th>\n",
              "      <th>Low_USD</th>\n",
              "      <th>Close_USD</th>\n",
              "    </tr>\n",
              "  </thead>\n",
              "  <tbody>\n",
              "    <tr>\n",
              "      <th>0</th>\n",
              "      <td>2021-03-20</td>\n",
              "      <td>58030.01000000</td>\n",
              "      <td>58428.58000000</td>\n",
              "      <td>57820.17000000</td>\n",
              "      <td>58394.17000000</td>\n",
              "    </tr>\n",
              "    <tr>\n",
              "      <th>1</th>\n",
              "      <td>2021-03-19</td>\n",
              "      <td>57641.00000000</td>\n",
              "      <td>59468.00000000</td>\n",
              "      <td>56270.74000000</td>\n",
              "      <td>58030.01000000</td>\n",
              "    </tr>\n",
              "    <tr>\n",
              "      <th>2</th>\n",
              "      <td>2021-03-18</td>\n",
              "      <td>58912.97000000</td>\n",
              "      <td>60129.97000000</td>\n",
              "      <td>57023.00000000</td>\n",
              "      <td>57648.16000000</td>\n",
              "    </tr>\n",
              "    <tr>\n",
              "      <th>3</th>\n",
              "      <td>2021-03-17</td>\n",
              "      <td>56900.74000000</td>\n",
              "      <td>58974.73000000</td>\n",
              "      <td>54123.69000000</td>\n",
              "      <td>58912.97000000</td>\n",
              "    </tr>\n",
              "    <tr>\n",
              "      <th>4</th>\n",
              "      <td>2021-03-16</td>\n",
              "      <td>55605.20000000</td>\n",
              "      <td>56938.29000000</td>\n",
              "      <td>53271.34000000</td>\n",
              "      <td>56900.75000000</td>\n",
              "    </tr>\n",
              "  </tbody>\n",
              "</table>\n",
              "</div>"
            ],
            "text/plain": [
              "         Date        Open_USD        High_USD         Low_USD       Close_USD\n",
              "0  2021-03-20  58030.01000000  58428.58000000  57820.17000000  58394.17000000\n",
              "1  2021-03-19  57641.00000000  59468.00000000  56270.74000000  58030.01000000\n",
              "2  2021-03-18  58912.97000000  60129.97000000  57023.00000000  57648.16000000\n",
              "3  2021-03-17  56900.74000000  58974.73000000  54123.69000000  58912.97000000\n",
              "4  2021-03-16  55605.20000000  56938.29000000  53271.34000000  56900.75000000"
            ]
          },
          "metadata": {
            "tags": []
          },
          "execution_count": 4
        }
      ]
    },
    {
      "cell_type": "code",
      "metadata": {
        "id": "quyPcwJssduF"
      },
      "source": [
        "engine = create_engine(conn, echo=False)"
      ],
      "execution_count": 6,
      "outputs": []
    },
    {
      "cell_type": "code",
      "metadata": {
        "id": "mfgXWfO2sh-c"
      },
      "source": [
        "df.to_sql(\"coin_price\", con=engine, if_exists = 'replace', index=False)\n",
        "\n",
        "with engine.connect() as con:\n",
        "    con.execute('ALTER TABLE \"coin_price\" ADD PRIMARY KEY (\"Date\");')"
      ],
      "execution_count": null,
      "outputs": []
    },
    {
      "cell_type": "code",
      "metadata": {
        "id": "ldK0itaJfg6F"
      },
      "source": [
        "# Read Bitcoin crypto rating data from Alpha Vantage API\n",
        "\n",
        "\n",
        "crypto_rating_url = 'https://www.alphavantage.co/query?function=CRYPTO_RATING&symbol=BTC&apikey={av_api_key}'\n",
        "\n",
        "rating_data = requests.get(crypto_rating_url).json()\n",
        "\n",
        "rating = rating_data['Crypto Rating (FCAS)']['3. fcas rating']\n",
        "score = rating_data['Crypto Rating (FCAS)']['4. fcas score']\n",
        "refresh_date = rating_data['Crypto Rating (FCAS)']['8. last refreshed']\n"
      ],
      "execution_count": null,
      "outputs": []
    },
    {
      "cell_type": "code",
      "metadata": {
        "id": "UTMm0jmTfgzI"
      },
      "source": [
        "# Create a pandas df\n",
        "\n",
        "rating_df = pd.DataFrame({\"Date\": refresh_date, \"Rank\": rating, \"Score\": score}, index=[0])\n",
        "rating_df['Date'] = pd.to_datetime(rating_df['Date'], infer_datetime_format=True)\n",
        "rating_df['Date'] = rating_df['Date'].dt.strftime('%Y-%m-%d')\n",
        "\n",
        "rating_df "
      ],
      "execution_count": null,
      "outputs": []
    },
    {
      "cell_type": "code",
      "metadata": {
        "id": "HeOmcdUAtZG6"
      },
      "source": [
        "engine = create_engine(conn, echo=False)"
      ],
      "execution_count": null,
      "outputs": []
    },
    {
      "cell_type": "code",
      "metadata": {
        "id": "2NLkWG4_tbA4"
      },
      "source": [
        "rating_df.to_sql(\"rating\", con=engine, if_exists = 'replace', index=False)\n",
        "\n",
        "with engine.connect() as con:\n",
        "    con.execute('ALTER TABLE \"rating\" ADD PRIMARY KEY (\"Date\");')"
      ],
      "execution_count": null,
      "outputs": []
    },
    {
      "cell_type": "code",
      "metadata": {
        "id": "0sY4vbLl5lIP"
      },
      "source": [
        "# Coin Market Cap URL of page to be scraped for Market Cap data\n",
        "\n",
        "cmc_url = 'https://coinmarketcap.com/'\n",
        "\n",
        "# Retrieve page with the requests module\n",
        "\n",
        "response = requests.get(cmc_url)\n",
        "\n",
        "# Create BeautifulSoup object; parse with 'html.parser'\n",
        "\n",
        "soup = bs(response.text, 'html.parser')"
      ],
      "execution_count": null,
      "outputs": []
    },
    {
      "cell_type": "code",
      "metadata": {
        "id": "K_COcT8X5lAo"
      },
      "source": [
        "#Scrape url for the data\n",
        "\n",
        "results = soup.find_all('div', class_='sc-33i2yg-0 dOnegn')\n",
        "\n",
        "for r in results:\n",
        "  header = r.find_all('span', class_=\"sc-12ja2s9-0 eALoKW\")\n",
        "   \n",
        "  title =[]\n",
        "  value =[]\n",
        "  for values in header:\n",
        "    data = (values.text.split(\":\"))\n",
        "    title.append(data[0])\n",
        "\n",
        "    if data[0] == \"Dominance\":\n",
        "      value.append(data[2][1:5])\n",
        "    else:\n",
        "      value.append(data[1][2:])\n",
        "\n"
      ],
      "execution_count": null,
      "outputs": []
    },
    {
      "cell_type": "code",
      "metadata": {
        "id": "AqznELTeZm4n"
      },
      "source": [
        "# create data table in pandas and clean up data\n",
        "\n",
        "market_cap_df = pd.DataFrame({\"Title\": title, \"Value\": value})\n",
        "market_cap_df = market_cap_df.drop(index=5)\n",
        "market_cap_df = market_cap_df.transpose()\n",
        "columns = market_cap_df.iloc[0].values\n",
        "market_cap_df.columns = columns\n",
        "market_cap_df.drop('Title', axis=0, inplace = True)\n",
        "market_cap_df.reset_index(inplace=True)\n",
        "market_cap_df = market_cap_df.drop(columns='index')\n",
        "market_cap_df = market_cap_df.rename(columns={\"Dominance\": \"BTC_Dominance\", \"Market Cap\": \"Market_Cap\", \"24h Vol\": \"24h_Volume\"})\n",
        "market_cap_df['Market_Cap'] = market_cap_df['Market_Cap'].str.replace(\"$\",\"\")\n",
        "market_cap_df['24h_Volume'] = market_cap_df['24h_Volume'].str.replace(\"$\",\"\")\n",
        "market_cap_df = market_cap_df.replace(',','', regex=True)\n",
        "market_cap_df"
      ],
      "execution_count": null,
      "outputs": []
    },
    {
      "cell_type": "code",
      "metadata": {
        "id": "1yJ9ZPjgtmoa"
      },
      "source": [
        "engine = create_engine(conn, echo=False)"
      ],
      "execution_count": null,
      "outputs": []
    },
    {
      "cell_type": "code",
      "metadata": {
        "id": "7k4nDwkNtmeQ"
      },
      "source": [
        "market_cap_df.to_sql(\"market_cap\", con=engine, if_exists = 'replace', index=False)\n",
        "\n",
        "with engine.connect() as con:\n",
        "    con.execute('ALTER TABLE \"market_cap\" ADD PRIMARY KEY (\"Cryptocurrencies\");')"
      ],
      "execution_count": null,
      "outputs": []
    },
    {
      "cell_type": "code",
      "metadata": {
        "id": "jvqOdtc8GHN4"
      },
      "source": [
        "#Use the NY Times API to pull recent Bitcoin news\n",
        "\n",
        "nyt_api_key = 'AHD58yFBu6t1DV7UGF2hdMCyfo2PvaHq'\n",
        "url = \"https://api.nytimes.com/svc/search/v2/articlesearch.json?\"\n",
        "\n",
        "# Store a search term\n",
        "query = \"Bitcoin\"\n",
        "\n",
        "# Search for articles published between a begin date (90 days ago) and end date (current date)\n",
        "\n",
        "end_date = datetime.today()\n",
        "begin_date = end_date - timedelta(90)\n",
        "\n",
        "end_date = end_date.strftime('%Y%m%d')\n",
        "begin_date = begin_date.strftime('%Y%m%d')\n",
        "\n",
        "\n",
        "query_url = f\"{url}api-key={nyt_api_key}&q={query}&begin_date={begin_date}&end_date={end_date}\"\n",
        "\n",
        "# Retrieve articles\n",
        "articles = requests.get(query_url).json()"
      ],
      "execution_count": null,
      "outputs": []
    },
    {
      "cell_type": "code",
      "metadata": {
        "id": "hSUMqmQSGHFC"
      },
      "source": [
        "# Transform API response into pandas df\n",
        "\n",
        "headline = []\n",
        "date = []\n",
        "paragraph = []\n",
        "\n",
        "articles_list = articles[\"response\"][\"docs\"]\n",
        "\n",
        "for article in articles_list:\n",
        "  headline.append(article[\"headline\"][\"main\"])\n",
        "  date.append(article[\"pub_date\"])\n",
        "  paragraph.append(article[\"lead_paragraph\"])\n",
        "\n",
        "news_df = pd.DataFrame({\"Date\": date, \"Headline\": headline, \"Paragraph\": paragraph})\n",
        "news_df['Date'] = pd.to_datetime(news_df['Date'], infer_datetime_format=True)\n",
        "news_df['Date'] = news_df['Date'].dt.strftime('%Y-%m-%d')\n",
        "news_df.head(10)\n",
        "\n"
      ],
      "execution_count": null,
      "outputs": []
    },
    {
      "cell_type": "code",
      "metadata": {
        "id": "oR8AChTEuLrD"
      },
      "source": [
        "engine = create_engine(conn, echo=False)"
      ],
      "execution_count": null,
      "outputs": []
    },
    {
      "cell_type": "code",
      "metadata": {
        "id": "T7Yzo60ZuLfs"
      },
      "source": [
        "news_df.to_sql(\"btc_news\", con=engine, if_exists = 'replace', index=False)\n",
        "\n",
        "with engine.connect() as con:\n",
        "    con.execute('ALTER TABLE \"btc_news\" ADD PRIMARY KEY (\"Headline\");')"
      ],
      "execution_count": null,
      "outputs": []
    },
    {
      "cell_type": "markdown",
      "metadata": {
        "id": "mlFplWxPFyFA"
      },
      "source": [
        "**Facebook Prophet** Machine Learning"
      ]
    },
    {
      "cell_type": "code",
      "metadata": {
        "colab": {
          "base_uri": "https://localhost:8080/",
          "height": 195
        },
        "id": "8_8MNMSLUsst",
        "outputId": "27471f23-c188-4068-c413-30d25aca1437"
      },
      "source": [
        "# Facebook Prophet Model Setup\n",
        "\n",
        "fb_df = df[[\"Date\", \"Close_USD\"]]\n",
        "fb_df = fb_df.rename(columns={\"Date\": \"ds\", \"Close_USD\": \"y\"})\n",
        "fb_df.head()"
      ],
      "execution_count": 5,
      "outputs": [
        {
          "output_type": "execute_result",
          "data": {
            "text/html": [
              "<div>\n",
              "<style scoped>\n",
              "    .dataframe tbody tr th:only-of-type {\n",
              "        vertical-align: middle;\n",
              "    }\n",
              "\n",
              "    .dataframe tbody tr th {\n",
              "        vertical-align: top;\n",
              "    }\n",
              "\n",
              "    .dataframe thead th {\n",
              "        text-align: right;\n",
              "    }\n",
              "</style>\n",
              "<table border=\"1\" class=\"dataframe\">\n",
              "  <thead>\n",
              "    <tr style=\"text-align: right;\">\n",
              "      <th></th>\n",
              "      <th>ds</th>\n",
              "      <th>y</th>\n",
              "    </tr>\n",
              "  </thead>\n",
              "  <tbody>\n",
              "    <tr>\n",
              "      <th>0</th>\n",
              "      <td>2021-03-20</td>\n",
              "      <td>58394.17000000</td>\n",
              "    </tr>\n",
              "    <tr>\n",
              "      <th>1</th>\n",
              "      <td>2021-03-19</td>\n",
              "      <td>58030.01000000</td>\n",
              "    </tr>\n",
              "    <tr>\n",
              "      <th>2</th>\n",
              "      <td>2021-03-18</td>\n",
              "      <td>57648.16000000</td>\n",
              "    </tr>\n",
              "    <tr>\n",
              "      <th>3</th>\n",
              "      <td>2021-03-17</td>\n",
              "      <td>58912.97000000</td>\n",
              "    </tr>\n",
              "    <tr>\n",
              "      <th>4</th>\n",
              "      <td>2021-03-16</td>\n",
              "      <td>56900.75000000</td>\n",
              "    </tr>\n",
              "  </tbody>\n",
              "</table>\n",
              "</div>"
            ],
            "text/plain": [
              "           ds               y\n",
              "0  2021-03-20  58394.17000000\n",
              "1  2021-03-19  58030.01000000\n",
              "2  2021-03-18  57648.16000000\n",
              "3  2021-03-17  58912.97000000\n",
              "4  2021-03-16  56900.75000000"
            ]
          },
          "metadata": {
            "tags": []
          },
          "execution_count": 5
        }
      ]
    },
    {
      "cell_type": "code",
      "metadata": {
        "colab": {
          "base_uri": "https://localhost:8080/"
        },
        "id": "3eu8t889-_g-",
        "outputId": "6e319577-7869-48f0-ada4-28a3d8af510f"
      },
      "source": [
        "# Create fbProphet model and fit model \n",
        "model = Prophet(daily_seasonality=True)\n",
        "model.fit(fb_df)"
      ],
      "execution_count": 8,
      "outputs": [
        {
          "output_type": "execute_result",
          "data": {
            "text/plain": [
              "<fbprophet.forecaster.Prophet at 0x7f4fdd2e8890>"
            ]
          },
          "metadata": {
            "tags": []
          },
          "execution_count": 8
        }
      ]
    },
    {
      "cell_type": "code",
      "metadata": {
        "id": "xjZkbTLL-_ot"
      },
      "source": [
        "# Model 90 days in the future\n",
        "\n",
        "future_df = model.make_future_dataframe(periods=90)"
      ],
      "execution_count": 9,
      "outputs": []
    },
    {
      "cell_type": "code",
      "metadata": {
        "colab": {
          "base_uri": "https://localhost:8080/",
          "height": 299
        },
        "id": "jpHqmlRb-_rp",
        "outputId": "399bb342-c971-468a-95a4-f2e662ffb426"
      },
      "source": [
        "#Make predictions\n",
        "\n",
        "predictions = model.predict(future_df)\n",
        "predictions.tail()"
      ],
      "execution_count": 10,
      "outputs": [
        {
          "output_type": "execute_result",
          "data": {
            "text/html": [
              "<div>\n",
              "<style scoped>\n",
              "    .dataframe tbody tr th:only-of-type {\n",
              "        vertical-align: middle;\n",
              "    }\n",
              "\n",
              "    .dataframe tbody tr th {\n",
              "        vertical-align: top;\n",
              "    }\n",
              "\n",
              "    .dataframe thead th {\n",
              "        text-align: right;\n",
              "    }\n",
              "</style>\n",
              "<table border=\"1\" class=\"dataframe\">\n",
              "  <thead>\n",
              "    <tr style=\"text-align: right;\">\n",
              "      <th></th>\n",
              "      <th>ds</th>\n",
              "      <th>trend</th>\n",
              "      <th>yhat_lower</th>\n",
              "      <th>yhat_upper</th>\n",
              "      <th>trend_lower</th>\n",
              "      <th>trend_upper</th>\n",
              "      <th>additive_terms</th>\n",
              "      <th>additive_terms_lower</th>\n",
              "      <th>additive_terms_upper</th>\n",
              "      <th>daily</th>\n",
              "      <th>daily_lower</th>\n",
              "      <th>daily_upper</th>\n",
              "      <th>weekly</th>\n",
              "      <th>weekly_lower</th>\n",
              "      <th>weekly_upper</th>\n",
              "      <th>yearly</th>\n",
              "      <th>yearly_lower</th>\n",
              "      <th>yearly_upper</th>\n",
              "      <th>multiplicative_terms</th>\n",
              "      <th>multiplicative_terms_lower</th>\n",
              "      <th>multiplicative_terms_upper</th>\n",
              "      <th>yhat</th>\n",
              "    </tr>\n",
              "  </thead>\n",
              "  <tbody>\n",
              "    <tr>\n",
              "      <th>1085</th>\n",
              "      <td>2021-06-14</td>\n",
              "      <td>81135.581519</td>\n",
              "      <td>76672.922266</td>\n",
              "      <td>86959.897711</td>\n",
              "      <td>76812.215524</td>\n",
              "      <td>86004.197627</td>\n",
              "      <td>500.460677</td>\n",
              "      <td>500.460677</td>\n",
              "      <td>500.460677</td>\n",
              "      <td>-6827.163237</td>\n",
              "      <td>-6827.163237</td>\n",
              "      <td>-6827.163237</td>\n",
              "      <td>4.276163</td>\n",
              "      <td>4.276163</td>\n",
              "      <td>4.276163</td>\n",
              "      <td>7323.347752</td>\n",
              "      <td>7323.347752</td>\n",
              "      <td>7323.347752</td>\n",
              "      <td>0.0</td>\n",
              "      <td>0.0</td>\n",
              "      <td>0.0</td>\n",
              "      <td>81636.042196</td>\n",
              "    </tr>\n",
              "    <tr>\n",
              "      <th>1086</th>\n",
              "      <td>2021-06-15</td>\n",
              "      <td>81368.095924</td>\n",
              "      <td>76917.304463</td>\n",
              "      <td>86987.717585</td>\n",
              "      <td>76951.963492</td>\n",
              "      <td>86296.925588</td>\n",
              "      <td>491.241613</td>\n",
              "      <td>491.241613</td>\n",
              "      <td>491.241613</td>\n",
              "      <td>-6827.163237</td>\n",
              "      <td>-6827.163237</td>\n",
              "      <td>-6827.163237</td>\n",
              "      <td>-37.960193</td>\n",
              "      <td>-37.960193</td>\n",
              "      <td>-37.960193</td>\n",
              "      <td>7356.365044</td>\n",
              "      <td>7356.365044</td>\n",
              "      <td>7356.365044</td>\n",
              "      <td>0.0</td>\n",
              "      <td>0.0</td>\n",
              "      <td>0.0</td>\n",
              "      <td>81859.337537</td>\n",
              "    </tr>\n",
              "    <tr>\n",
              "      <th>1087</th>\n",
              "      <td>2021-06-16</td>\n",
              "      <td>81600.610328</td>\n",
              "      <td>77302.359065</td>\n",
              "      <td>87438.967197</td>\n",
              "      <td>77078.970721</td>\n",
              "      <td>86625.338978</td>\n",
              "      <td>614.560823</td>\n",
              "      <td>614.560823</td>\n",
              "      <td>614.560823</td>\n",
              "      <td>-6827.163237</td>\n",
              "      <td>-6827.163237</td>\n",
              "      <td>-6827.163237</td>\n",
              "      <td>51.329240</td>\n",
              "      <td>51.329240</td>\n",
              "      <td>51.329240</td>\n",
              "      <td>7390.394821</td>\n",
              "      <td>7390.394821</td>\n",
              "      <td>7390.394821</td>\n",
              "      <td>0.0</td>\n",
              "      <td>0.0</td>\n",
              "      <td>0.0</td>\n",
              "      <td>82215.171152</td>\n",
              "    </tr>\n",
              "    <tr>\n",
              "      <th>1088</th>\n",
              "      <td>2021-06-17</td>\n",
              "      <td>81833.124733</td>\n",
              "      <td>77644.945191</td>\n",
              "      <td>87864.878729</td>\n",
              "      <td>77207.637308</td>\n",
              "      <td>86925.451732</td>\n",
              "      <td>577.353350</td>\n",
              "      <td>577.353350</td>\n",
              "      <td>577.353350</td>\n",
              "      <td>-6827.163237</td>\n",
              "      <td>-6827.163237</td>\n",
              "      <td>-6827.163237</td>\n",
              "      <td>-20.506055</td>\n",
              "      <td>-20.506055</td>\n",
              "      <td>-20.506055</td>\n",
              "      <td>7425.022642</td>\n",
              "      <td>7425.022642</td>\n",
              "      <td>7425.022642</td>\n",
              "      <td>0.0</td>\n",
              "      <td>0.0</td>\n",
              "      <td>0.0</td>\n",
              "      <td>82410.478083</td>\n",
              "    </tr>\n",
              "    <tr>\n",
              "      <th>1089</th>\n",
              "      <td>2021-06-18</td>\n",
              "      <td>82065.639138</td>\n",
              "      <td>77776.944082</td>\n",
              "      <td>88196.874442</td>\n",
              "      <td>77342.810297</td>\n",
              "      <td>87251.657549</td>\n",
              "      <td>646.635413</td>\n",
              "      <td>646.635413</td>\n",
              "      <td>646.635413</td>\n",
              "      <td>-6827.163237</td>\n",
              "      <td>-6827.163237</td>\n",
              "      <td>-6827.163237</td>\n",
              "      <td>14.030982</td>\n",
              "      <td>14.030982</td>\n",
              "      <td>14.030982</td>\n",
              "      <td>7459.767669</td>\n",
              "      <td>7459.767669</td>\n",
              "      <td>7459.767669</td>\n",
              "      <td>0.0</td>\n",
              "      <td>0.0</td>\n",
              "      <td>0.0</td>\n",
              "      <td>82712.274551</td>\n",
              "    </tr>\n",
              "  </tbody>\n",
              "</table>\n",
              "</div>"
            ],
            "text/plain": [
              "             ds         trend  ...  multiplicative_terms_upper          yhat\n",
              "1085 2021-06-14  81135.581519  ...                         0.0  81636.042196\n",
              "1086 2021-06-15  81368.095924  ...                         0.0  81859.337537\n",
              "1087 2021-06-16  81600.610328  ...                         0.0  82215.171152\n",
              "1088 2021-06-17  81833.124733  ...                         0.0  82410.478083\n",
              "1089 2021-06-18  82065.639138  ...                         0.0  82712.274551\n",
              "\n",
              "[5 rows x 22 columns]"
            ]
          },
          "metadata": {
            "tags": []
          },
          "execution_count": 10
        }
      ]
    },
    {
      "cell_type": "code",
      "metadata": {
        "colab": {
          "base_uri": "https://localhost:8080/",
          "height": 441
        },
        "id": "DbJg4ywW_4wV",
        "outputId": "780f5540-43e4-4f00-ca1e-1d5a72cffa01"
      },
      "source": [
        "# Plot Predictions\n",
        "model.plot(predictions).savefig('modelpredictions.png')\n",
        "\n"
      ],
      "execution_count": 14,
      "outputs": [
        {
          "output_type": "display_data",
          "data": {
            "image/png": "[encoded data removed]",
            "text/plain": [
              "<Figure size 720x432 with 1 Axes>"
            ]
          },
          "metadata": {
            "tags": []
          }
        }
      ]
    },
    {
      "cell_type": "code",
      "metadata": {
        "colab": {
          "base_uri": "https://localhost:8080/",
          "height": 873
        },
        "id": "xsk9a0Hd_43m",
        "outputId": "3071f6f0-21f1-4ff8-ee23-97b6f58843c6"
      },
      "source": [
        "# Plot model components\n",
        "\n",
        "model.plot_components(predictions).savefig('modelcomponents.png')"
      ],
      "execution_count": 12,
      "outputs": [
        {
          "output_type": "display_data",
          "data": {
            "image/png": "[encoded data removed]",
            "text/plain": [
              "<Figure size 648x864 with 4 Axes>"
            ]
          },
          "metadata": {
            "tags": []
          }
        }
      ]
    }
  ]
}