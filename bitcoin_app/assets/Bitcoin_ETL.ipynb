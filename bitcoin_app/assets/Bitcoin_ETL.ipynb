{
  "nbformat": 4,
  "nbformat_minor": 0,
  "metadata": {
    "colab": {
      "name": "Bitcoin_ETL.ipynb",
      "provenance": [],
      "collapsed_sections": []
    },
    "kernelspec": {
      "display_name": "Python 3",
      "language": "python",
      "name": "python3"
    },
    "language_info": {
      "codemirror_mode": {
        "name": "ipython",
        "version": 3
      },
      "file_extension": ".py",
      "mimetype": "text/x-python",
      "name": "python",
      "nbconvert_exporter": "python",
      "pygments_lexer": "ipython3",
      "version": "3.8.3"
    }
  },
  "cells": [
    {
      "cell_type": "code",
      "metadata": {
        "colab": {
          "base_uri": "https://localhost:8080/"
        },
        "id": "BqLWy2DsUssm",
        "outputId": "1c4c3fda-e45d-4e88-9055-466fa1bf1465"
      },
      "source": [
        "# Import Dependencies\n",
        "\n",
        "import pandas as pd\n",
        "import numpy as np\n",
        "from fbprophet import Prophet\n",
        "import requests\n",
        "from pprint import pprint\n",
        "from datetime import datetime, timedelta\n",
        "from bs4 import BeautifulSoup as bs\n",
        "from sqlalchemy import create_engine\n",
        "import psycopg2\n"
      ],
      "execution_count": 1,
      "outputs": [
        {
          "output_type": "stream",
          "text": [
            "/usr/local/lib/python3.7/dist-packages/psycopg2/__init__.py:144: UserWarning:\n",
            "\n",
            "The psycopg2 wheel package will be renamed from release 2.8; in order to keep installing from binary please use \"pip install psycopg2-binary\" instead. For details see: <http://initd.org/psycopg/docs/install.html#binary-install-from-pypi>.\n",
            "\n"
          ],
          "name": "stderr"
        }
      ]
    },
    {
      "cell_type": "code",
      "metadata": {
        "id": "VuqJP9-zsSm_"
      },
      "source": [
        "# AWS Server Details\n",
        "\n",
        "server= \"bootcampdb.cmwhqarpyd9v.ca-central-1.rds.amazonaws.com\"\n",
        "database = \"postgres\"\n",
        "port =\"5432\"\n",
        "username = \"root\"\n",
        "password = \"xy92Hdie\"\n",
        "\n",
        "conn = f\"postgres://{username}:{password}@{server}:{port}/{database}\""
      ],
      "execution_count": 2,
      "outputs": []
    },
    {
      "cell_type": "code",
      "metadata": {
        "id": "Jn-4SfnYUssr"
      },
      "source": [
        "# Read Bitcoin daily data from Alpha Vantage API\n",
        "\n",
        "av_api_key = 'IYOYBP274BRSLPM0'\n",
        "\n",
        "url = \"https://www.alphavantage.co/query?function=DIGITAL_CURRENCY_DAILY&symbol=BTC&market=CAD&apikey={av_api_key}\"\n",
        "\n",
        "data = requests.get(url).json()\n",
        "bc_data = data[\"Time Series (Digital Currency Daily)\"]"
      ],
      "execution_count": 3,
      "outputs": []
    },
    {
      "cell_type": "code",
      "metadata": {
        "id": "llADr3fmXpNw"
      },
      "source": [
        "# Loop through json response API data and transform into lists in python to create pandas dataframe\n",
        "\n",
        "date = []\n",
        "open_CAD = []\n",
        "open_USD = []\n",
        "high_CAD = []\n",
        "high_USD = []\n",
        "low_CAD = []\n",
        "low_USD = []\n",
        "close_CAD = []\n",
        "close_USD = []\n",
        "volume = []\n",
        "\n",
        "date = list(bc_data.keys())\n",
        "\n",
        "for d in date:\n",
        "  value = bc_data[d]\n",
        "  close_CAD.append(value['4a. close (CAD)'])\n",
        "  close_USD.append(value['4b. close (USD)'])\n",
        "  volume.append(value['5. volume'])\n",
        "  open_CAD.append(value['1a. open (CAD)'])\n",
        "  open_USD.append(value['1b. open (USD)'])\n",
        "  high_CAD.append(value['2a. high (CAD)'])\n",
        "  high_USD.append(value['2b. high (USD)'])\n",
        "  low_CAD.append(value['3a. low (CAD)'])\n",
        "  low_USD.append(value['3b. low (USD)'])"
      ],
      "execution_count": 4,
      "outputs": []
    },
    {
      "cell_type": "code",
      "metadata": {
        "id": "Lz5A9T4OUsst",
        "colab": {
          "base_uri": "https://localhost:8080/",
          "height": 196
        },
        "outputId": "1221ec2c-5bd1-4df1-d2d6-76006a3861c7"
      },
      "source": [
        "# Create Pandas dataframe\n",
        "\n",
        "df = pd.DataFrame({\"Date\": date, \"Open_USD\": open_USD, \"High_USD\": high_USD,  \"Low_USD\": low_USD,  \"Close_USD\":close_USD, \"Volume\": volume})\n",
        "df.head()\n",
        "\n",
        "\n"
      ],
      "execution_count": 5,
      "outputs": [
        {
          "output_type": "execute_result",
          "data": {
            "text/html": [
              "<div>\n",
              "<style scoped>\n",
              "    .dataframe tbody tr th:only-of-type {\n",
              "        vertical-align: middle;\n",
              "    }\n",
              "\n",
              "    .dataframe tbody tr th {\n",
              "        vertical-align: top;\n",
              "    }\n",
              "\n",
              "    .dataframe thead th {\n",
              "        text-align: right;\n",
              "    }\n",
              "</style>\n",
              "<table border=\"1\" class=\"dataframe\">\n",
              "  <thead>\n",
              "    <tr style=\"text-align: right;\">\n",
              "      <th></th>\n",
              "      <th>Date</th>\n",
              "      <th>Open_USD</th>\n",
              "      <th>High_USD</th>\n",
              "      <th>Low_USD</th>\n",
              "      <th>Close_USD</th>\n",
              "      <th>Volume</th>\n",
              "    </tr>\n",
              "  </thead>\n",
              "  <tbody>\n",
              "    <tr>\n",
              "      <th>0</th>\n",
              "      <td>2021-03-21</td>\n",
              "      <td>58100.02000000</td>\n",
              "      <td>58589.10000000</td>\n",
              "      <td>57811.41000000</td>\n",
              "      <td>58390.00000000</td>\n",
              "      <td>2104.04540700</td>\n",
              "    </tr>\n",
              "    <tr>\n",
              "      <th>1</th>\n",
              "      <td>2021-03-20</td>\n",
              "      <td>58030.01000000</td>\n",
              "      <td>59880.00000000</td>\n",
              "      <td>57820.17000000</td>\n",
              "      <td>58102.28000000</td>\n",
              "      <td>44476.94177600</td>\n",
              "    </tr>\n",
              "    <tr>\n",
              "      <th>2</th>\n",
              "      <td>2021-03-19</td>\n",
              "      <td>57641.00000000</td>\n",
              "      <td>59468.00000000</td>\n",
              "      <td>56270.74000000</td>\n",
              "      <td>58030.01000000</td>\n",
              "      <td>52392.65296100</td>\n",
              "    </tr>\n",
              "    <tr>\n",
              "      <th>3</th>\n",
              "      <td>2021-03-18</td>\n",
              "      <td>58912.97000000</td>\n",
              "      <td>60129.97000000</td>\n",
              "      <td>57023.00000000</td>\n",
              "      <td>57648.16000000</td>\n",
              "      <td>66580.40667500</td>\n",
              "    </tr>\n",
              "    <tr>\n",
              "      <th>4</th>\n",
              "      <td>2021-03-17</td>\n",
              "      <td>56900.74000000</td>\n",
              "      <td>58974.73000000</td>\n",
              "      <td>54123.69000000</td>\n",
              "      <td>58912.97000000</td>\n",
              "      <td>70421.62084100</td>\n",
              "    </tr>\n",
              "  </tbody>\n",
              "</table>\n",
              "</div>"
            ],
            "text/plain": [
              "         Date        Open_USD  ...       Close_USD          Volume\n",
              "0  2021-03-21  58100.02000000  ...  58390.00000000   2104.04540700\n",
              "1  2021-03-20  58030.01000000  ...  58102.28000000  44476.94177600\n",
              "2  2021-03-19  57641.00000000  ...  58030.01000000  52392.65296100\n",
              "3  2021-03-18  58912.97000000  ...  57648.16000000  66580.40667500\n",
              "4  2021-03-17  56900.74000000  ...  58912.97000000  70421.62084100\n",
              "\n",
              "[5 rows x 6 columns]"
            ]
          },
          "metadata": {
            "tags": []
          },
          "execution_count": 5
        }
      ]
    },
    {
      "cell_type": "code",
      "metadata": {
        "id": "quyPcwJssduF"
      },
      "source": [
        "engine = create_engine(conn, echo=False)"
      ],
      "execution_count": 6,
      "outputs": []
    },
    {
      "cell_type": "code",
      "metadata": {
        "id": "mfgXWfO2sh-c"
      },
      "source": [
        "df.to_sql(\"coin_price\", con=engine, if_exists = 'replace', index=False, method='multi')\n",
        "\n",
        "with engine.connect() as con:\n",
        "    con.execute('ALTER TABLE \"coin_price\" ADD PRIMARY KEY (\"Date\");')"
      ],
      "execution_count": 7,
      "outputs": []
    },
    {
      "cell_type": "code",
      "metadata": {
        "id": "ldK0itaJfg6F"
      },
      "source": [
        "# Read Bitcoin crypto rating data from Alpha Vantage API\n",
        "\n",
        "\n",
        "# crypto_rating_url = 'https://www.alphavantage.co/query?function=CRYPTO_RATING&symbol=BTC&apikey={av_api_key}'\n",
        "\n",
        "# rating_data = requests.get(crypto_rating_url).json()\n",
        "\n",
        "# rating = rating_data['Crypto Rating (FCAS)']['3. fcas rating']\n",
        "# score = rating_data['Crypto Rating (FCAS)']['4. fcas score']\n",
        "# refresh_date = rating_data['Crypto Rating (FCAS)']['8. last refreshed']\n"
      ],
      "execution_count": 8,
      "outputs": []
    },
    {
      "cell_type": "code",
      "metadata": {
        "id": "UTMm0jmTfgzI"
      },
      "source": [
        "# Create a pandas df\n",
        "\n",
        "# rating_df = pd.DataFrame({\"Date\": refresh_date, \"Rank\": rating, \"Score\": score}, index=[0])\n",
        "# rating_df['Date'] = pd.to_datetime(rating_df['Date'], infer_datetime_format=True)\n",
        "# rating_df['Date'] = rating_df['Date'].dt.strftime('%Y-%m-%d')\n",
        "\n",
        "# rating_df "
      ],
      "execution_count": 9,
      "outputs": []
    },
    {
      "cell_type": "code",
      "metadata": {
        "id": "HeOmcdUAtZG6"
      },
      "source": [
        "# engine = create_engine(conn, echo=False)"
      ],
      "execution_count": 10,
      "outputs": []
    },
    {
      "cell_type": "code",
      "metadata": {
        "id": "2NLkWG4_tbA4"
      },
      "source": [
        "# rating_df.to_sql(\"rating\", con=engine, if_exists = 'replace', index=False)\n",
        "\n",
        "# with engine.connect() as con:\n",
        "#     con.execute('ALTER TABLE \"rating\" ADD PRIMARY KEY (\"Date\");')"
      ],
      "execution_count": 11,
      "outputs": []
    },
    {
      "cell_type": "code",
      "metadata": {
        "id": "0sY4vbLl5lIP"
      },
      "source": [
        "# Coin Market Cap URL of page to be scraped for Market Cap data\n",
        "\n",
        "cmc_url = 'https://coinmarketcap.com/'\n",
        "\n",
        "# Retrieve page with the requests module\n",
        "\n",
        "response = requests.get(cmc_url)\n",
        "\n",
        "# Create BeautifulSoup object; parse with 'html.parser'\n",
        "\n",
        "soup = bs(response.text, 'html.parser')"
      ],
      "execution_count": 12,
      "outputs": []
    },
    {
      "cell_type": "code",
      "metadata": {
        "id": "K_COcT8X5lAo"
      },
      "source": [
        "#Scrape url for the data\n",
        "\n",
        "results = soup.find_all('div', class_='sc-33i2yg-0 dOnegn')\n",
        "\n",
        "for r in results:\n",
        "  header = r.find_all('span', class_=\"sc-12ja2s9-0 eALoKW\")\n",
        "   \n",
        "  title =[]\n",
        "  value =[]\n",
        "  for values in header:\n",
        "    data = (values.text.split(\":\"))\n",
        "    title.append(data[0])\n",
        "\n",
        "    if data[0] == \"Dominance\":\n",
        "      value.append(data[2][1:5])\n",
        "    else:\n",
        "      value.append(data[1][2:])\n",
        "\n"
      ],
      "execution_count": 13,
      "outputs": []
    },
    {
      "cell_type": "code",
      "metadata": {
        "id": "AqznELTeZm4n",
        "colab": {
          "base_uri": "https://localhost:8080/",
          "height": 77
        },
        "outputId": "df9d6217-a5ce-4f4d-b06d-2f21bcfb3f5b"
      },
      "source": [
        "# create data table in pandas and clean up data\n",
        "\n",
        "market_cap_df = pd.DataFrame({\"Title\": title, \"Value\": value})\n",
        "market_cap_df = market_cap_df.drop(index=5)\n",
        "market_cap_df = market_cap_df.transpose()\n",
        "columns = market_cap_df.iloc[0].values\n",
        "market_cap_df.columns = columns\n",
        "market_cap_df.drop('Title', axis=0, inplace = True)\n",
        "market_cap_df.reset_index(inplace=True)\n",
        "market_cap_df = market_cap_df.drop(columns='index')\n",
        "market_cap_df = market_cap_df.rename(columns={\"Dominance\": \"BTC_Dominance\", \"Market Cap\": \"Total_Market_Cap\", \"24h Vol\": \"24h_Volume\"})\n",
        "market_cap_df['Total_Market_Cap'] = market_cap_df['Total_Market_Cap'].str.replace(\"$\",\"\")\n",
        "market_cap_df['24h_Volume'] = market_cap_df['24h_Volume'].str.replace(\"$\",\"\")\n",
        "market_cap_df = market_cap_df.replace(',','', regex=True)\n",
        "market_cap_df"
      ],
      "execution_count": 14,
      "outputs": [
        {
          "output_type": "execute_result",
          "data": {
            "text/html": [
              "<div>\n",
              "<style scoped>\n",
              "    .dataframe tbody tr th:only-of-type {\n",
              "        vertical-align: middle;\n",
              "    }\n",
              "\n",
              "    .dataframe tbody tr th {\n",
              "        vertical-align: top;\n",
              "    }\n",
              "\n",
              "    .dataframe thead th {\n",
              "        text-align: right;\n",
              "    }\n",
              "</style>\n",
              "<table border=\"1\" class=\"dataframe\">\n",
              "  <thead>\n",
              "    <tr style=\"text-align: right;\">\n",
              "      <th></th>\n",
              "      <th>Cryptocurrencies</th>\n",
              "      <th>Markets</th>\n",
              "      <th>Total_Market_Cap</th>\n",
              "      <th>24h_Volume</th>\n",
              "      <th>BTC_Dominance</th>\n",
              "    </tr>\n",
              "  </thead>\n",
              "  <tbody>\n",
              "    <tr>\n",
              "      <th>0</th>\n",
              "      <td>8901</td>\n",
              "      <td>36584</td>\n",
              "      <td>1779441037853</td>\n",
              "      <td>118880189300</td>\n",
              "      <td>60.2</td>\n",
              "    </tr>\n",
              "  </tbody>\n",
              "</table>\n",
              "</div>"
            ],
            "text/plain": [
              "  Cryptocurrencies Markets Total_Market_Cap    24h_Volume BTC_Dominance\n",
              "0             8901   36584    1779441037853  118880189300          60.2"
            ]
          },
          "metadata": {
            "tags": []
          },
          "execution_count": 14
        }
      ]
    },
    {
      "cell_type": "code",
      "metadata": {
        "colab": {
          "base_uri": "https://localhost:8080/",
          "height": 77
        },
        "id": "QwcMRYShgtP-",
        "outputId": "cd851af7-bda5-4687-8072-5b7b2378ffb0"
      },
      "source": [
        "market_cap_df['BTC_Market_Cap_T'] = market_cap_df['Total_Market_Cap'].astype(float)*(market_cap_df['BTC_Dominance'].astype(float)/100)\n",
        "market_cap_df['BTC_Market_Cap_T']= round((market_cap_df['BTC_Market_Cap_T']/1000000000000),2)\n",
        "market_cap_df"
      ],
      "execution_count": 15,
      "outputs": [
        {
          "output_type": "execute_result",
          "data": {
            "text/html": [
              "<div>\n",
              "<style scoped>\n",
              "    .dataframe tbody tr th:only-of-type {\n",
              "        vertical-align: middle;\n",
              "    }\n",
              "\n",
              "    .dataframe tbody tr th {\n",
              "        vertical-align: top;\n",
              "    }\n",
              "\n",
              "    .dataframe thead th {\n",
              "        text-align: right;\n",
              "    }\n",
              "</style>\n",
              "<table border=\"1\" class=\"dataframe\">\n",
              "  <thead>\n",
              "    <tr style=\"text-align: right;\">\n",
              "      <th></th>\n",
              "      <th>Cryptocurrencies</th>\n",
              "      <th>Markets</th>\n",
              "      <th>Total_Market_Cap</th>\n",
              "      <th>24h_Volume</th>\n",
              "      <th>BTC_Dominance</th>\n",
              "      <th>BTC_Market_Cap_T</th>\n",
              "    </tr>\n",
              "  </thead>\n",
              "  <tbody>\n",
              "    <tr>\n",
              "      <th>0</th>\n",
              "      <td>8901</td>\n",
              "      <td>36584</td>\n",
              "      <td>1779441037853</td>\n",
              "      <td>118880189300</td>\n",
              "      <td>60.2</td>\n",
              "      <td>1.07</td>\n",
              "    </tr>\n",
              "  </tbody>\n",
              "</table>\n",
              "</div>"
            ],
            "text/plain": [
              "  Cryptocurrencies Markets  ... BTC_Dominance BTC_Market_Cap_T\n",
              "0             8901   36584  ...          60.2             1.07\n",
              "\n",
              "[1 rows x 6 columns]"
            ]
          },
          "metadata": {
            "tags": []
          },
          "execution_count": 15
        }
      ]
    },
    {
      "cell_type": "code",
      "metadata": {
        "id": "1yJ9ZPjgtmoa"
      },
      "source": [
        "engine = create_engine(conn, echo=False)"
      ],
      "execution_count": 16,
      "outputs": []
    },
    {
      "cell_type": "code",
      "metadata": {
        "id": "7k4nDwkNtmeQ"
      },
      "source": [
        "market_cap_df.to_sql(\"market_cap\", con=engine, if_exists = 'replace', index=False)\n",
        "\n",
        "with engine.connect() as con:\n",
        "    con.execute('ALTER TABLE \"market_cap\" ADD PRIMARY KEY (\"Cryptocurrencies\");')"
      ],
      "execution_count": 17,
      "outputs": []
    },
    {
      "cell_type": "code",
      "metadata": {
        "id": "jvqOdtc8GHN4"
      },
      "source": [
        "#Use the NY Times API to pull recent Bitcoin news\n",
        "\n",
        "nyt_api_key = 'AHD58yFBu6t1DV7UGF2hdMCyfo2PvaHq'\n",
        "url = \"https://api.nytimes.com/svc/search/v2/articlesearch.json?\"\n",
        "\n",
        "# Store a search term\n",
        "query = \"Bitcoin\"\n",
        "\n",
        "# Search for articles published between a begin date (90 days ago) and end date (current date)\n",
        "\n",
        "end_date = datetime.today()\n",
        "begin_date = end_date - timedelta(90)\n",
        "\n",
        "end_date = end_date.strftime('%Y%m%d')\n",
        "begin_date = begin_date.strftime('%Y%m%d')\n",
        "\n",
        "\n",
        "query_url = f\"{url}api-key={nyt_api_key}&q={query}&begin_date={begin_date}&end_date={end_date}\"\n",
        "\n",
        "# Retrieve articles\n",
        "articles = requests.get(query_url).json()"
      ],
      "execution_count": 18,
      "outputs": []
    },
    {
      "cell_type": "code",
      "metadata": {
        "id": "hSUMqmQSGHFC",
        "colab": {
          "base_uri": "https://localhost:8080/",
          "height": 345
        },
        "outputId": "09b6c4d8-3fb0-4c26-84f6-9eec7b2cd2b9"
      },
      "source": [
        "# Transform API response into pandas df\n",
        "\n",
        "headline = []\n",
        "date = []\n",
        "paragraph = []\n",
        "\n",
        "articles_list = articles[\"response\"][\"docs\"]\n",
        "\n",
        "for article in articles_list:\n",
        "  headline.append(article[\"headline\"][\"main\"])\n",
        "  date.append(article[\"pub_date\"])\n",
        "  paragraph.append(article[\"lead_paragraph\"])\n",
        "\n",
        "news_df = pd.DataFrame({\"Date\": date, \"Headline\": headline, \"Paragraph\": paragraph})\n",
        "news_df['Date'] = pd.to_datetime(news_df['Date'], infer_datetime_format=True)\n",
        "news_df['Date'] = news_df['Date'].dt.strftime('%Y-%m-%d')\n",
        "news_df = news_df.sort_values(by='Date', ascending=False)\n",
        "news_df.head(10)\n",
        "\n"
      ],
      "execution_count": 19,
      "outputs": [
        {
          "output_type": "execute_result",
          "data": {
            "text/html": [
              "<div>\n",
              "<style scoped>\n",
              "    .dataframe tbody tr th:only-of-type {\n",
              "        vertical-align: middle;\n",
              "    }\n",
              "\n",
              "    .dataframe tbody tr th {\n",
              "        vertical-align: top;\n",
              "    }\n",
              "\n",
              "    .dataframe thead th {\n",
              "        text-align: right;\n",
              "    }\n",
              "</style>\n",
              "<table border=\"1\" class=\"dataframe\">\n",
              "  <thead>\n",
              "    <tr style=\"text-align: right;\">\n",
              "      <th></th>\n",
              "      <th>Date</th>\n",
              "      <th>Headline</th>\n",
              "      <th>Paragraph</th>\n",
              "    </tr>\n",
              "  </thead>\n",
              "  <tbody>\n",
              "    <tr>\n",
              "      <th>2</th>\n",
              "      <td>2021-03-16</td>\n",
              "      <td>Twitter Hacker Pleads Guilty in Florida Court</td>\n",
              "      <td>The young hacker accused of being the mastermi...</td>\n",
              "    </tr>\n",
              "    <tr>\n",
              "      <th>3</th>\n",
              "      <td>2021-03-13</td>\n",
              "      <td>From Crypto Art to Trading Cards, Investment M...</td>\n",
              "      <td>To hear more audio stories from publishers lik...</td>\n",
              "    </tr>\n",
              "    <tr>\n",
              "      <th>0</th>\n",
              "      <td>2021-03-09</td>\n",
              "      <td>Bitcoin’s Climate Problem</td>\n",
              "      <td>“Bitcoin uses more electricity per transaction...</td>\n",
              "    </tr>\n",
              "    <tr>\n",
              "      <th>1</th>\n",
              "      <td>2021-03-09</td>\n",
              "      <td>Why Bill Gates Is Worried About Bitcoin</td>\n",
              "      <td>Bitcoin is continuing to climb — its price is ...</td>\n",
              "    </tr>\n",
              "    <tr>\n",
              "      <th>5</th>\n",
              "      <td>2021-03-01</td>\n",
              "      <td>China Charges Ahead With a National Digital Cu...</td>\n",
              "      <td>Annabelle Huang recently won a government lott...</td>\n",
              "    </tr>\n",
              "    <tr>\n",
              "      <th>6</th>\n",
              "      <td>2021-02-22</td>\n",
              "      <td>Billion-Dollar Paydays in a Pandemic</td>\n",
              "      <td>Today, Institutional Investor unveiled the 20t...</td>\n",
              "    </tr>\n",
              "    <tr>\n",
              "      <th>7</th>\n",
              "      <td>2021-02-22</td>\n",
              "      <td>Why an Animated Flying Cat With a Pop-Tart Bod...</td>\n",
              "      <td>To hear more audio stories from publishers lik...</td>\n",
              "    </tr>\n",
              "    <tr>\n",
              "      <th>4</th>\n",
              "      <td>2021-02-09</td>\n",
              "      <td>Bitcoin’s Big Day</td>\n",
              "      <td>Cryptocurrency prices are soaring after Tesla ...</td>\n",
              "    </tr>\n",
              "    <tr>\n",
              "      <th>8</th>\n",
              "      <td>2021-02-08</td>\n",
              "      <td>Tesla says it bought $1.5 billion of Bitcoin, ...</td>\n",
              "      <td>The electric-car maker Tesla is known for buck...</td>\n",
              "    </tr>\n",
              "    <tr>\n",
              "      <th>9</th>\n",
              "      <td>2021-02-03</td>\n",
              "      <td>What Can You Actually Buy With Bitcoin?</td>\n",
              "      <td>In the last twelve months, the value of a sing...</td>\n",
              "    </tr>\n",
              "  </tbody>\n",
              "</table>\n",
              "</div>"
            ],
            "text/plain": [
              "         Date  ...                                          Paragraph\n",
              "2  2021-03-16  ...  The young hacker accused of being the mastermi...\n",
              "3  2021-03-13  ...  To hear more audio stories from publishers lik...\n",
              "0  2021-03-09  ...  “Bitcoin uses more electricity per transaction...\n",
              "1  2021-03-09  ...  Bitcoin is continuing to climb — its price is ...\n",
              "5  2021-03-01  ...  Annabelle Huang recently won a government lott...\n",
              "6  2021-02-22  ...  Today, Institutional Investor unveiled the 20t...\n",
              "7  2021-02-22  ...  To hear more audio stories from publishers lik...\n",
              "4  2021-02-09  ...  Cryptocurrency prices are soaring after Tesla ...\n",
              "8  2021-02-08  ...  The electric-car maker Tesla is known for buck...\n",
              "9  2021-02-03  ...  In the last twelve months, the value of a sing...\n",
              "\n",
              "[10 rows x 3 columns]"
            ]
          },
          "metadata": {
            "tags": []
          },
          "execution_count": 19
        }
      ]
    },
    {
      "cell_type": "code",
      "metadata": {
        "id": "oR8AChTEuLrD"
      },
      "source": [
        "engine = create_engine(conn, echo=False)"
      ],
      "execution_count": 20,
      "outputs": []
    },
    {
      "cell_type": "code",
      "metadata": {
        "id": "T7Yzo60ZuLfs"
      },
      "source": [
        "news_df.to_sql(\"btc_news\", con=engine, if_exists = 'replace', index=False)\n",
        "\n",
        "with engine.connect() as con:\n",
        "    con.execute('ALTER TABLE \"btc_news\" ADD PRIMARY KEY (\"Headline\");')"
      ],
      "execution_count": 21,
      "outputs": []
    },
    {
      "cell_type": "markdown",
      "metadata": {
        "id": "mlFplWxPFyFA"
      },
      "source": [
        "**Facebook Prophet** Machine Learning"
      ]
    },
    {
      "cell_type": "code",
      "metadata": {
        "id": "8_8MNMSLUsst"
      },
      "source": [
        "# Facebook Prophet Model Setup\n",
        "\n",
        "fb_df = df[[\"Date\", \"Close_USD\"]]\n",
        "fb_df = fb_df.rename(columns={\"Date\": \"ds\", \"Close_USD\": \"y\"})\n",
        "#fb_df.head()"
      ],
      "execution_count": 22,
      "outputs": []
    },
    {
      "cell_type": "code",
      "metadata": {
        "colab": {
          "base_uri": "https://localhost:8080/"
        },
        "id": "3eu8t889-_g-",
        "outputId": "f546ef2c-0467-4ca0-a425-79e7a0da4514"
      },
      "source": [
        "# Create fbProphet model and fit model \n",
        "model = Prophet(daily_seasonality=True)\n",
        "model.fit(fb_df)"
      ],
      "execution_count": 23,
      "outputs": [
        {
          "output_type": "execute_result",
          "data": {
            "text/plain": [
              "<fbprophet.forecaster.Prophet at 0x7fb5f66e1610>"
            ]
          },
          "metadata": {
            "tags": []
          },
          "execution_count": 23
        }
      ]
    },
    {
      "cell_type": "code",
      "metadata": {
        "id": "xjZkbTLL-_ot"
      },
      "source": [
        "# Model 30 days in the future\n",
        "\n",
        "future_df = model.make_future_dataframe(periods=30)"
      ],
      "execution_count": 24,
      "outputs": []
    },
    {
      "cell_type": "code",
      "metadata": {
        "colab": {
          "base_uri": "https://localhost:8080/",
          "height": 300
        },
        "id": "jpHqmlRb-_rp",
        "outputId": "02f175d7-1d74-4e90-ed02-b6db3719f38f"
      },
      "source": [
        "#Make predictions\n",
        "\n",
        "predictions = model.predict(future_df)\n",
        "predictions.tail()"
      ],
      "execution_count": 25,
      "outputs": [
        {
          "output_type": "execute_result",
          "data": {
            "text/html": [
              "<div>\n",
              "<style scoped>\n",
              "    .dataframe tbody tr th:only-of-type {\n",
              "        vertical-align: middle;\n",
              "    }\n",
              "\n",
              "    .dataframe tbody tr th {\n",
              "        vertical-align: top;\n",
              "    }\n",
              "\n",
              "    .dataframe thead th {\n",
              "        text-align: right;\n",
              "    }\n",
              "</style>\n",
              "<table border=\"1\" class=\"dataframe\">\n",
              "  <thead>\n",
              "    <tr style=\"text-align: right;\">\n",
              "      <th></th>\n",
              "      <th>ds</th>\n",
              "      <th>trend</th>\n",
              "      <th>yhat_lower</th>\n",
              "      <th>yhat_upper</th>\n",
              "      <th>trend_lower</th>\n",
              "      <th>trend_upper</th>\n",
              "      <th>additive_terms</th>\n",
              "      <th>additive_terms_lower</th>\n",
              "      <th>additive_terms_upper</th>\n",
              "      <th>daily</th>\n",
              "      <th>daily_lower</th>\n",
              "      <th>daily_upper</th>\n",
              "      <th>weekly</th>\n",
              "      <th>weekly_lower</th>\n",
              "      <th>weekly_upper</th>\n",
              "      <th>yearly</th>\n",
              "      <th>yearly_lower</th>\n",
              "      <th>yearly_upper</th>\n",
              "      <th>multiplicative_terms</th>\n",
              "      <th>multiplicative_terms_lower</th>\n",
              "      <th>multiplicative_terms_upper</th>\n",
              "      <th>yhat</th>\n",
              "    </tr>\n",
              "  </thead>\n",
              "  <tbody>\n",
              "    <tr>\n",
              "      <th>1025</th>\n",
              "      <td>2021-04-16</td>\n",
              "      <td>67632.250677</td>\n",
              "      <td>62256.338968</td>\n",
              "      <td>65974.555047</td>\n",
              "      <td>67191.167460</td>\n",
              "      <td>68191.358610</td>\n",
              "      <td>-3408.346877</td>\n",
              "      <td>-3408.346877</td>\n",
              "      <td>-3408.346877</td>\n",
              "      <td>-6773.574588</td>\n",
              "      <td>-6773.574588</td>\n",
              "      <td>-6773.574588</td>\n",
              "      <td>13.246001</td>\n",
              "      <td>13.246001</td>\n",
              "      <td>13.246001</td>\n",
              "      <td>3351.981710</td>\n",
              "      <td>3351.981710</td>\n",
              "      <td>3351.981710</td>\n",
              "      <td>0.0</td>\n",
              "      <td>0.0</td>\n",
              "      <td>0.0</td>\n",
              "      <td>64223.903801</td>\n",
              "    </tr>\n",
              "    <tr>\n",
              "      <th>1026</th>\n",
              "      <td>2021-04-17</td>\n",
              "      <td>67866.718144</td>\n",
              "      <td>62557.167979</td>\n",
              "      <td>66305.397360</td>\n",
              "      <td>67378.423674</td>\n",
              "      <td>68478.329449</td>\n",
              "      <td>-3307.263387</td>\n",
              "      <td>-3307.263387</td>\n",
              "      <td>-3307.263387</td>\n",
              "      <td>-6773.574588</td>\n",
              "      <td>-6773.574588</td>\n",
              "      <td>-6773.574588</td>\n",
              "      <td>29.521649</td>\n",
              "      <td>29.521649</td>\n",
              "      <td>29.521649</td>\n",
              "      <td>3436.789552</td>\n",
              "      <td>3436.789552</td>\n",
              "      <td>3436.789552</td>\n",
              "      <td>0.0</td>\n",
              "      <td>0.0</td>\n",
              "      <td>0.0</td>\n",
              "      <td>64559.454757</td>\n",
              "    </tr>\n",
              "    <tr>\n",
              "      <th>1027</th>\n",
              "      <td>2021-04-18</td>\n",
              "      <td>68101.185610</td>\n",
              "      <td>62874.409762</td>\n",
              "      <td>66911.918894</td>\n",
              "      <td>67559.309641</td>\n",
              "      <td>68786.083842</td>\n",
              "      <td>-3272.012624</td>\n",
              "      <td>-3272.012624</td>\n",
              "      <td>-3272.012624</td>\n",
              "      <td>-6773.574588</td>\n",
              "      <td>-6773.574588</td>\n",
              "      <td>-6773.574588</td>\n",
              "      <td>-30.864917</td>\n",
              "      <td>-30.864917</td>\n",
              "      <td>-30.864917</td>\n",
              "      <td>3532.426881</td>\n",
              "      <td>3532.426881</td>\n",
              "      <td>3532.426881</td>\n",
              "      <td>0.0</td>\n",
              "      <td>0.0</td>\n",
              "      <td>0.0</td>\n",
              "      <td>64829.172986</td>\n",
              "    </tr>\n",
              "    <tr>\n",
              "      <th>1028</th>\n",
              "      <td>2021-04-19</td>\n",
              "      <td>68335.653077</td>\n",
              "      <td>63275.418544</td>\n",
              "      <td>67129.825728</td>\n",
              "      <td>67737.259633</td>\n",
              "      <td>69078.682974</td>\n",
              "      <td>-3138.221531</td>\n",
              "      <td>-3138.221531</td>\n",
              "      <td>-3138.221531</td>\n",
              "      <td>-6773.574588</td>\n",
              "      <td>-6773.574588</td>\n",
              "      <td>-6773.574588</td>\n",
              "      <td>-3.366888</td>\n",
              "      <td>-3.366888</td>\n",
              "      <td>-3.366888</td>\n",
              "      <td>3638.719945</td>\n",
              "      <td>3638.719945</td>\n",
              "      <td>3638.719945</td>\n",
              "      <td>0.0</td>\n",
              "      <td>0.0</td>\n",
              "      <td>0.0</td>\n",
              "      <td>65197.431546</td>\n",
              "    </tr>\n",
              "    <tr>\n",
              "      <th>1029</th>\n",
              "      <td>2021-04-20</td>\n",
              "      <td>68570.120544</td>\n",
              "      <td>63503.066210</td>\n",
              "      <td>67370.487475</td>\n",
              "      <td>67914.367274</td>\n",
              "      <td>69356.537288</td>\n",
              "      <td>-3057.001410</td>\n",
              "      <td>-3057.001410</td>\n",
              "      <td>-3057.001410</td>\n",
              "      <td>-6773.574588</td>\n",
              "      <td>-6773.574588</td>\n",
              "      <td>-6773.574588</td>\n",
              "      <td>-38.679005</td>\n",
              "      <td>-38.679005</td>\n",
              "      <td>-38.679005</td>\n",
              "      <td>3755.252182</td>\n",
              "      <td>3755.252182</td>\n",
              "      <td>3755.252182</td>\n",
              "      <td>0.0</td>\n",
              "      <td>0.0</td>\n",
              "      <td>0.0</td>\n",
              "      <td>65513.119133</td>\n",
              "    </tr>\n",
              "  </tbody>\n",
              "</table>\n",
              "</div>"
            ],
            "text/plain": [
              "             ds         trend  ...  multiplicative_terms_upper          yhat\n",
              "1025 2021-04-16  67632.250677  ...                         0.0  64223.903801\n",
              "1026 2021-04-17  67866.718144  ...                         0.0  64559.454757\n",
              "1027 2021-04-18  68101.185610  ...                         0.0  64829.172986\n",
              "1028 2021-04-19  68335.653077  ...                         0.0  65197.431546\n",
              "1029 2021-04-20  68570.120544  ...                         0.0  65513.119133\n",
              "\n",
              "[5 rows x 22 columns]"
            ]
          },
          "metadata": {
            "tags": []
          },
          "execution_count": 25
        }
      ]
    },
    {
      "cell_type": "code",
      "metadata": {
        "colab": {
          "base_uri": "https://localhost:8080/",
          "height": 441
        },
        "id": "DbJg4ywW_4wV",
        "outputId": "d28cce18-5599-4678-bcc8-374f42fb54da"
      },
      "source": [
        "# Plot Predictions\n",
        "model.plot(predictions).savefig('modelpredictions.png')\n"
      ],
      "execution_count": 26,
      "outputs": [
        {
          "output_type": "display_data",
          "data": {
            "image/png": "[encoded data removed]",
            "text/plain": [
              "<Figure size 720x432 with 1 Axes>"
            ]
          },
          "metadata": {
            "tags": []
          }
        }
      ]
    },
    {
      "cell_type": "code",
      "metadata": {
        "colab": {
          "base_uri": "https://localhost:8080/",
          "height": 196
        },
        "id": "Xx8JSJHiQ6QC",
        "outputId": "2576dfd0-a7f9-4919-b9e7-e1b78b8be9b1"
      },
      "source": [
        "predictions_df = predictions.drop(columns=['yhat_lower', 'yhat_upper', 'trend_lower', 'trend_upper',\n",
        "       'additive_terms', 'additive_terms_lower', 'additive_terms_upper',\n",
        "       'daily', 'daily_lower', 'daily_upper', 'weekly', 'weekly_lower',\n",
        "       'weekly_upper', 'yearly', 'yearly_lower', 'yearly_upper',\n",
        "       'multiplicative_terms', 'multiplicative_terms_lower',\n",
        "       'multiplicative_terms_upper', 'yhat'])\n",
        "\n",
        "\n",
        "predictions_df['day'] = predictions_df['ds'].dt.day_name()\n",
        "predictions_df['ds'] = predictions_df['ds'].dt.strftime('%Y-%m-%d')\n",
        "predictions_df = predictions_df.rename(columns={\"ds\": \"date\", \"trend\": \"BTC_price_USD\"})\n",
        "predictions_df.tail()"
      ],
      "execution_count": 27,
      "outputs": [
        {
          "output_type": "execute_result",
          "data": {
            "text/html": [
              "<div>\n",
              "<style scoped>\n",
              "    .dataframe tbody tr th:only-of-type {\n",
              "        vertical-align: middle;\n",
              "    }\n",
              "\n",
              "    .dataframe tbody tr th {\n",
              "        vertical-align: top;\n",
              "    }\n",
              "\n",
              "    .dataframe thead th {\n",
              "        text-align: right;\n",
              "    }\n",
              "</style>\n",
              "<table border=\"1\" class=\"dataframe\">\n",
              "  <thead>\n",
              "    <tr style=\"text-align: right;\">\n",
              "      <th></th>\n",
              "      <th>date</th>\n",
              "      <th>BTC_price_USD</th>\n",
              "      <th>day</th>\n",
              "    </tr>\n",
              "  </thead>\n",
              "  <tbody>\n",
              "    <tr>\n",
              "      <th>1025</th>\n",
              "      <td>2021-04-16</td>\n",
              "      <td>67632.250677</td>\n",
              "      <td>Friday</td>\n",
              "    </tr>\n",
              "    <tr>\n",
              "      <th>1026</th>\n",
              "      <td>2021-04-17</td>\n",
              "      <td>67866.718144</td>\n",
              "      <td>Saturday</td>\n",
              "    </tr>\n",
              "    <tr>\n",
              "      <th>1027</th>\n",
              "      <td>2021-04-18</td>\n",
              "      <td>68101.185610</td>\n",
              "      <td>Sunday</td>\n",
              "    </tr>\n",
              "    <tr>\n",
              "      <th>1028</th>\n",
              "      <td>2021-04-19</td>\n",
              "      <td>68335.653077</td>\n",
              "      <td>Monday</td>\n",
              "    </tr>\n",
              "    <tr>\n",
              "      <th>1029</th>\n",
              "      <td>2021-04-20</td>\n",
              "      <td>68570.120544</td>\n",
              "      <td>Tuesday</td>\n",
              "    </tr>\n",
              "  </tbody>\n",
              "</table>\n",
              "</div>"
            ],
            "text/plain": [
              "            date  BTC_price_USD       day\n",
              "1025  2021-04-16   67632.250677    Friday\n",
              "1026  2021-04-17   67866.718144  Saturday\n",
              "1027  2021-04-18   68101.185610    Sunday\n",
              "1028  2021-04-19   68335.653077    Monday\n",
              "1029  2021-04-20   68570.120544   Tuesday"
            ]
          },
          "metadata": {
            "tags": []
          },
          "execution_count": 27
        }
      ]
    },
    {
      "cell_type": "code",
      "metadata": {
        "id": "vh8f-tE0Cc3U"
      },
      "source": [
        "engine = create_engine(conn, echo=False)"
      ],
      "execution_count": 28,
      "outputs": []
    },
    {
      "cell_type": "code",
      "metadata": {
        "id": "FOZXtU1qCeGA"
      },
      "source": [
        "predictions_df.to_sql(\"fb_predictions\", con=engine, if_exists = 'replace', index=False, method='multi')\n",
        "\n",
        "with engine.connect() as con:\n",
        "    con.execute('ALTER TABLE \"fb_predictions\" ADD PRIMARY KEY (\"BTC_price_USD\");')"
      ],
      "execution_count": 29,
      "outputs": []
    },
    {
      "cell_type": "code",
      "metadata": {
        "colab": {
          "base_uri": "https://localhost:8080/",
          "height": 873
        },
        "id": "xsk9a0Hd_43m",
        "outputId": "ebc4c556-7125-4e65-9dc2-36a8a5aa12a5"
      },
      "source": [
        "# Plot model components\n",
        "\n",
        "model.plot_components(predictions).savefig('modelcomponents.png')"
      ],
      "execution_count": 30,
      "outputs": [
        {
          "output_type": "display_data",
          "data": {
            "image/png": "[encoded data removed]",
            "text/plain": [
              "<Figure size 648x864 with 4 Axes>"
            ]
          },
          "metadata": {
            "tags": []
          }
        }
      ]
    }
  ]
}